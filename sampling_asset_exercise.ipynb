{
 "cells": [
  {
   "cell_type": "code",
   "execution_count": null,
   "id": "aca9a873-16d5-429d-861c-56711c802a91",
   "metadata": {
    "tags": []
   },
   "outputs": [],
   "source": [
    "import argparse\n",
    "import time\n",
    "import os\n",
    "os.chdir(os.path.abspath(os.path.join('./alo')))\n",
    "from src.alo import ALO\n",
    "alo = ALO(); alo.preset(); pipelines = list(alo.asset_source.keys())\n",
    "from src.external import external_load_data, external_save_artifacts\n",
    "\n",
    "# alo train workflow 초기 세팅 \n",
    "external_load_data(pipelines[0], alo.external_path, alo.external_path_permission, alo.control['get_external_data'])\n",
    "pipeline = pipelines[0]\n",
    "alo.install_steps(pipeline, alo.control[\"get_asset_source\"])\n",
    "# input asset 실행\n",
    "step = 0 \n",
    "input_args = alo.user_parameters[pipeline][step]['args'][0].copy()\n",
    "data_input, config_input = alo.process_asset_step(alo.asset_source[pipeline][step], step, pipeline, {}, {}, [input_args])"
   ]
  },
  {
   "cell_type": "markdown",
   "id": "85bf2b8a-f2be-4232-9623-11c7c7d84bd4",
   "metadata": {},
   "source": [
    "#### Data\n",
    "- boltfastening dataset\n",
    "- 경로: /nas001/users/sujin2.lee/share/techtalk_sampling_1030/train/\n",
    "- x_columns: 13개 (Count,Converted, Torque,angle_min,angle_mean,angle_median,angle_std,angle_max,torque_min,torque_mean,torque_median,torque_std,torque_max)\n",
    "- y_column: label\n",
    "- 총 데이터 수: 10100\n",
    "- 라벨 별 데이터 수: "
   ]
  },
  {
   "cell_type": "code",
   "execution_count": 2,
   "id": "f8b4ccf2-1434-4e0c-a09d-d2329d352a98",
   "metadata": {},
   "outputs": [
    {
     "data": {
      "text/plain": [
       "OK    10000\n",
       "NG      100\n",
       "Name: label, dtype: int64"
      ]
     },
     "execution_count": 2,
     "metadata": {},
     "output_type": "execute_result"
    }
   ],
   "source": [
    "data_input['dataframe']['label'].value_counts()"
   ]
  },
  {
   "cell_type": "markdown",
   "id": "92f478cf-f47b-41dd-9586-9eae1f2c2180",
   "metadata": {},
   "source": [
    "<br>\n",
    "\n",
    "### Sampling asset 사용법\n",
    "- sampling asset은 data imbalance를 해결하기 위한 under sampling과 over sampling(TBD) 방법론을 제공합니다.\n",
    "- sampling asset은 아래와 같은 방식으로 진행됩니다. \n",
    "    1. 데이터를 grouping하여 데이터 subgroup을 생성합니다.\n",
    "        - 데이터의 라벨과 입력한 그룹키 컬럼을 기준으로 데이터를 subgroup으로 나눕니다.\n",
    "        - 아래는 라벨과 그룹키 컬럼 모두 사용하여 subgroup을 나눈 case입니다.  \n",
    "\n",
    "<div style='text-align:center'><img src=\"techtalk_sampling.PNG\" width=\"500\" height=\"500\"/></div>\n",
    "        \n",
    "    2. 각 데이터 subgroup에 sampling 방법론을 적용합니다."
   ]
  },
  {
   "cell_type": "markdown",
   "id": "0817c8d2-87ab-4be4-bb6f-2f18774810f2",
   "metadata": {},
   "source": [
    "- sampling asset의 arguments 구성은 아래와 같습니다. \n",
    "    1. sampling 방법론 입력\n",
    "    2. subgrouping할 경우 라벨 또는 그룹키 컬럼 입력\n",
    "    3. sampling할 데이터 수 뽑는 방법 지정\n",
    "|sampling 수 뽑는 방법|설명|값 예시|\n",
    "|:---:|:---:|:---:|\n",
    "|ratio|입력한 비율로 데이터 샘플링|0.8 (0초과 1이하)|\n",
    "|number|입력한 숫자로 데이터 샘플링|500 (0초과)|\n",
    "|mingroup|subgroup있을 때) 가장 크기가 작은 subgroup 기준으로 샘플링|-|\n",
    "|compare|label기준 subgroup있을 때) 그룹 별 데이터를 입력한 값으로 비례하게 샘플링| {NG:1, OK:10} |"
   ]
  },
  {
   "cell_type": "markdown",
   "id": "84894f9e-d352-4309-914d-922d685ca385",
   "metadata": {},
   "source": [
    "<br>\n",
    "\n",
    "### Exercise\n",
    "#### 1. 데이터 전체에 sampling 적용하기\n",
    "- 데이터 subgroup 생성 없이 전체 데이터에 대해 under sampling을 적용할 때 조정해야하는 arguments는 다음과 같습니다.  \n",
    "|argument|설명|default 값|사용가능 값|\n",
    "|:---:|:---:|:---:|:---:|\n",
    "|sampling_type|sampling 유형을 선택합니다. |none(asset 사용x)|none, under, over(TBD)|\n",
    "|sampling_method|under sampling 방법론을 선택합니다.|random|random, cluster, negative|\n",
    "|sampling_num_type|샘플링 데이터 수 결정 방법을 지정합니다.|ratio|ratio,number,mingroup|\n",
    "|sampling_num|sampling_num_type의 인자를 입력합니다|0.8|위 sampling 데이터 수 지정 참고|  \n",
    "- 아래는 전체 데이터에 대해 random sampling을 적용하는 예제입니다.\n",
    "- sampling_args['argument 명'] = '값'을 입력하여 sampling asset의 arguments를 입력합니다."
   ]
  },
  {
   "cell_type": "code",
   "execution_count": 3,
   "id": "eca0d83d-515a-4ba5-9aef-1f2722cc714c",
   "metadata": {},
   "outputs": [],
   "source": [
    "step = 1\n",
    "sampling_args = alo.user_parameters[pipeline][step]['args'][0].copy()\n",
    "sampling_args['sampling_type'] = 'under'\n",
    "sampling_args['sampling_method'] = 'random'\n",
    "sampling_args['sampling_num_type'] = 'ratio'\n",
    "sampling_args['sampling_num'] = 0.8"
   ]
  },
  {
   "cell_type": "code",
   "execution_count": 4,
   "id": "d6134f66-d667-43a2-9135-2ece70303565",
   "metadata": {},
   "outputs": [
    {
     "data": {
      "text/plain": [
       "{'sampling_type': 'under',\n",
       " 'sampling_method': 'random',\n",
       " 'label_sampling': False,\n",
       " 'ignore_label_class': None,\n",
       " 'negative_target_class': None,\n",
       " 'label_sampling_num_type': None,\n",
       " 'label_sampling_num': None,\n",
       " 'sampling_groupkey_columns': None,\n",
       " 'sampling_num_type': 'ratio',\n",
       " 'sampling_num': 0.8}"
      ]
     },
     "execution_count": 4,
     "metadata": {},
     "output_type": "execute_result"
    }
   ],
   "source": [
    "sampling_args"
   ]
  },
  {
   "cell_type": "markdown",
   "id": "a1dc1780-855e-472f-868e-baf909969488",
   "metadata": {},
   "source": [
    "- sampling asset을 구동합니다"
   ]
  },
  {
   "cell_type": "code",
   "execution_count": 5,
   "id": "6d305b10-9728-4108-aa82-a169f6548137",
   "metadata": {
    "tags": []
   },
   "outputs": [
    {
     "name": "stderr",
     "output_type": "stream",
     "text": [
      "/home/jovyan/conda/envs/tcr1030/lib/python3.10/site-packages/tqdm/auto.py:21: TqdmWarning: IProgress not found. Please update jupyter and ipywidgets. See https://ipywidgets.readthedocs.io/en/stable/user_install.html\n",
      "  from .autonotebook import tqdm as notebook_tqdm\n"
     ]
    },
    {
     "name": "stdout",
     "output_type": "stream",
     "text": [
      "************************************************************\n",
      "************************************************************\n",
      "\u001b[92m>> Successfully got model path for saving or loading your AI model: \n",
      " /home/jovyan/project2023/TCR/231030/tcr/alo//.train_artifacts/models/sampling/\u001b[0m\n",
      "load configs 0.00143 sec\n",
      "make groupkey dataframe 0.00105 sec\n",
      "groupkey:('all',), 8080개 sampling 시작\n",
      "sampling process done 0.00357 sec\n",
      "sampling asset 종료\n"
     ]
    },
    {
     "name": "stderr",
     "output_type": "stream",
     "text": [
      "/home/jovyan/project2023/TCR/231030/tcr/alo/assets/sampling/asset_sampling.py:227: SettingWithCopyWarning: \n",
      "A value is trying to be set on a copy of a slice from a DataFrame\n",
      "\n",
      "See the caveats in the documentation: https://pandas.pydata.org/pandas-docs/stable/user_guide/indexing.html#returning-a-view-versus-a-copy\n",
      "  df['sampled'].loc[sampled_idx] = 1 # 'sampled' == 1일 때 sampling 된 것\n"
     ]
    }
   ],
   "source": [
    "data_sampling, config_sampling = alo.process_asset_step(alo.asset_source[pipeline][step], step, pipeline, data_input, config_input.copy(), [sampling_args])"
   ]
  },
  {
   "cell_type": "markdown",
   "id": "7daf964e-c867-42c6-94fb-693a1cfd4427",
   "metadata": {},
   "source": [
    "#### input data와 sampling 한 후 data shape 비교"
   ]
  },
  {
   "cell_type": "code",
   "execution_count": 6,
   "id": "3853bf50-e504-46dd-a640-0d5567714b02",
   "metadata": {},
   "outputs": [
    {
     "data": {
      "text/plain": [
       "(10100, 36)"
      ]
     },
     "execution_count": 6,
     "metadata": {},
     "output_type": "execute_result"
    }
   ],
   "source": [
    "data_input['dataframe'].shape"
   ]
  },
  {
   "cell_type": "code",
   "execution_count": 7,
   "id": "acddfb05-bfbc-4519-b70b-89c881f671cb",
   "metadata": {},
   "outputs": [
    {
     "data": {
      "text/plain": [
       "(8080, 37)"
      ]
     },
     "execution_count": 7,
     "metadata": {},
     "output_type": "execute_result"
    }
   ],
   "source": [
    "data_sampling['dataframe'].shape"
   ]
  },
  {
   "cell_type": "markdown",
   "id": "4b1dcfc2-9c0a-43ce-a02e-2ac420e76da2",
   "metadata": {},
   "source": [
    "<br>\n",
    "\n",
    "#### 2. 라벨 기준으로 데이터 subgroup 나누어 sampling 적용하기\n",
    "- 라벨 기준으로 subgroup을 생성하여 각 라벨 데이터에 under sampling을 적용할 때 조정해야하는 arguments는 다음과 같습니다.  \n",
    "|argument|설명|default 값|사용가능 값|\n",
    "|:---:|:---:|:---:|:---:|\n",
    "|sampling_type|sampling 유형을 선택합니다. |none(asset 사용x)|none, under, over(TBD)|\n",
    "|sampling_method|under sampling 방법론을 선택합니다.|random|random, cluster, negative|\n",
    "|label_sampling|label sampling 진행 여부를 선택합니다.|False(기능 사용x)|True, False|\n",
    "|ignore_label_class|특정 클래스에 대해 샘플링하지 않을 경우 지정합니다.|-|클래스 명 입력|  \n",
    "|label_sampling_num_type|샘플링 데이터 수 결정 방법을 지정합니다.|-|ratio,number,compare,mingroup|\n",
    "|label_sampling_num|label_sampling_num_type의 인자를 입력합니다.|-|위 sampling 수 지정 참고|\n",
    "- 아래는 NG라벨은 샘플링 하지 않고, OK라벨 데이터를 NG라벨의 10배 cluster sampling하는 예제입니다. \n",
    "- sampling_args['argument 명'] = '값'을 입력하여 sampling asset의 arguments를 입력합니다."
   ]
  },
  {
   "cell_type": "code",
   "execution_count": 8,
   "id": "bf17c096-5b8c-4ff2-b6ce-a1a5fd46b0e2",
   "metadata": {},
   "outputs": [],
   "source": [
    "step = 1\n",
    "sampling_args = alo.user_parameters[pipeline][step]['args'][0].copy()\n",
    "sampling_args['sampling_type'] = 'under'\n",
    "sampling_args['sampling_method'] = 'cluster'\n",
    "sampling_args['label_sampling'] = True\n",
    "sampling_args['ignore_label_class'] = 'NG'\n",
    "sampling_args['label_sampling_num_type'] = 'compare'\n",
    "sampling_args['label_sampling_num'] = {'NG':1,'OK':10}"
   ]
  },
  {
   "cell_type": "code",
   "execution_count": 9,
   "id": "6aeab496-0ba2-4d3c-827f-71f77f5b1f4b",
   "metadata": {},
   "outputs": [
    {
     "data": {
      "text/plain": [
       "{'sampling_type': 'under',\n",
       " 'sampling_method': 'cluster',\n",
       " 'label_sampling': True,\n",
       " 'ignore_label_class': 'NG',\n",
       " 'negative_target_class': None,\n",
       " 'label_sampling_num_type': 'compare',\n",
       " 'label_sampling_num': {'NG': 1, 'OK': 10},\n",
       " 'sampling_groupkey_columns': None,\n",
       " 'sampling_num_type': 'ratio',\n",
       " 'sampling_num': 0.8}"
      ]
     },
     "execution_count": 9,
     "metadata": {},
     "output_type": "execute_result"
    }
   ],
   "source": [
    "sampling_args"
   ]
  },
  {
   "cell_type": "markdown",
   "id": "eebd42fd-de91-4e29-b481-eb95651e4f16",
   "metadata": {},
   "source": [
    "- sampling asset을 구동합니다"
   ]
  },
  {
   "cell_type": "code",
   "execution_count": 10,
   "id": "417fd5e7-3eb3-4d8f-ad68-ffaa5d154990",
   "metadata": {
    "tags": []
   },
   "outputs": [
    {
     "name": "stdout",
     "output_type": "stream",
     "text": [
      "************************************************************\n",
      "************************************************************\n",
      "\u001b[92m>> Successfully got model path for saving or loading your AI model: \n",
      " /home/jovyan/project2023/TCR/231030/tcr/alo//.train_artifacts/models/sampling/\u001b[0m\n",
      "load configs 0.00105 sec\n",
      "make groupkey dataframe 0.00819 sec\n",
      "standardization & embedding 28.88688 sec\n",
      "groupkey:('OK',), 1000개 sampling 시작\n",
      "cluster sampling start\n",
      "cluster0 - eps:0.5, ms:2\n",
      "0.06624 sec\n",
      "cluster1 - eps:0.7, ms:2\n",
      "0.07210 sec\n",
      "cluster2 - eps:1, ms:2\n",
      "0.08425 sec\n",
      "cluster3 - eps:1.2, ms:2\n",
      "0.09193 sec\n",
      "cluster4 - eps:0.5, ms:3\n",
      "0.06257 sec\n",
      "cluster5 - eps:0.7, ms:3\n",
      "0.07084 sec\n",
      "cluster6 - eps:1, ms:3\n",
      "0.08261 sec\n",
      "cluster7 - eps:1.2, ms:3\n",
      "0.09072 sec\n",
      "clusterng & hpo end 0.62163 sec\n",
      "plotting 0.51503 sec\n",
      "sampling process done 30.04671 sec\n",
      "sampling asset 종료\n"
     ]
    },
    {
     "name": "stderr",
     "output_type": "stream",
     "text": [
      "/home/jovyan/project2023/TCR/231030/tcr/alo/assets/sampling/asset_sampling.py:227: SettingWithCopyWarning: \n",
      "A value is trying to be set on a copy of a slice from a DataFrame\n",
      "\n",
      "See the caveats in the documentation: https://pandas.pydata.org/pandas-docs/stable/user_guide/indexing.html#returning-a-view-versus-a-copy\n",
      "  df['sampled'].loc[sampled_idx] = 1 # 'sampled' == 1일 때 sampling 된 것\n"
     ]
    },
    {
     "data": {
      "image/png": "[encoded data removed]",
      "text/plain": [
       "<Figure size 700x700 with 1 Axes>"
      ]
     },
     "metadata": {},
     "output_type": "display_data"
    }
   ],
   "source": [
    "data_sampling, config_sampling = alo.process_asset_step(alo.asset_source[pipeline][step], step, pipeline, data_input, config_input.copy(), [sampling_args])"
   ]
  },
  {
   "cell_type": "markdown",
   "id": "15a13f5e-ac3e-46a3-868d-e34d9ae53408",
   "metadata": {},
   "source": [
    "#### input data와 sampling 한 후 data shape 비교"
   ]
  },
  {
   "cell_type": "code",
   "execution_count": 11,
   "id": "4c215151-0d2d-4718-8e02-cb916eac9b2f",
   "metadata": {},
   "outputs": [
    {
     "data": {
      "text/plain": [
       "(10100, 36)"
      ]
     },
     "execution_count": 11,
     "metadata": {},
     "output_type": "execute_result"
    }
   ],
   "source": [
    "data_input['dataframe'].shape"
   ]
  },
  {
   "cell_type": "code",
   "execution_count": 12,
   "id": "6d1a6522-ae85-44ba-acd9-7adbf101fccd",
   "metadata": {},
   "outputs": [
    {
     "data": {
      "text/plain": [
       "(1100, 37)"
      ]
     },
     "execution_count": 12,
     "metadata": {},
     "output_type": "execute_result"
    }
   ],
   "source": [
    "data_sampling['dataframe'].shape"
   ]
  },
  {
   "cell_type": "code",
   "execution_count": 13,
   "id": "19e2114f-0f2f-4007-937e-a6aee0b9ada0",
   "metadata": {},
   "outputs": [
    {
     "data": {
      "text/plain": [
       "OK    1000\n",
       "NG     100\n",
       "Name: label, dtype: int64"
      ]
     },
     "execution_count": 13,
     "metadata": {},
     "output_type": "execute_result"
    }
   ],
   "source": [
    "data_sampling['dataframe']['label'].value_counts()"
   ]
  },
  {
   "cell_type": "markdown",
   "id": "b042f0b4-c441-4ae9-889c-6ef68c7c9e6e",
   "metadata": {},
   "source": [
    "<br>\n",
    "\n",
    "#### 3. 그룹키 기준으로 데이터 subgroup 나누어 sampling 적용하기\n",
    "- 그룹키 기준으로 subgroup을 생성하여 각 그룹 데이터에 under sampling을 적용할 때 조정해야하는 arguments는 다음과 같습니다.  \n",
    "|argument|설명|default 값|사용가능 값|\n",
    "|:---:|:---:|:---:|:---:|\n",
    "|sampling_type|sampling 유형을 선택합니다. |none(asset 사용x)|none, under, over(TBD)|\n",
    "|sampling_method|under sampling 방법론을 선택합니다.|random|random, cluster, negative|\n",
    "|sampling_groupkey_columns|그룹키로 지정할 컬럼을 입력합니다.(3개 까지 가능)|-|컬럼 명 입력|\n",
    "|sampling_num_type|샘플링 데이터 수 결정 방법을 지정합니다.|-|ratio,number,compare,mingroup|\n",
    "|sampling_num|sampling_num_type 인자를 입력합니다.|-|위 sampling 수 지정 참고|\n",
    "- 아래는 그룹키 컬럼을 기준으로 입력한 데이터 수 만큼 random sampling을 진행하는 예제입니다.\n",
    "- sampling_args['argument 명'] = '값'을 입력하여 sampling asset의 arguments를 입력합니다."
   ]
  },
  {
   "cell_type": "code",
   "execution_count": 14,
   "id": "715e106a-9cd9-4528-bcfd-d8186b397a88",
   "metadata": {},
   "outputs": [],
   "source": [
    "step = 1\n",
    "sampling_args = alo.user_parameters[pipeline][step]['args'][0].copy()\n",
    "sampling_args['sampling_type'] = 'under'\n",
    "sampling_args['sampling_method'] = 'random'\n",
    "sampling_args['sampling_groupkey_columns'] = 'groupkey'\n",
    "sampling_args['sampling_num_type'] = 'number'\n",
    "sampling_args['sampling_num'] = 500"
   ]
  },
  {
   "cell_type": "code",
   "execution_count": 15,
   "id": "4dbaa5da-f557-43ac-b8ff-53c4cd26ca03",
   "metadata": {},
   "outputs": [
    {
     "data": {
      "text/plain": [
       "{'sampling_type': 'under',\n",
       " 'sampling_method': 'random',\n",
       " 'label_sampling': False,\n",
       " 'ignore_label_class': None,\n",
       " 'negative_target_class': None,\n",
       " 'label_sampling_num_type': None,\n",
       " 'label_sampling_num': None,\n",
       " 'sampling_groupkey_columns': 'groupkey',\n",
       " 'sampling_num_type': 'number',\n",
       " 'sampling_num': 500}"
      ]
     },
     "execution_count": 15,
     "metadata": {},
     "output_type": "execute_result"
    }
   ],
   "source": [
    "sampling_args"
   ]
  },
  {
   "cell_type": "markdown",
   "id": "f34a6d07-fae9-4967-b4df-9f487737ede6",
   "metadata": {},
   "source": [
    "- sampling asset을 구동합니다"
   ]
  },
  {
   "cell_type": "code",
   "execution_count": 16,
   "id": "c9b2d0cb-a55c-4474-a00a-b21172da6d3f",
   "metadata": {
    "tags": []
   },
   "outputs": [
    {
     "name": "stdout",
     "output_type": "stream",
     "text": [
      "************************************************************\n",
      "************************************************************\n",
      "\u001b[92m>> Successfully got model path for saving or loading your AI model: \n",
      " /home/jovyan/project2023/TCR/231030/tcr/alo//.train_artifacts/models/sampling/\u001b[0m\n",
      "load configs 0.00035 sec\n",
      "make groupkey dataframe 0.00791 sec\n",
      "groupkey:('g2',), 500개 sampling 시작\n",
      "groupkey:('g3',), 500개 sampling 시작\n",
      "groupkey:('g1',), 500개 sampling 시작\n",
      "sampling process done 0.00200 sec\n",
      "sampling asset 종료\n"
     ]
    },
    {
     "name": "stderr",
     "output_type": "stream",
     "text": [
      "/home/jovyan/project2023/TCR/231030/tcr/alo/assets/sampling/asset_sampling.py:227: SettingWithCopyWarning: \n",
      "A value is trying to be set on a copy of a slice from a DataFrame\n",
      "\n",
      "See the caveats in the documentation: https://pandas.pydata.org/pandas-docs/stable/user_guide/indexing.html#returning-a-view-versus-a-copy\n",
      "  df['sampled'].loc[sampled_idx] = 1 # 'sampled' == 1일 때 sampling 된 것\n"
     ]
    }
   ],
   "source": [
    "data_sampling, config_sampling = alo.process_asset_step(alo.asset_source[pipeline][step], step, pipeline, data_input, config_input.copy(), [sampling_args])"
   ]
  },
  {
   "cell_type": "markdown",
   "id": "bf8d7a94-f143-492e-ad12-901b1e1f8bbe",
   "metadata": {},
   "source": [
    "#### input data와 sampling 한 후 data shape 비교"
   ]
  },
  {
   "cell_type": "code",
   "execution_count": 17,
   "id": "ca3af8d0-4ab9-408a-994a-c39687f82828",
   "metadata": {},
   "outputs": [
    {
     "data": {
      "text/plain": [
       "(10100, 36)"
      ]
     },
     "execution_count": 17,
     "metadata": {},
     "output_type": "execute_result"
    }
   ],
   "source": [
    "data_input['dataframe'].shape"
   ]
  },
  {
   "cell_type": "code",
   "execution_count": 18,
   "id": "7bfd883a-97db-4a5d-a0fb-0e3396503d5d",
   "metadata": {},
   "outputs": [
    {
     "data": {
      "text/plain": [
       "g3    3535\n",
       "g2    3535\n",
       "g1    3030\n",
       "Name: groupkey, dtype: int64"
      ]
     },
     "execution_count": 18,
     "metadata": {},
     "output_type": "execute_result"
    }
   ],
   "source": [
    "data_input['dataframe']['groupkey'].value_counts()"
   ]
  },
  {
   "cell_type": "code",
   "execution_count": 19,
   "id": "0a9dd88a-493d-4b71-afeb-e0b8db9b147b",
   "metadata": {},
   "outputs": [
    {
     "data": {
      "text/plain": [
       "(1500, 37)"
      ]
     },
     "execution_count": 19,
     "metadata": {},
     "output_type": "execute_result"
    }
   ],
   "source": [
    "data_sampling['dataframe'].shape"
   ]
  },
  {
   "cell_type": "code",
   "execution_count": 20,
   "id": "a7905554-a68f-471b-b606-393ee082cb52",
   "metadata": {},
   "outputs": [
    {
     "data": {
      "text/plain": [
       "g3    500\n",
       "g2    500\n",
       "g1    500\n",
       "Name: groupkey, dtype: int64"
      ]
     },
     "execution_count": 20,
     "metadata": {},
     "output_type": "execute_result"
    }
   ],
   "source": [
    "data_sampling['dataframe']['groupkey'].value_counts()"
   ]
  },
  {
   "cell_type": "markdown",
   "id": "c839be21-abbc-4bb9-a875-6be830e942af",
   "metadata": {},
   "source": [
    "<br>\n",
    "\n",
    "#### 4. 라벨과 그룹키 기준으로 데이터 subgroup 나누어 sampling 적용하기\n",
    "- 라벨과 그룹키 기준으로 subgroup을 생성하여 각 그룹 데이터에 under sampling을 적용할 때 조정해야하는 arguments는 다음과 같습니다.  \n",
    "|argument|설명|default 값|사용가능 값|\n",
    "|:---:|:---:|:---:|:---:|\n",
    "|sampling_type|sampling 유형을 선택합니다. |none(asset 사용x)|none, under, over(TBD)|\n",
    "|sampling_method|under sampling 방법론을 선택합니다.|random|random, cluster, negative|\n",
    "|label_sampling|label sampling 진행 여부를 선택합니다.|False(기능 사용x)|True, False|\n",
    "|ignore_label_class|특정 클래스에 대해 샘플링하지 않을 경우 지정합니다.|-|클래스 명 입력|  \n",
    "|label_sampling_num_type|샘플링 데이터 수 결정 방법을 지정합니다.|-|ratio,number,compare,mingroup|\n",
    "|label_sampling_num|label_sampling_num_type의 인자를 입력합니다.|-|위 sampling 수 지정 참고|\n",
    "|sampling_groupkey_columns|그룹키로 지정할 컬럼을 입력합니다.(3개 까지 가능)|-|컬럼 명 입력|\n",
    "|sampling_num_type|샘플링 데이터 수 결정 방법을 지정합니다.|-|ratio,number,compare,mingroup|\n",
    "|sampling_num|sampling_num_type 인자를 입력합니다.|-|위 sampling 수 지정 참고|\n",
    "- 아래는 다음과 같은 룰이 적용된 random sampling 방법 예제입니다. \n",
    "    - NG 데이터는 샘플링 하지 않고 OK데이터는 NG데이터의 2배가 되도록 함\n",
    "    - OK 데이터의 경우 입력한 그룹키 컬럼 별로 동일하게 샘플링을 진행함\n",
    "- sampling_args['argument 명'] = '값'을 입력하여 sampling asset의 arguments를 입력합니다."
   ]
  },
  {
   "cell_type": "code",
   "execution_count": 21,
   "id": "b58fcb38-a7da-4610-83b2-da2ddf0b138f",
   "metadata": {},
   "outputs": [],
   "source": [
    "step = 1\n",
    "sampling_args = alo.user_parameters[pipeline][step]['args'][0].copy()\n",
    "sampling_args['sampling_type'] = 'under'\n",
    "sampling_args['sampling_method'] = 'random'\n",
    "sampling_args['label_sampling'] = True\n",
    "sampling_args['ignore_label_class'] = 'NG'\n",
    "sampling_args['label_sampling_num_type'] = 'compare'\n",
    "sampling_args['label_sampling_num'] = {'NG':1,'OK':2}\n",
    "sampling_args['sampling_groupkey_columns'] = 'groupkey'\n",
    "sampling_args['sampling_num_type'] = 'mingroup'"
   ]
  },
  {
   "cell_type": "code",
   "execution_count": 22,
   "id": "55b7b6fb-49e6-4494-bd36-e03890f21878",
   "metadata": {},
   "outputs": [
    {
     "data": {
      "text/plain": [
       "{'sampling_type': 'under',\n",
       " 'sampling_method': 'random',\n",
       " 'label_sampling': True,\n",
       " 'ignore_label_class': 'NG',\n",
       " 'negative_target_class': None,\n",
       " 'label_sampling_num_type': 'compare',\n",
       " 'label_sampling_num': {'NG': 1, 'OK': 2},\n",
       " 'sampling_groupkey_columns': 'groupkey',\n",
       " 'sampling_num_type': 'mingroup',\n",
       " 'sampling_num': 0.8}"
      ]
     },
     "execution_count": 22,
     "metadata": {},
     "output_type": "execute_result"
    }
   ],
   "source": [
    "sampling_args"
   ]
  },
  {
   "cell_type": "markdown",
   "id": "e68d4641-5a92-49d5-8a08-e86515d265b7",
   "metadata": {},
   "source": [
    "- sampling asset을 구동합니다"
   ]
  },
  {
   "cell_type": "code",
   "execution_count": 23,
   "id": "b3779244-1210-4f03-8068-dc525ae24583",
   "metadata": {
    "tags": []
   },
   "outputs": [
    {
     "name": "stdout",
     "output_type": "stream",
     "text": [
      "************************************************************\n",
      "************************************************************\n",
      "\u001b[92m>> Successfully got model path for saving or loading your AI model: \n",
      " /home/jovyan/project2023/TCR/231030/tcr/alo//.train_artifacts/models/sampling/\u001b[0m\n",
      "load configs 0.00054 sec\n",
      "make groupkey dataframe 0.01902 sec\n",
      "groupkey:('OK', 'g2'), 67개 sampling 시작\n",
      "groupkey:('OK', 'g3'), 67개 sampling 시작\n",
      "groupkey:('OK', 'g1'), 67개 sampling 시작\n",
      "sampling process done 0.00156 sec\n",
      "sampling asset 종료\n"
     ]
    },
    {
     "name": "stderr",
     "output_type": "stream",
     "text": [
      "/home/jovyan/project2023/TCR/231030/tcr/alo/assets/sampling/asset_sampling.py:227: SettingWithCopyWarning: \n",
      "A value is trying to be set on a copy of a slice from a DataFrame\n",
      "\n",
      "See the caveats in the documentation: https://pandas.pydata.org/pandas-docs/stable/user_guide/indexing.html#returning-a-view-versus-a-copy\n",
      "  df['sampled'].loc[sampled_idx] = 1 # 'sampled' == 1일 때 sampling 된 것\n"
     ]
    }
   ],
   "source": [
    "data_sampling, config_sampling = alo.process_asset_step(alo.asset_source[pipeline][step], step, pipeline, data_input, config_input.copy(), [sampling_args])"
   ]
  },
  {
   "cell_type": "markdown",
   "id": "ef876eb9-9a80-47a1-b454-8703f8a68813",
   "metadata": {},
   "source": [
    "#### input data와 sampling 한 후 data shape 비교"
   ]
  },
  {
   "cell_type": "code",
   "execution_count": 24,
   "id": "56ae2707-edeb-4753-9718-1c5538214157",
   "metadata": {},
   "outputs": [
    {
     "data": {
      "text/plain": [
       "(10100, 36)"
      ]
     },
     "execution_count": 24,
     "metadata": {},
     "output_type": "execute_result"
    }
   ],
   "source": [
    "data_input['dataframe'].shape"
   ]
  },
  {
   "cell_type": "code",
   "execution_count": 25,
   "id": "108c8399-11e4-4d88-9860-b6fb9f0dcef6",
   "metadata": {},
   "outputs": [
    {
     "data": {
      "text/plain": [
       "label  groupkey\n",
       "OK     g2          3501\n",
       "       g3          3500\n",
       "       g1          2999\n",
       "NG     g3            35\n",
       "       g2            34\n",
       "       g1            31\n",
       "dtype: int64"
      ]
     },
     "execution_count": 25,
     "metadata": {},
     "output_type": "execute_result"
    }
   ],
   "source": [
    "data_input['dataframe'][['label','groupkey']].value_counts()"
   ]
  },
  {
   "cell_type": "code",
   "execution_count": 26,
   "id": "7a8d013b-786d-4ba4-bf03-0e8c0bb1cd14",
   "metadata": {},
   "outputs": [
    {
     "data": {
      "text/plain": [
       "(301, 37)"
      ]
     },
     "execution_count": 26,
     "metadata": {},
     "output_type": "execute_result"
    }
   ],
   "source": [
    "data_sampling['dataframe'].shape"
   ]
  },
  {
   "cell_type": "code",
   "execution_count": 27,
   "id": "008c9b86-c2ef-4772-b3f5-0a49f322f766",
   "metadata": {},
   "outputs": [
    {
     "data": {
      "text/plain": [
       "label  groupkey\n",
       "OK     g2          67\n",
       "       g1          67\n",
       "       g3          67\n",
       "NG     g3          35\n",
       "       g2          34\n",
       "       g1          31\n",
       "dtype: int64"
      ]
     },
     "execution_count": 27,
     "metadata": {},
     "output_type": "execute_result"
    }
   ],
   "source": [
    "data_sampling['dataframe'][['label','groupkey']].value_counts()"
   ]
  }
 ],
 "metadata": {
  "kernelspec": {
   "display_name": "tcr1030",
   "language": "python",
   "name": "tcr1030"
  },
  "language_info": {
   "codemirror_mode": {
    "name": "ipython",
    "version": 3
   },
   "file_extension": ".py",
   "mimetype": "text/x-python",
   "name": "python",
   "nbconvert_exporter": "python",
   "pygments_lexer": "ipython3",
   "version": "3.10.13"
  }
 },
 "nbformat": 4,
 "nbformat_minor": 5
}
