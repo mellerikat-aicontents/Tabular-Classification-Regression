{
 "cells": [
  {
   "cell_type": "markdown",
   "id": "340d4f25-84b8-43ea-9810-81f4af43110c",
   "metadata": {
    "tags": []
   },
   "source": [
    "# Welcome to Tabular Classification/Regression\n",
    "\n",
    "## This is the user guide notebook for Preprocess asset\n",
    "\n",
    "## According to guide notebooks, find your own arguments."
   ]
  },
  {
   "cell_type": "code",
   "execution_count": 1,
   "id": "65a27c34-1d0d-47fb-ae6d-6fe389dc0bfe",
   "metadata": {
    "tags": []
   },
   "outputs": [],
   "source": [
    "from wrapping import Wrapper"
   ]
  },
  {
   "cell_type": "code",
   "execution_count": 2,
   "id": "874810ac-7730-4d99-82d3-81d68f1c1234",
   "metadata": {
    "scrolled": true,
    "tags": []
   },
   "outputs": [
    {
     "name": "stdout",
     "output_type": "stream",
     "text": [
      "\u001b[94m[2023-11-30 06:54:51,036][PROCESS][INFO]: Successfully loaded experimental plan yaml: \n",
      " /home/jovyan/project2023/TCR/231130/tcr/alo/config/preps_experimental_plan.yaml\u001b[0m\n",
      "\u001b[92m[2023-11-30 06:54:51,039][PROCESS][INFO]: Successfully loaded << experimental_plan.yaml >> from: \n",
      " /home/jovyan/project2023/TCR/231130/tcr/alo/config/preps_experimental_plan.yaml\u001b[0m\n",
      "\u001b[92m[2023-11-30 06:54:51,064][PROCESS][INFO]: Success versioning up experimental_plan.yaml : 2.0 --> 2.1 (version ref. : compare yaml version)\u001b[0m\n",
      "\u001b[93m[2023-11-30 06:54:51,069][PROCESS][WARNING]: You did not write any << s3_private_key_file >> in the config yaml file. When you wanna get data from s3 storage, \n",
      "                                 you have to write the s3_private_key_file path or set << AWS_ACCESS_KEY_ID, AWS_SECRET_ACCESS_KEY >> in your os environment. \n",
      "\u001b[0m\n",
      "\u001b[94m[2023-11-30 06:54:51,072][PROCESS][INFO]: Skip loading external data. All the data in the external load data path already exist in << /home/jovyan/project2023/TCR/231130/tcr/alo/input/ >> equally. \n",
      " : << external_base_dirs >>\u001b[0m\n",
      "\u001b[94m[2023-11-30 06:54:51,073][PROCESS][INFO]: Start setting-up << input >> asset @ << assets >> directory.\u001b[0m\n",
      "\u001b[94m[2023-11-30 06:54:51,076][PROCESS][INFO]: << input >> asset had already been created at 2023-11-30 05:56:54.930078\u001b[0m\n",
      "\u001b[94m[2023-11-30 06:54:51,079][PROCESS][INFO]: Start setting-up << preprocess >> asset @ << assets >> directory.\u001b[0m\n",
      "\u001b[94m[2023-11-30 06:54:51,081][PROCESS][INFO]: << preprocess >> asset had already been created at 2023-11-30 05:57:09.062186\u001b[0m\n",
      "\u001b[94m[2023-11-30 06:54:51,083][PROCESS][INFO]: Start setting-up << train >> asset @ << assets >> directory.\u001b[0m\n",
      "\u001b[94m[2023-11-30 06:54:51,085][PROCESS][INFO]: << train >> asset had already been created at 2023-11-30 06:42:49.926416\u001b[0m\n",
      "\u001b[94m[2023-11-30 06:54:51,089][PROCESS][INFO]: >>> Ignored installing << pandas==1.5.3 >>. Another version would be installed in the previous step.\u001b[0m\n",
      "\u001b[94m[2023-11-30 06:54:51,091][PROCESS][INFO]: >>> Ignored installing << numpy==1.25.2 >>. Another version would be installed in the previous step.\u001b[0m\n",
      "\u001b[94m[2023-11-30 06:54:51,093][PROCESS][INFO]: >>> Ignored installing << pandas==1.5.3 >>. Another version would be installed in the previous step.\u001b[0m\n",
      "\u001b[94m[2023-11-30 06:54:51,095][PROCESS][INFO]: >>> Ignored installing << scikit-learn >>. Another version would be installed in the previous step.\u001b[0m\n",
      "\u001b[94m[2023-11-30 06:54:51,098][PROCESS][INFO]: ======================================== Start dependency installation : << input >> \u001b[0m\n",
      "\u001b[94m[2023-11-30 06:54:51,100][PROCESS][INFO]: Start checking existence & installing package - pandas==1.5.3 | Progress: ( 1 / 12 total packages ) \u001b[0m\n",
      "\u001b[92m[2023-11-30 06:54:51,103][PROCESS][INFO]: [OK] << pandas==1.5.3 >> already exists\u001b[0m\n",
      "\u001b[94m[2023-11-30 06:54:51,106][PROCESS][INFO]: ======================================== Start dependency installation : << preprocess >> \u001b[0m\n",
      "\u001b[94m[2023-11-30 06:54:51,108][PROCESS][INFO]: Start checking existence & installing package - numpy==1.25.2 | Progress: ( 2 / 12 total packages ) \u001b[0m\n",
      "\u001b[92m[2023-11-30 06:54:51,111][PROCESS][INFO]: [OK] << numpy==1.25.2 >> already exists\u001b[0m\n",
      "\u001b[94m[2023-11-30 06:54:51,114][PROCESS][INFO]: Start checking existence & installing package - scikit-learn | Progress: ( 3 / 12 total packages ) \u001b[0m\n",
      "\u001b[92m[2023-11-30 06:54:51,116][PROCESS][INFO]: [OK] << scikit-learn >> already exists\u001b[0m\n",
      "\u001b[94m[2023-11-30 06:54:51,118][PROCESS][INFO]: ======================================== Start dependency installation : << train >> \u001b[0m\n",
      "\u001b[94m[2023-11-30 06:54:51,121][PROCESS][INFO]: Start checking existence & installing package - matplotlib | Progress: ( 4 / 12 total packages ) \u001b[0m\n",
      "\u001b[92m[2023-11-30 06:54:51,123][PROCESS][INFO]: [OK] << matplotlib >> already exists\u001b[0m\n",
      "\u001b[94m[2023-11-30 06:54:51,125][PROCESS][INFO]: Start checking existence & installing package - seaborn | Progress: ( 5 / 12 total packages ) \u001b[0m\n",
      "\u001b[92m[2023-11-30 06:54:51,128][PROCESS][INFO]: [OK] << seaborn >> already exists\u001b[0m\n",
      "\u001b[94m[2023-11-30 06:54:51,130][PROCESS][INFO]: Start checking existence & installing package - shap | Progress: ( 6 / 12 total packages ) \u001b[0m\n",
      "\u001b[92m[2023-11-30 06:54:51,132][PROCESS][INFO]: [OK] << shap >> already exists\u001b[0m\n",
      "\u001b[94m[2023-11-30 06:54:51,134][PROCESS][INFO]: Start checking existence & installing package - lightgbm | Progress: ( 7 / 12 total packages ) \u001b[0m\n",
      "\u001b[92m[2023-11-30 06:54:51,137][PROCESS][INFO]: [OK] << lightgbm >> already exists\u001b[0m\n",
      "\u001b[94m[2023-11-30 06:54:51,139][PROCESS][INFO]: Start checking existence & installing package - catboost | Progress: ( 8 / 12 total packages ) \u001b[0m\n",
      "\u001b[92m[2023-11-30 06:54:51,141][PROCESS][INFO]: [OK] << catboost >> already exists\u001b[0m\n",
      "\u001b[94m[2023-11-30 06:54:51,143][PROCESS][INFO]: Start checking existence & installing package - ngboost | Progress: ( 9 / 12 total packages ) \u001b[0m\n",
      "\u001b[92m[2023-11-30 06:54:51,145][PROCESS][INFO]: [OK] << ngboost >> already exists\u001b[0m\n",
      "\u001b[94m[2023-11-30 06:54:51,147][PROCESS][INFO]: Start checking existence & installing package - numba==0.58.0 | Progress: ( 10 / 12 total packages ) \u001b[0m\n",
      "\u001b[92m[2023-11-30 06:54:51,149][PROCESS][INFO]: [OK] << numba==0.58.0 >> already exists\u001b[0m\n",
      "\u001b[94m[2023-11-30 06:54:51,151][PROCESS][INFO]: Start checking existence & installing package - missingno | Progress: ( 11 / 12 total packages ) \u001b[0m\n",
      "\u001b[92m[2023-11-30 06:54:51,153][PROCESS][INFO]: [OK] << missingno >> already exists\u001b[0m\n",
      "\u001b[94m[2023-11-30 06:54:51,156][PROCESS][INFO]: ======================================== Start dependency installation : << force-reinstall >> \u001b[0m\n",
      "\u001b[94m[2023-11-30 06:54:51,157][PROCESS][INFO]: Start checking existence & installing package - numpy==1.25.2 --force-reinstall | Progress: ( 12 / 12 total packages ) \u001b[0m\n",
      "\u001b[94m[2023-11-30 06:54:51,159][PROCESS][INFO]: >>> Start installing package - numpy==1.25.2 --force-reinstall\u001b[0m\n",
      "Collecting numpy==1.25.2\n",
      "  Using cached numpy-1.25.2-cp310-cp310-manylinux_2_17_x86_64.manylinux2014_x86_64.whl.metadata (5.6 kB)\n",
      "Using cached numpy-1.25.2-cp310-cp310-manylinux_2_17_x86_64.manylinux2014_x86_64.whl (18.2 MB)\n",
      "Installing collected packages: numpy\n",
      "  Attempting uninstall: numpy\n",
      "    Found existing installation: numpy 1.25.2\n",
      "    Uninstalling numpy-1.25.2:\n",
      "      Successfully uninstalled numpy-1.25.2\n"
     ]
    },
    {
     "name": "stderr",
     "output_type": "stream",
     "text": [
      "\u001b[33m  WARNING: Failed to remove contents in a temporary directory '/home/jovyan/conda/envs/tcr1130_2/lib/python3.10/site-packages/~0mpy.libs'.\n",
      "  You can safely remove it manually.\u001b[0m\u001b[33m\n",
      "\u001b[0m"
     ]
    },
    {
     "name": "stdout",
     "output_type": "stream",
     "text": [
      "Successfully installed numpy-1.25.2\n",
      "\u001b[94m[2023-11-30 06:55:06,005][PROCESS][INFO]: ======================================== Finish dependency installation \n",
      "\u001b[0m\n"
     ]
    },
    {
     "name": "stderr",
     "output_type": "stream",
     "text": [
      "\u001b[33m  WARNING: Failed to remove contents in a temporary directory '/home/jovyan/conda/envs/tcr1130_2/lib/python3.10/site-packages/~0mpy'.\n",
      "  You can safely remove it manually.\u001b[0m\u001b[33m\n",
      "\u001b[0m"
     ]
    }
   ],
   "source": [
    "wrapper = Wrapper(0, exp_plan_file='preps_experimental_plan.yaml')"
   ]
  },
  {
   "cell_type": "code",
   "execution_count": 3,
   "id": "03fd1bdc-f2a0-403e-ad37-a94c9d3edf70",
   "metadata": {
    "tags": []
   },
   "outputs": [
    {
     "name": "stderr",
     "output_type": "stream",
     "text": [
      "[2023-11-30 06:55:06,033][USER][INFO][train_pipeline][input]: >> Load path : ['/home/jovyan/project2023/TCR/231130/tcr/alo/input/train/preps_train/']\n",
      "[2023-11-30 06:55:06,045][USER][INFO][train_pipeline][input]: >> The file for batch data has been loaded. (File name: /home/jovyan/project2023/TCR/231130/tcr/alo/input/train/preps_train/titanic_train.csv)\n",
      "[2023-11-30 06:55:06,050][USER][INFO][train_pipeline][input]: ==================== Success loading dataframe ====================\n",
      "[2023-11-30 06:55:06,052][USER][INFO][train_pipeline][input]: >> Drop columns from the input dataframe when set << auto >> mode or specified in the << drop_columns >> in config yaml. (dropped colums:[])\n",
      "[2023-11-30 06:55:06,054][USER][INFO][train_pipeline][input]: >> Start processing ignore columns & drop columns: ['/home/jovyan/project2023/TCR/231130/tcr/alo/input/train/preps_train/titanic_train.csv']\n"
     ]
    },
    {
     "name": "stdout",
     "output_type": "stream",
     "text": [
      "\u001b[94m[2023-11-30 06:55:06,030][ASSET][INFO][train_pipeline][input]: \n",
      "\n",
      "============================= ASSET START =============================\n",
      "- time (UTC)        : 2023-11-30 06:55:06\n",
      "- current step      : input\n",
      "- asset branch.     : tabular_2.0\n",
      "- alolib ver.       : 2.1\n",
      "- alo ver.          : 2.1\n",
      "- load envs. keys   : dict_keys(['project_home', 'solution_metadata_version', 'artifacts', 'alo_version', 'interface_mode', 'proc_start_time', 'save_train_artifacts_path', 'save_inference_artifacts_path', 'pipeline', 'step', 'num_step', 'asset_branch', 'load_data', 'load_config', 'save_data', 'save_config', 'log_file_path'])\n",
      "- load args. keys   : dict_keys(['input_path', 'x_columns', 'use_all_x', 'y_column', 'groupkey_columns', 'drop_columns', 'time_column', 'concat_dataframes', 'encoding'])\n",
      "- load config. keys : dict_keys(['meta'])\n",
      "- load data keys    : dict_keys([])\n",
      "=======================================================================\n",
      "\n",
      "\u001b[0m\n",
      "Saved : /home/jovyan/project2023/TCR/231130/tcr/alo/.asset_interface/train_pipeline/input_data.pkl\n",
      "Saved : /home/jovyan/project2023/TCR/231130/tcr/alo/.asset_interface/train_pipeline/input_config.pkl\n",
      "\u001b[94m[2023-11-30 06:55:06,062][ASSET][INFO][train_pipeline][input]: \n",
      "\n",
      "============================= ASSET FINISH ===========================\n",
      "- time (UTC)        : 2023-11-30 06:55:06\n",
      "- current step      : input\n",
      "- save config. keys : dict_keys(['meta', 'data_source_type', 'time_format', 'time_column', 'x_columns', 'input_path', 'group_cnt', 'group_keys', 'y_column', 'input_asset_df_path', 'ignore_columns'])\n",
      "- save data keys    : dict_keys(['dataframe'])\n",
      "=======================================================================\n",
      "\n",
      "\u001b[0m\n",
      "\u001b[94m[2023-11-30 06:55:06,064][PROCESS][INFO]: ==================== Finish pipeline: train_pipeline / step: input\u001b[0m\n"
     ]
    }
   ],
   "source": [
    "wrapper.run() # input asset 실행\n",
    "data_input = wrapper.data\n",
    "x_columns = wrapper.args['x_columns']\n",
    "y_column = wrapper.args['y_column']"
   ]
  },
  {
   "cell_type": "markdown",
   "id": "51097fe9-3c5a-43c1-80a2-d4b775dc9fc6",
   "metadata": {
    "tags": []
   },
   "source": [
    "## Titanic 데이터를 활용해 Preprocess asset argument 설정 방법을 학습해봅니다. \n",
    "\n",
    "### Sample Data(train) 구성\n",
    "\n",
    "- Titanic dataset\n",
    "- 경로: tcr/sample_data/preps_train/\n",
    "- x_columns: 9개 (Pclass,Name,Gender,Age,SibSp,Ticket,Fare,Cabin,Embarked)\n",
    "- y_column: Survived\n",
    "- 총 데이터 수: 891"
   ]
  },
  {
   "cell_type": "markdown",
   "id": "2f60ea21-968f-4b42-b074-e5ba4f0043bf",
   "metadata": {},
   "source": [
    "#### 데이터 형태 "
   ]
  },
  {
   "cell_type": "code",
   "execution_count": 4,
   "id": "dfb7424d-afac-4921-a1f8-16d14c8e643d",
   "metadata": {},
   "outputs": [
    {
     "data": {
      "text/html": [
       "<div>\n",
       "<style scoped>\n",
       "    .dataframe tbody tr th:only-of-type {\n",
       "        vertical-align: middle;\n",
       "    }\n",
       "\n",
       "    .dataframe tbody tr th {\n",
       "        vertical-align: top;\n",
       "    }\n",
       "\n",
       "    .dataframe thead th {\n",
       "        text-align: right;\n",
       "    }\n",
       "</style>\n",
       "<table border=\"1\" class=\"dataframe\">\n",
       "  <thead>\n",
       "    <tr style=\"text-align: right;\">\n",
       "      <th></th>\n",
       "      <th>Pclass</th>\n",
       "      <th>Name</th>\n",
       "      <th>Gender</th>\n",
       "      <th>Age</th>\n",
       "      <th>SibSp</th>\n",
       "      <th>Ticket</th>\n",
       "      <th>Fare</th>\n",
       "      <th>Cabin</th>\n",
       "      <th>Embarked</th>\n",
       "    </tr>\n",
       "  </thead>\n",
       "  <tbody>\n",
       "    <tr>\n",
       "      <th>0</th>\n",
       "      <td>3</td>\n",
       "      <td>Braund, Mr. Owen Harris</td>\n",
       "      <td>male</td>\n",
       "      <td>22.0</td>\n",
       "      <td>1</td>\n",
       "      <td>A/5 21171</td>\n",
       "      <td>7.2500</td>\n",
       "      <td>NaN</td>\n",
       "      <td>S</td>\n",
       "    </tr>\n",
       "    <tr>\n",
       "      <th>1</th>\n",
       "      <td>1</td>\n",
       "      <td>Cumings, Mrs. John Bradley (Florence Briggs Th...</td>\n",
       "      <td>female</td>\n",
       "      <td>38.0</td>\n",
       "      <td>1</td>\n",
       "      <td>PC 17599</td>\n",
       "      <td>71.2833</td>\n",
       "      <td>C85</td>\n",
       "      <td>C</td>\n",
       "    </tr>\n",
       "    <tr>\n",
       "      <th>2</th>\n",
       "      <td>3</td>\n",
       "      <td>Heikkinen, Miss. Laina</td>\n",
       "      <td>female</td>\n",
       "      <td>26.0</td>\n",
       "      <td>0</td>\n",
       "      <td>STON/O2. 3101282</td>\n",
       "      <td>7.9250</td>\n",
       "      <td>NaN</td>\n",
       "      <td>S</td>\n",
       "    </tr>\n",
       "    <tr>\n",
       "      <th>3</th>\n",
       "      <td>1</td>\n",
       "      <td>Futrelle, Mrs. Jacques Heath (Lily May Peel)</td>\n",
       "      <td>female</td>\n",
       "      <td>35.0</td>\n",
       "      <td>1</td>\n",
       "      <td>113803</td>\n",
       "      <td>53.1000</td>\n",
       "      <td>C123</td>\n",
       "      <td>S</td>\n",
       "    </tr>\n",
       "    <tr>\n",
       "      <th>4</th>\n",
       "      <td>3</td>\n",
       "      <td>Allen, Mr. William Henry</td>\n",
       "      <td>male</td>\n",
       "      <td>35.0</td>\n",
       "      <td>0</td>\n",
       "      <td>373450</td>\n",
       "      <td>8.0500</td>\n",
       "      <td>NaN</td>\n",
       "      <td>S</td>\n",
       "    </tr>\n",
       "  </tbody>\n",
       "</table>\n",
       "</div>"
      ],
      "text/plain": [
       "   Pclass                                               Name  Gender   Age  \\\n",
       "0       3                            Braund, Mr. Owen Harris    male  22.0   \n",
       "1       1  Cumings, Mrs. John Bradley (Florence Briggs Th...  female  38.0   \n",
       "2       3                             Heikkinen, Miss. Laina  female  26.0   \n",
       "3       1       Futrelle, Mrs. Jacques Heath (Lily May Peel)  female  35.0   \n",
       "4       3                           Allen, Mr. William Henry    male  35.0   \n",
       "\n",
       "   SibSp            Ticket     Fare Cabin Embarked  \n",
       "0      1         A/5 21171   7.2500   NaN        S  \n",
       "1      1          PC 17599  71.2833   C85        C  \n",
       "2      0  STON/O2. 3101282   7.9250   NaN        S  \n",
       "3      1            113803  53.1000  C123        S  \n",
       "4      0            373450   8.0500   NaN        S  "
      ]
     },
     "execution_count": 4,
     "metadata": {},
     "output_type": "execute_result"
    }
   ],
   "source": [
    "data_input['dataframe'][x_columns].head()"
   ]
  },
  {
   "cell_type": "markdown",
   "id": "35d25502-c8eb-4616-b793-811db22188f0",
   "metadata": {},
   "source": [
    "#### 데이터 결측율"
   ]
  },
  {
   "cell_type": "code",
   "execution_count": 5,
   "id": "5334f682-1d00-43d8-bcdb-6df6e4f77927",
   "metadata": {},
   "outputs": [
    {
     "data": {
      "text/plain": [
       "Pclass      0.000000\n",
       "Name        0.000000\n",
       "Gender      0.000000\n",
       "Age         0.198653\n",
       "SibSp       0.000000\n",
       "Ticket      0.000000\n",
       "Fare        0.000000\n",
       "Cabin       0.771044\n",
       "Embarked    0.002245\n",
       "dtype: float64"
      ]
     },
     "execution_count": 5,
     "metadata": {},
     "output_type": "execute_result"
    }
   ],
   "source": [
    "data_input['dataframe'][x_columns].isna().sum()/len(data_input['dataframe'])"
   ]
  },
  {
   "cell_type": "markdown",
   "id": "a6357c6f-32f4-4873-9f8a-6882d44c87b2",
   "metadata": {},
   "source": [
    "<br>  \n",
    "\n",
    "### Preprocess asset 사용법 - Auto mode\n",
    "- Preprocess asset은 입력받은 데이터를 자동으로 전처리 해주는 **auto**모드와 유저가 auto모드를 수정해서 사용하는 **custom**모드가 있습니다.\n",
    "- Auto mode는 아래 기능을 적용하여 데이터를 자동으로 전처리 해줍니다.\n",
    "|기능|조건|설명|\n",
    "|:---:|:---:|:---:|\n",
    "|x,y 컬럼 자동 형 분류|-|input 데이터의 각 컬럼이 category인지 numeric인지 구분합니다.|\n",
    "|결측치 처리(y 컬럼)|-|y 컬럼에 결측치가 있을 경우 자동으로 결측치를 drop 합니다.|\n",
    "|결측치 처리(x 컬럼)|데이터 결측치 10% 이하| 결측치가 가장 많은 컬럼의 결측률이 10% 이하일 때 모든 컬럼의 결측치를 drop합니다. |\n",
    "|결측치 처리(x 컬럼)|데이터 결측치 10% 초과| category 컬럼은 가장 빈도가 높은 데이터로 결측치를 채우고(**frequent**), numeric 컬럼은 **median**값으로 결측치를 채웁니다 |\n",
    "|cardinality|50 이상일 때|category 컬럼의 unique 값의 수(cardinality)가 50 이상일 경우 해당 컬럼을 분석 대상에서 제외합니다.| \n",
    "|categorical encoding|-|category 컬럼에 자동으로 **onehot encoding**을 적용합니다.| \n",
    "|task 분류|-|y컬럼이 있을 경우 데이터가 classification/regression 중 어디에 적합한지 판단합니다.| \n",
    "\n",
    "- Auto mode는 아래와 같이 작성합니다.  \n",
    "```\n",
    "    - step: preprocess\n",
    "      args: \n",
    "        - mode: auto\n",
    "          custom: {}\n",
    "```\n",
    "<br>\n",
    "- inference 시에는 auto mode만 사용할 수 있으며, inference의 auto mode는 train에 적용한 전처리 방법론을 그대로 적용합니다. \n",
    "<br>"
   ]
  },
  {
   "cell_type": "markdown",
   "id": "ab26aa22-0159-47cc-a8b4-c2dad03ae3de",
   "metadata": {},
   "source": [
    "### Exercise A. Auto mode 사용하기\n",
    "- Auto mode를 사용합니다. "
   ]
  },
  {
   "cell_type": "code",
   "execution_count": 6,
   "id": "ddb16553-c4b7-45ba-ab36-6ad1afcd5752",
   "metadata": {},
   "outputs": [
    {
     "data": {
      "text/plain": [
       "{'mode': 'auto', 'custom': {}}"
      ]
     },
     "execution_count": 6,
     "metadata": {},
     "output_type": "execute_result"
    }
   ],
   "source": [
    "prep_args = wrapper.get_args(step=1)\n",
    "prep_args"
   ]
  },
  {
   "cell_type": "markdown",
   "id": "d26bfe0b-15f0-4f4a-8552-4937ffdabe90",
   "metadata": {},
   "source": [
    "- preprocess asset을 구동합니다."
   ]
  },
  {
   "cell_type": "code",
   "execution_count": 7,
   "id": "33187fd0-5299-4799-afec-58b568ce0bf4",
   "metadata": {
    "tags": []
   },
   "outputs": [
    {
     "name": "stderr",
     "output_type": "stream",
     "text": [
      "[2023-11-30 06:57:18,507][USER][WARNING][train_pipeline][preprocess]: Name의 자주 등장하는 top10 데이터가 object이므로 category_column으로 분류합니다.\n",
      "[2023-11-30 06:57:18,514][USER][WARNING][train_pipeline][preprocess]: Gender의 자주 등장하는 top10 데이터가 object이므로 category_column으로 분류합니다.\n",
      "[2023-11-30 06:57:18,517][USER][WARNING][train_pipeline][preprocess]: Embarked의 자주 등장하는 top10 데이터가 object이므로 category_column으로 분류합니다.\n",
      "[2023-11-30 06:57:18,521][USER][WARNING][train_pipeline][preprocess]: Ticket의 자주 등장하는 top10 데이터가 object이므로 category_column으로 분류합니다.\n",
      "[2023-11-30 06:57:18,524][USER][WARNING][train_pipeline][preprocess]: Cabin의 자주 등장하는 top10 데이터가 object이므로 category_column으로 분류합니다.\n",
      "[2023-11-30 06:57:18,528][USER][WARNING][train_pipeline][preprocess]: 컬럼 prep_Name의 cardinality가 50를 초과하여 category_column에서 drop합니다.\n",
      "[2023-11-30 06:57:18,532][USER][WARNING][train_pipeline][preprocess]: 컬럼 prep_Ticket의 cardinality가 50를 초과하여 category_column에서 drop합니다.\n",
      "[2023-11-30 06:57:18,535][USER][WARNING][train_pipeline][preprocess]: 컬럼 prep_Cabin의 cardinality가 50를 초과하여 category_column에서 drop합니다.\n",
      "[2023-11-30 06:57:18,542][USER][INFO][train_pipeline][preprocess]: category_columns: ['prep_Gender', 'prep_Embarked']\n",
      "[2023-11-30 06:57:18,544][USER][INFO][train_pipeline][preprocess]: numeric_columns: ['prep_SibSp', 'prep_Fare', 'prep_Pclass', 'prep_Age']\n",
      "/home/jovyan/conda/envs/tcr1130_2/lib/python3.10/site-packages/sklearn/preprocessing/_function_transformer.py:345: UserWarning: With transform=\"pandas\", `func` should return a DataFrame to follow the set_output API.\n",
      "  warnings.warn(\n"
     ]
    },
    {
     "name": "stdout",
     "output_type": "stream",
     "text": [
      "Loaded : /home/jovyan/project2023/TCR/231130/tcr/alo/.asset_interface/train_pipeline/input_config.pkl\n",
      "Loaded : /home/jovyan/project2023/TCR/231130/tcr/alo/.asset_interface/train_pipeline/input_data.pkl\n",
      "\u001b[92m[2023-11-30 06:57:18,483][ASSET][INFO][train_pipeline][preprocess]: Successfully got model path for saving or loading your AI model: \n",
      " /home/jovyan/project2023/TCR/231130/tcr/alo/.train_artifacts/models/preprocess/\u001b[0m\n",
      "\u001b[94m[2023-11-30 06:57:18,486][ASSET][INFO][train_pipeline][preprocess]: \n",
      "\n",
      "============================= ASSET START =============================\n",
      "- time (UTC)        : 2023-11-30 06:57:18\n",
      "- current step      : preprocess\n",
      "- asset branch.     : prep_v1.1.0\n",
      "- alolib ver.       : 2.1\n",
      "- alo ver.          : 2.1\n",
      "- load envs. keys   : dict_keys(['project_home', 'solution_metadata_version', 'artifacts', 'alo_version', 'interface_mode', 'proc_start_time', 'save_train_artifacts_path', 'save_inference_artifacts_path', 'pipeline', 'step', 'num_step', 'asset_branch', 'load_data', 'load_config', 'save_data', 'save_config', 'log_file_path', 'prev_step'])\n",
      "- load args. keys   : dict_keys(['mode', 'custom'])\n",
      "- load config. keys : dict_keys(['meta', 'data_source_type', 'time_format', 'time_column', 'x_columns', 'input_path', 'group_cnt', 'group_keys', 'y_column', 'input_asset_df_path', 'ignore_columns'])\n",
      "- load data keys    : dict_keys(['dataframe'])\n",
      "=======================================================================\n",
      "\n",
      "\u001b[0m\n",
      "[Train pipeline] Dataframe shape before preprocessing (891, 6)\n",
      "[Train pipeline] Dataframe shape after preprocessing (891, 9)\n",
      "Saved : /home/jovyan/project2023/TCR/231130/tcr/alo/.asset_interface/train_pipeline/preprocess_data.pkl\n",
      "Saved : /home/jovyan/project2023/TCR/231130/tcr/alo/.asset_interface/train_pipeline/preprocess_config.pkl\n",
      "\u001b[94m[2023-11-30 06:57:18,611][ASSET][INFO][train_pipeline][preprocess]: \n",
      "\n",
      "============================= ASSET FINISH ===========================\n",
      "- time (UTC)        : 2023-11-30 06:57:18\n",
      "- current step      : preprocess\n",
      "- save config. keys : dict_keys(['meta', 'data_source_type', 'time_format', 'time_column', 'x_columns', 'input_path', 'group_cnt', 'group_keys', 'y_column', 'input_asset_df_path', 'ignore_columns', 'preprocess', 'y_column_original'])\n",
      "- save data keys    : dict_keys(['dataframe'])\n",
      "=======================================================================\n",
      "\n",
      "\u001b[0m\n",
      "\u001b[94m[2023-11-30 06:57:18,613][PROCESS][INFO]: ==================== Finish pipeline: train_pipeline / step: preprocess\u001b[0m\n"
     ]
    }
   ],
   "source": [
    "wrapper.run(args=prep_args)\n",
    "data_preps = wrapper.data"
   ]
  },
  {
   "cell_type": "markdown",
   "id": "5fbd9490-443c-47a1-afdd-e82947d1de5f",
   "metadata": {},
   "source": [
    "#### 로그 확인\n",
    "- preprocess asset을 run할 때 아래와 같이 각 컬럼 분류 과정을 로그로 확인할 수 있습니다.\n",
    "<div style='text-align:left'><img src=\"src/preps_logs.PNG\" /></div>\n",
    "- Titanic 데이터의 x_columns(Pclass, Name, Gender, Age, SibSp, Ticket, Fare, Cabin, Embarked) 중에 Cabin, Ticket, Name은 cardinality가 50을 초과하여 분석 대상에서 빠지게 되었습니다. \n",
    "- 결과적으로 **category 컬럼**으로 Embarked, Gender, **numeric 컬럼**으로 Pclass, Age, SibSp, Fare분류함을 확인가능합니다. \n",
    "<br></br>\n",
    "\n",
    "#### input data와 preprocess asset 결과 data 비교 \n",
    "- preprocess asset을 지나고나면 컬럼명 앞에 'prep_'라는 prefix가 붙고, 인코딩에 따라 컬럼 수가 늘어납니다."
   ]
  },
  {
   "cell_type": "code",
   "execution_count": 8,
   "id": "6e26671c-73ac-4239-b206-db9f2a2f9004",
   "metadata": {},
   "outputs": [
    {
     "data": {
      "text/plain": [
       "((891, 11), (891, 15))"
      ]
     },
     "execution_count": 8,
     "metadata": {},
     "output_type": "execute_result"
    }
   ],
   "source": [
    "data_input['dataframe'].shape, data_preps['dataframe'].shape"
   ]
  },
  {
   "cell_type": "code",
   "execution_count": 9,
   "id": "01e6a147-4ffe-4eb9-8e76-c84a097ed42e",
   "metadata": {},
   "outputs": [
    {
     "data": {
      "text/html": [
       "<div>\n",
       "<style scoped>\n",
       "    .dataframe tbody tr th:only-of-type {\n",
       "        vertical-align: middle;\n",
       "    }\n",
       "\n",
       "    .dataframe tbody tr th {\n",
       "        vertical-align: top;\n",
       "    }\n",
       "\n",
       "    .dataframe thead th {\n",
       "        text-align: right;\n",
       "    }\n",
       "</style>\n",
       "<table border=\"1\" class=\"dataframe\">\n",
       "  <thead>\n",
       "    <tr style=\"text-align: right;\">\n",
       "      <th></th>\n",
       "      <th>prep_Cabin</th>\n",
       "      <th>prep_Name</th>\n",
       "      <th>prep_Ticket</th>\n",
       "      <th>PassengerId</th>\n",
       "      <th>prep_Gender_female</th>\n",
       "      <th>prep_Gender_male</th>\n",
       "      <th>prep_Embarked_C</th>\n",
       "      <th>prep_Embarked_Q</th>\n",
       "      <th>prep_Embarked_S</th>\n",
       "      <th>prep_Age</th>\n",
       "      <th>prep_Fare</th>\n",
       "      <th>prep_Pclass</th>\n",
       "      <th>prep_SibSp</th>\n",
       "      <th>Survived_original</th>\n",
       "      <th>prep_Survived</th>\n",
       "    </tr>\n",
       "  </thead>\n",
       "  <tbody>\n",
       "    <tr>\n",
       "      <th>0</th>\n",
       "      <td>NaN</td>\n",
       "      <td>Braund, Mr. Owen Harris</td>\n",
       "      <td>A/5 21171</td>\n",
       "      <td>1</td>\n",
       "      <td>0.0</td>\n",
       "      <td>1.0</td>\n",
       "      <td>0.0</td>\n",
       "      <td>0.0</td>\n",
       "      <td>1.0</td>\n",
       "      <td>22.0</td>\n",
       "      <td>7.2500</td>\n",
       "      <td>3.0</td>\n",
       "      <td>1.0</td>\n",
       "      <td>0</td>\n",
       "      <td>0</td>\n",
       "    </tr>\n",
       "    <tr>\n",
       "      <th>1</th>\n",
       "      <td>C85</td>\n",
       "      <td>Cumings, Mrs. John Bradley (Florence Briggs Th...</td>\n",
       "      <td>PC 17599</td>\n",
       "      <td>2</td>\n",
       "      <td>1.0</td>\n",
       "      <td>0.0</td>\n",
       "      <td>1.0</td>\n",
       "      <td>0.0</td>\n",
       "      <td>0.0</td>\n",
       "      <td>38.0</td>\n",
       "      <td>71.2833</td>\n",
       "      <td>1.0</td>\n",
       "      <td>1.0</td>\n",
       "      <td>1</td>\n",
       "      <td>1</td>\n",
       "    </tr>\n",
       "    <tr>\n",
       "      <th>2</th>\n",
       "      <td>NaN</td>\n",
       "      <td>Heikkinen, Miss. Laina</td>\n",
       "      <td>STON/O2. 3101282</td>\n",
       "      <td>3</td>\n",
       "      <td>1.0</td>\n",
       "      <td>0.0</td>\n",
       "      <td>0.0</td>\n",
       "      <td>0.0</td>\n",
       "      <td>1.0</td>\n",
       "      <td>26.0</td>\n",
       "      <td>7.9250</td>\n",
       "      <td>3.0</td>\n",
       "      <td>0.0</td>\n",
       "      <td>1</td>\n",
       "      <td>1</td>\n",
       "    </tr>\n",
       "    <tr>\n",
       "      <th>3</th>\n",
       "      <td>C123</td>\n",
       "      <td>Futrelle, Mrs. Jacques Heath (Lily May Peel)</td>\n",
       "      <td>113803</td>\n",
       "      <td>4</td>\n",
       "      <td>1.0</td>\n",
       "      <td>0.0</td>\n",
       "      <td>0.0</td>\n",
       "      <td>0.0</td>\n",
       "      <td>1.0</td>\n",
       "      <td>35.0</td>\n",
       "      <td>53.1000</td>\n",
       "      <td>1.0</td>\n",
       "      <td>1.0</td>\n",
       "      <td>1</td>\n",
       "      <td>1</td>\n",
       "    </tr>\n",
       "    <tr>\n",
       "      <th>4</th>\n",
       "      <td>NaN</td>\n",
       "      <td>Allen, Mr. William Henry</td>\n",
       "      <td>373450</td>\n",
       "      <td>5</td>\n",
       "      <td>0.0</td>\n",
       "      <td>1.0</td>\n",
       "      <td>0.0</td>\n",
       "      <td>0.0</td>\n",
       "      <td>1.0</td>\n",
       "      <td>35.0</td>\n",
       "      <td>8.0500</td>\n",
       "      <td>3.0</td>\n",
       "      <td>0.0</td>\n",
       "      <td>0</td>\n",
       "      <td>0</td>\n",
       "    </tr>\n",
       "  </tbody>\n",
       "</table>\n",
       "</div>"
      ],
      "text/plain": [
       "  prep_Cabin                                          prep_Name  \\\n",
       "0        NaN                            Braund, Mr. Owen Harris   \n",
       "1        C85  Cumings, Mrs. John Bradley (Florence Briggs Th...   \n",
       "2        NaN                             Heikkinen, Miss. Laina   \n",
       "3       C123       Futrelle, Mrs. Jacques Heath (Lily May Peel)   \n",
       "4        NaN                           Allen, Mr. William Henry   \n",
       "\n",
       "        prep_Ticket  PassengerId  prep_Gender_female  prep_Gender_male  \\\n",
       "0         A/5 21171            1                 0.0               1.0   \n",
       "1          PC 17599            2                 1.0               0.0   \n",
       "2  STON/O2. 3101282            3                 1.0               0.0   \n",
       "3            113803            4                 1.0               0.0   \n",
       "4            373450            5                 0.0               1.0   \n",
       "\n",
       "   prep_Embarked_C  prep_Embarked_Q  prep_Embarked_S  prep_Age  prep_Fare  \\\n",
       "0              0.0              0.0              1.0      22.0     7.2500   \n",
       "1              1.0              0.0              0.0      38.0    71.2833   \n",
       "2              0.0              0.0              1.0      26.0     7.9250   \n",
       "3              0.0              0.0              1.0      35.0    53.1000   \n",
       "4              0.0              0.0              1.0      35.0     8.0500   \n",
       "\n",
       "   prep_Pclass  prep_SibSp  Survived_original  prep_Survived  \n",
       "0          3.0         1.0                  0              0  \n",
       "1          1.0         1.0                  1              1  \n",
       "2          3.0         0.0                  1              1  \n",
       "3          1.0         1.0                  1              1  \n",
       "4          3.0         0.0                  0              0  "
      ]
     },
     "execution_count": 9,
     "metadata": {},
     "output_type": "execute_result"
    }
   ],
   "source": [
    "data_preps['dataframe'].head()"
   ]
  },
  {
   "cell_type": "markdown",
   "id": "814e6e84-beb1-4c5f-8c6f-f982bb7d8caa",
   "metadata": {},
   "source": [
    "<br></br>\n",
    "##### Categorical Encoding 확인\n",
    "- category 컬럼으로 분류 된 Embarked, Gender 두가지 컬럼이 onehot encoding이 되어있음을 확인할 수 있습니다. "
   ]
  },
  {
   "cell_type": "code",
   "execution_count": 10,
   "id": "3df495d0-8ef9-4175-bd30-141db392a5cf",
   "metadata": {},
   "outputs": [
    {
     "data": {
      "text/plain": [
       "Index(['prep_Cabin', 'prep_Name', 'prep_Ticket', 'PassengerId',\n",
       "       'prep_Gender_female', 'prep_Gender_male', 'prep_Embarked_C',\n",
       "       'prep_Embarked_Q', 'prep_Embarked_S', 'prep_Age', 'prep_Fare',\n",
       "       'prep_Pclass', 'prep_SibSp', 'Survived_original', 'prep_Survived'],\n",
       "      dtype='object')"
      ]
     },
     "execution_count": 10,
     "metadata": {},
     "output_type": "execute_result"
    }
   ],
   "source": [
    "data_preps['dataframe'].columns"
   ]
  },
  {
   "cell_type": "code",
   "execution_count": 11,
   "id": "3817417f-5e1f-4ebe-bf42-ee69d1dd45c8",
   "metadata": {},
   "outputs": [
    {
     "data": {
      "text/html": [
       "<div>\n",
       "<style scoped>\n",
       "    .dataframe tbody tr th:only-of-type {\n",
       "        vertical-align: middle;\n",
       "    }\n",
       "\n",
       "    .dataframe tbody tr th {\n",
       "        vertical-align: top;\n",
       "    }\n",
       "\n",
       "    .dataframe thead th {\n",
       "        text-align: right;\n",
       "    }\n",
       "</style>\n",
       "<table border=\"1\" class=\"dataframe\">\n",
       "  <thead>\n",
       "    <tr style=\"text-align: right;\">\n",
       "      <th></th>\n",
       "      <th>prep_Gender_female</th>\n",
       "      <th>prep_Gender_male</th>\n",
       "      <th>prep_Embarked_C</th>\n",
       "      <th>prep_Embarked_Q</th>\n",
       "      <th>prep_Embarked_S</th>\n",
       "    </tr>\n",
       "  </thead>\n",
       "  <tbody>\n",
       "    <tr>\n",
       "      <th>0</th>\n",
       "      <td>0.0</td>\n",
       "      <td>1.0</td>\n",
       "      <td>0.0</td>\n",
       "      <td>0.0</td>\n",
       "      <td>1.0</td>\n",
       "    </tr>\n",
       "    <tr>\n",
       "      <th>1</th>\n",
       "      <td>1.0</td>\n",
       "      <td>0.0</td>\n",
       "      <td>1.0</td>\n",
       "      <td>0.0</td>\n",
       "      <td>0.0</td>\n",
       "    </tr>\n",
       "    <tr>\n",
       "      <th>2</th>\n",
       "      <td>1.0</td>\n",
       "      <td>0.0</td>\n",
       "      <td>0.0</td>\n",
       "      <td>0.0</td>\n",
       "      <td>1.0</td>\n",
       "    </tr>\n",
       "    <tr>\n",
       "      <th>3</th>\n",
       "      <td>1.0</td>\n",
       "      <td>0.0</td>\n",
       "      <td>0.0</td>\n",
       "      <td>0.0</td>\n",
       "      <td>1.0</td>\n",
       "    </tr>\n",
       "    <tr>\n",
       "      <th>4</th>\n",
       "      <td>0.0</td>\n",
       "      <td>1.0</td>\n",
       "      <td>0.0</td>\n",
       "      <td>0.0</td>\n",
       "      <td>1.0</td>\n",
       "    </tr>\n",
       "  </tbody>\n",
       "</table>\n",
       "</div>"
      ],
      "text/plain": [
       "   prep_Gender_female  prep_Gender_male  prep_Embarked_C  prep_Embarked_Q  \\\n",
       "0                 0.0               1.0              0.0              0.0   \n",
       "1                 1.0               0.0              1.0              0.0   \n",
       "2                 1.0               0.0              0.0              0.0   \n",
       "3                 1.0               0.0              0.0              0.0   \n",
       "4                 0.0               1.0              0.0              0.0   \n",
       "\n",
       "   prep_Embarked_S  \n",
       "0              1.0  \n",
       "1              0.0  \n",
       "2              1.0  \n",
       "3              1.0  \n",
       "4              1.0  "
      ]
     },
     "execution_count": 11,
     "metadata": {},
     "output_type": "execute_result"
    }
   ],
   "source": [
    "data_preps['dataframe'][['prep_Gender_female', 'prep_Gender_male', 'prep_Embarked_C','prep_Embarked_Q', 'prep_Embarked_S']].head()"
   ]
  },
  {
   "cell_type": "markdown",
   "id": "1c419aca-1822-4c02-bcea-ab3f68fec119",
   "metadata": {},
   "source": [
    "<br></br>\n",
    "##### 결측치 비교\n",
    "- input data의 경우 Age, Cabin, Embarked 세개의 컬럼에 결측치가 존재합니다. \n",
    "- Cadinality가 50이상이어서 drop 된 Cabin 컬럼을 제외하고, Age의 결측률이 0.19이므로 titanic 데이터의 결측치는 10%를 초과합니다. \n",
    "- 따라서 auto mode에서는 자동으로 numeric 컬럼의 결측치는 median 값으로 채워지고, category 컬럼의 결측치는 frequent 값으로 채워집니다."
   ]
  },
  {
   "cell_type": "code",
   "execution_count": 12,
   "id": "0b9b06d7-1bc3-414e-bf82-ab1558173cb0",
   "metadata": {
    "tags": []
   },
   "outputs": [
    {
     "data": {
      "text/plain": [
       "Age         0.198653\n",
       "Cabin       0.771044\n",
       "Embarked    0.002245\n",
       "dtype: float64"
      ]
     },
     "execution_count": 12,
     "metadata": {},
     "output_type": "execute_result"
    }
   ],
   "source": [
    "# input data의 결측치\n",
    "data_input['dataframe'][['Age','Cabin','Embarked']].isna().sum()/len(data_input['dataframe'])"
   ]
  },
  {
   "cell_type": "markdown",
   "id": "f41a1549-6964-43d8-b50a-1723081bf392",
   "metadata": {},
   "source": [
    "- preprocess asset을 지난 후 Age, Embarked의 결측치가 사라졌음을 확인할 수 있습니다. "
   ]
  },
  {
   "cell_type": "code",
   "execution_count": 13,
   "id": "52123651-4884-40d4-a8d4-6cd6155fc2c5",
   "metadata": {},
   "outputs": [
    {
     "data": {
      "text/plain": [
       "prep_Age           0.000000\n",
       "prep_Cabin         0.771044\n",
       "prep_Embarked_C    0.000000\n",
       "prep_Embarked_Q    0.000000\n",
       "prep_Embarked_S    0.000000\n",
       "dtype: float64"
      ]
     },
     "execution_count": 13,
     "metadata": {},
     "output_type": "execute_result"
    }
   ],
   "source": [
    "data_preps['dataframe'][['prep_Age','prep_Cabin','prep_Embarked_C','prep_Embarked_Q','prep_Embarked_S']].isna().sum()/len(data_preps['dataframe'])"
   ]
  },
  {
   "cell_type": "markdown",
   "id": "f2b38a59-11b9-4ccf-b574-7f68bed3012a",
   "metadata": {},
   "source": [
    "- Age의 median 값(28.0)이 Age의 nan값을 대체함을 확인할 수 있습니다."
   ]
  },
  {
   "cell_type": "code",
   "execution_count": 14,
   "id": "fa568d62-32a6-4e8a-8b4a-5fce30d81aba",
   "metadata": {},
   "outputs": [
    {
     "data": {
      "text/plain": [
       "28.0"
      ]
     },
     "execution_count": 14,
     "metadata": {},
     "output_type": "execute_result"
    }
   ],
   "source": [
    "# Age의 median 값\n",
    "data_input['dataframe']['Age'].median()"
   ]
  },
  {
   "cell_type": "code",
   "execution_count": 15,
   "id": "ab5102e1-032e-45bf-a18b-3596c1a30ca2",
   "metadata": {},
   "outputs": [
    {
     "data": {
      "text/plain": [
       "nan"
      ]
     },
     "execution_count": 15,
     "metadata": {},
     "output_type": "execute_result"
    }
   ],
   "source": [
    "# input data의 Age nan값 확인\n",
    "data_input['dataframe']['Age'].loc[888]"
   ]
  },
  {
   "cell_type": "code",
   "execution_count": 16,
   "id": "3720afec-57bd-45de-8597-8c3322fcfbde",
   "metadata": {},
   "outputs": [
    {
     "data": {
      "text/plain": [
       "28.0"
      ]
     },
     "execution_count": 16,
     "metadata": {},
     "output_type": "execute_result"
    }
   ],
   "source": [
    "# preprocess asset 결과 nan값 median으로 대체 확인\n",
    "data_preps['dataframe']['prep_Age'].loc[888]"
   ]
  },
  {
   "cell_type": "markdown",
   "id": "ebf0856e-b4c2-4b70-bd3c-233a6273b176",
   "metadata": {},
   "source": [
    "- Embarked의 Frequent값(S)로 Embarked의 nan값이 대체됨을 확인할 수 있습니다. "
   ]
  },
  {
   "cell_type": "code",
   "execution_count": 17,
   "id": "dc0ddab2-b41f-47a5-9059-0b282fee75bb",
   "metadata": {},
   "outputs": [
    {
     "data": {
      "text/plain": [
       "S    644\n",
       "C    168\n",
       "Q     77\n",
       "Name: Embarked, dtype: int64"
      ]
     },
     "execution_count": 17,
     "metadata": {},
     "output_type": "execute_result"
    }
   ],
   "source": [
    "# Embarked 값 확인\n",
    "data_input['dataframe']['Embarked'].value_counts()"
   ]
  },
  {
   "cell_type": "code",
   "execution_count": 18,
   "id": "be1da47d-c4a0-406d-af22-b600fea0acc3",
   "metadata": {},
   "outputs": [
    {
     "data": {
      "text/plain": [
       "nan"
      ]
     },
     "execution_count": 18,
     "metadata": {},
     "output_type": "execute_result"
    }
   ],
   "source": [
    "# input data의 Embarked nan값 확인\n",
    "data_input['dataframe']['Embarked'].loc[61]"
   ]
  },
  {
   "cell_type": "code",
   "execution_count": 19,
   "id": "6703ba0c-07b1-49f1-831b-e1844ce3fe4c",
   "metadata": {},
   "outputs": [
    {
     "data": {
      "text/plain": [
       "prep_Embarked_C    0.0\n",
       "prep_Embarked_Q    0.0\n",
       "prep_Embarked_S    1.0\n",
       "Name: 61, dtype: float64"
      ]
     },
     "execution_count": 19,
     "metadata": {},
     "output_type": "execute_result"
    }
   ],
   "source": [
    "# preprocess asset 결과 nan값 frequent로 대체 확인 \n",
    "data_preps['dataframe'][['prep_Embarked_C','prep_Embarked_Q','prep_Embarked_S']].loc[61]"
   ]
  },
  {
   "cell_type": "markdown",
   "id": "3a96fd88-26ba-4826-922d-d8cde603faed",
   "metadata": {},
   "source": [
    "<br></br>\n",
    "### Preprocess asset 사용법 - Custom mode\n",
    "- Custom mode에서는 유저가 원하는 전처리 방식을 컬럼마다 적용할 수 있습니다. \n",
    "- Custom mode의 기본값은 auto mode로 auto mode에서 수정하고 싶은 부분을 argument로 작성하여 `custom: {}`안에 넣으면 됩니다. \n",
    "- 조정 가능한 arguments는 아래와 같습니다.\n",
    "*\\*arguments의 default 값은 auto mode입니다*  \n",
    "\n",
    "1) category_columns\n",
    "    - 데이터가 numeric이지만 category 컬럼으로 처리되어야 하는 경우 컬럼명을 입력합니다.  \n",
    "    - example  \n",
    "        `custom: {category_columns: [col1,col2,col3]}`\n",
    "<br></br>\n",
    "2) numeric_columns\n",
    "    - 데이터가 category지만 numeric 컬럼으로 처리되어야 하는 경우 컬럼명을 입력합니다.\n",
    "    - 만약 해당 컬럼에 numeric로 변환되지 않는 값(str)이 입력되면 자동으로 np.nan 처리 합니다. \n",
    "    - example  \n",
    "        `custom: {numeric_columns: [col1,col2,col3]}` \n",
    "<br></br>\n",
    "3) cardinality\n",
    "    - cardinality는 컬럼에 있는 unique한 값의 개수를 의미하며, category 컬럼의 cardinality가 지정한 cardinality argument 값보다 크면 해당 컬럼을 drop합니다.\n",
    "    - example  \n",
    "        `custom: {cardinality: 80}` \n",
    "<br></br>\n",
    "4) categorical_encoding\n",
    "    - category 컬럼에 적용할 인코딩 방법론을 지정합니다. {방법론: 값}의 dictionary형태로 input을 받습니다.\n",
    "        |방법론(key)|값(values)|\n",
    "        |:---:|:---:|\n",
    "        |onehot<br>label|[col1, col2, col3]<br>all(모든 category 컬럼에 적용)|\n",
    "    - 현재 onehot encoding(**onehot**)과 label encoding(**label**)을 지원합니다. \n",
    "    - 입력한 {방법론: 컬럼} 외 나머지 컬럼에는 default rule(auto mode)인 onehot encoding이 적용됩니다. \n",
    "    - example  \n",
    "        `custom: {categorical_encoding: {label: all}}`  \n",
    "        `custom: {categorical_encoding: {label: [col1,col2]}}`  \n",
    "        - col1,col2만 label인코딩을 적용하고 나머지 category 컬럼은 onehot을 적용합니다.    \n",
    "<br></br>\n",
    "\n",
    "5) handle_missing\n",
    "    - category, numeric 컬럼에 적용할 결측치 처리 방식을 지정합니다. {방법론: 값}의 dictionary형태로 input을 받습니다.\n",
    "        |방법론(key)|값(values)|\n",
    "        |:---:|:---:|\n",
    "        |category 컬럼용: frequent<br>numeric 컬럼용: interpolation, mean, median<br>모든 컬럼용: drop, fill_숫자 |[col1, col2, col3]<br>all(모든 컬럼에 적용)<br>category_all(모든 category컬럼에 적용)<br>numeric_all(모든 numeric 컬럼에 적용)|\n",
    "    - category 컬럼용 방법론으로 최빈값으로 채우기(**frequent**)가 있습니다.\n",
    "    - numeric 컬럼용 방법론으로 주변값 채우기인 **interpolation**과 **mean, median**값을 입력할 수 있습니다. \n",
    "    - 또한 모든 컬럼에 적용할 수 있는 방법론으로 결측치 행 삭제(**drop**)과 특정 숫자 값을 numeric이나 category 컬럼에 채우는 **fill_숫자**가 있습니다.   \n",
    "    - 입력한 {방법론: 컬럼} 외 나머지 컬럼에는 default rule(auto mode)인 결측치 10% 초과 시 **median**(numeric), **frequent**(category)/ 결측치 10% 미만일 떄는 **drop**이 적용됩니다. \n",
    "    - example  \n",
    "        `custom: {handle_missing: {fill_1: [col1,col2], fill_2: category_all}}` <br>\n",
    "        `custom: {handle_missing: {drop: category_all, interpolation:[col1,col2], mean: numeric_all}`\n",
    "    - 참고 사항\n",
    "        - {frequent: all}일 경우 frequent는 category 컬럼에 적용되는 방법론이기 떄문에 category 컬럼에만 적용되고, 나머지 numeric 컬럼에는 default rule이 적용됩니다.\n",
    "        - {frequent: all, drop: all} 일 경우, frequent에 category_all, drop에 나머지 컬럼(numeric_all)이 들어갑니다. \n",
    "        - 마찬가지로 {mean: all, drop: all} 일 경우, mean에 numeric_all, drop에 나머지 컬럼(category_all)이 들어갑니다. \n",
    "<br></br>\n",
    "6) numeric_outlier\n",
    "    - numeric_outlier는 numeric 컬럼에 적용할 outlier 제거 방법을 선택합니다. {방법론: 값}의 dictionary형태로 input을 받습니다.\n",
    "        |방법론(key)|값(values)|\n",
    "        |:---:|:---:|\n",
    "        |normal|[col1, col2, col3]<br>all(모든 numeric 컬럼에 적용)|\n",
    "    - 현재 데이터 분포에서 3sigma를 넘는 이상치를 삭제하는 nomal을 지원합니다. \n",
    "    - example  \n",
    "        `custom: {numeric_outlier: {normal:[col1,col2,col3]}}` \n",
    "<br></br>\n",
    "7) numeric_scaler\n",
    "    - numeric_scaler는 numeric 컬럼에 적용할 scaling방법을 선택합니다. {방법론: 값}의 dictionary형태로 input을 받습니다.\n",
    "        |방법론(key)|값(values)|\n",
    "        |:---:|:---:|\n",
    "        |standard<br>minmax<br>robust<br>maxabs<br>normalizer|[col1, col2, col3]<br>all(모든 numeric 컬럼에 적용)|\n",
    "    - 5가지 scaler를 제공합니다\n",
    "        - StandardScaler(**standard**), MinMaxScaler(**minmax**), RobustScaler(**robust**), MaxAbsScaler(**maxabs**), Normalizer(**normalizer**)\n",
    "    - example  \n",
    "        `custom: {numeric_scaler: {standard: [col1,col2], minmax: all}}` \n",
    "<br></br>"
   ]
  },
  {
   "cell_type": "markdown",
   "id": "986668a8-7339-48f6-a287-ee8b0ac62bf6",
   "metadata": {},
   "source": [
    "<br></br>\n",
    "### Exercise B. custom mode 사용하기\n",
    "- 아래는 custom mode를 활용하여 사용자가 데이터에 다양한 전처리 방법론을 적용하기 위한 예제입니다.\n",
    "- 따라서 데이터 분류 성능과 관계없이 여러가지 방법론을 적용하는 상황을 가정하였습니다. \n",
    "- 아래 상황에 맞추어 custom {}안에 arguments를 setting하겠습니다. \n",
    "    - 현재 numeric 컬럼으로 구분된 Pclass를 category 컬럼으로 지정  \n",
    "        `custom: { 'category_columns': ['Pclass'] }`\n",
    "    - Embarked 컬럼에는 label encoding(label)을 적용합니다.  \n",
    "        `custom: { 'categorical_encoding': {'label': ['Embarked']} }`\n",
    "    - 결측치는 다음의 규칙을 적용합니다.   \n",
    "        - Age: mean  \n",
    "        - category 컬럼들: drop  \n",
    "        `custom: { 'handle_missing': {'mean': ['Age'], 'drop': 'category_all'} }`\n",
    "    - Scaler는 다음의 규칙을 적용합니다.   \n",
    "        - Age: standard scaler(standard) \n",
    "        - Fare: minmax scaler(minmax)  \n",
    "        `custom: { 'numeric_scaler': {'standard': ['Age'], 'minmax': ['Fare']} }`"
   ]
  },
  {
   "cell_type": "code",
   "execution_count": 20,
   "id": "0f49114d-2a02-4d38-9471-7e2e3dde1d7b",
   "metadata": {},
   "outputs": [],
   "source": [
    "prep_args = wrapper.get_args(step=1)\n",
    "prep_args['mode'] = 'custom'\n",
    "prep_args['custom']['category_columns'] = ['Pclass']\n",
    "prep_args['custom']['categorical_encoding'] = {'label': ['Embarked']}\n",
    "prep_args['custom']['handle_missing'] = {'mean': ['Age'], 'drop': 'category_all'}\n",
    "prep_args['custom']['numeric_scaler'] = {'standard': ['Age'], 'minmax': ['Fare']}"
   ]
  },
  {
   "cell_type": "code",
   "execution_count": 21,
   "id": "c8e16673-cb5c-4755-b310-56c18176b656",
   "metadata": {},
   "outputs": [
    {
     "data": {
      "text/plain": [
       "{'mode': 'custom',\n",
       " 'custom': {'category_columns': ['Pclass'],\n",
       "  'categorical_encoding': {'label': ['Embarked']},\n",
       "  'handle_missing': {'mean': ['Age'], 'drop': 'category_all'},\n",
       "  'numeric_scaler': {'standard': ['Age'], 'minmax': ['Fare']}}}"
      ]
     },
     "execution_count": 21,
     "metadata": {},
     "output_type": "execute_result"
    }
   ],
   "source": [
    "prep_args"
   ]
  },
  {
   "cell_type": "markdown",
   "id": "58fc62da-b1a2-4760-8fa3-39a17ae4e770",
   "metadata": {},
   "source": [
    "- preprocess asset을 구동합니다."
   ]
  },
  {
   "cell_type": "code",
   "execution_count": 22,
   "id": "59f165fe-62e1-4594-a6d4-a66644819301",
   "metadata": {
    "tags": []
   },
   "outputs": [
    {
     "name": "stderr",
     "output_type": "stream",
     "text": [
      "[2023-11-30 07:04:32,591][USER][WARNING][train_pipeline][preprocess]: Name의 자주 등장하는 top10 데이터가 object이므로 category_column으로 분류합니다.\n",
      "[2023-11-30 07:04:32,595][USER][WARNING][train_pipeline][preprocess]: Gender의 자주 등장하는 top10 데이터가 object이므로 category_column으로 분류합니다.\n",
      "[2023-11-30 07:04:32,599][USER][WARNING][train_pipeline][preprocess]: Embarked의 자주 등장하는 top10 데이터가 object이므로 category_column으로 분류합니다.\n",
      "[2023-11-30 07:04:32,602][USER][WARNING][train_pipeline][preprocess]: Ticket의 자주 등장하는 top10 데이터가 object이므로 category_column으로 분류합니다.\n",
      "[2023-11-30 07:04:32,606][USER][WARNING][train_pipeline][preprocess]: Cabin의 자주 등장하는 top10 데이터가 object이므로 category_column으로 분류합니다.\n",
      "[2023-11-30 07:04:32,610][USER][WARNING][train_pipeline][preprocess]: 컬럼 prep_Name의 cardinality가 50를 초과하여 category_column에서 drop합니다.\n",
      "[2023-11-30 07:04:32,613][USER][WARNING][train_pipeline][preprocess]: 컬럼 prep_Ticket의 cardinality가 50를 초과하여 category_column에서 drop합니다.\n",
      "[2023-11-30 07:04:32,616][USER][WARNING][train_pipeline][preprocess]: 컬럼 prep_Cabin의 cardinality가 50를 초과하여 category_column에서 drop합니다.\n",
      "[2023-11-30 07:04:32,623][USER][INFO][train_pipeline][preprocess]: category_columns: ['prep_Pclass', 'prep_Gender', 'prep_Embarked']\n",
      "[2023-11-30 07:04:32,626][USER][INFO][train_pipeline][preprocess]: numeric_columns: ['prep_SibSp', 'prep_Fare', 'prep_Age']\n",
      "/home/jovyan/conda/envs/tcr1130_2/lib/python3.10/site-packages/sklearn/preprocessing/_function_transformer.py:345: UserWarning: With transform=\"pandas\", `func` should return a DataFrame to follow the set_output API.\n",
      "  warnings.warn(\n"
     ]
    },
    {
     "name": "stdout",
     "output_type": "stream",
     "text": [
      "Loaded : /home/jovyan/project2023/TCR/231130/tcr/alo/.asset_interface/train_pipeline/input_config.pkl\n",
      "Loaded : /home/jovyan/project2023/TCR/231130/tcr/alo/.asset_interface/train_pipeline/input_data.pkl\n",
      "\u001b[92m[2023-11-30 07:04:32,583][ASSET][INFO][train_pipeline][preprocess]: Successfully got model path for saving or loading your AI model: \n",
      " /home/jovyan/project2023/TCR/231130/tcr/alo/.train_artifacts/models/preprocess/\u001b[0m\n",
      "\u001b[94m[2023-11-30 07:04:32,585][ASSET][INFO][train_pipeline][preprocess]: \n",
      "\n",
      "============================= ASSET START =============================\n",
      "- time (UTC)        : 2023-11-30 07:04:32\n",
      "- current step      : preprocess\n",
      "- asset branch.     : prep_v1.1.0\n",
      "- alolib ver.       : 2.1\n",
      "- alo ver.          : 2.1\n",
      "- load envs. keys   : dict_keys(['project_home', 'solution_metadata_version', 'artifacts', 'alo_version', 'interface_mode', 'proc_start_time', 'save_train_artifacts_path', 'save_inference_artifacts_path', 'pipeline', 'step', 'num_step', 'asset_branch', 'load_data', 'load_config', 'save_data', 'save_config', 'log_file_path', 'prev_step'])\n",
      "- load args. keys   : dict_keys(['mode', 'custom'])\n",
      "- load config. keys : dict_keys(['meta', 'data_source_type', 'time_format', 'time_column', 'x_columns', 'input_path', 'group_cnt', 'group_keys', 'y_column', 'input_asset_df_path', 'ignore_columns', 'preprocess', 'y_column_original'])\n",
      "- load data keys    : dict_keys(['dataframe'])\n",
      "=======================================================================\n",
      "\n",
      "\u001b[0m\n",
      "[Train pipeline] Dataframe shape before preprocessing (891, 6)\n",
      "[Train pipeline] Dataframe shape after preprocessing (889, 9)\n",
      "Saved : /home/jovyan/project2023/TCR/231130/tcr/alo/.asset_interface/train_pipeline/preprocess_data.pkl\n",
      "Saved : /home/jovyan/project2023/TCR/231130/tcr/alo/.asset_interface/train_pipeline/preprocess_config.pkl\n",
      "\u001b[94m[2023-11-30 07:04:32,657][ASSET][INFO][train_pipeline][preprocess]: \n",
      "\n",
      "============================= ASSET FINISH ===========================\n",
      "- time (UTC)        : 2023-11-30 07:04:32\n",
      "- current step      : preprocess\n",
      "- save config. keys : dict_keys(['meta', 'data_source_type', 'time_format', 'time_column', 'x_columns', 'input_path', 'group_cnt', 'group_keys', 'y_column', 'input_asset_df_path', 'ignore_columns', 'preprocess', 'y_column_original'])\n",
      "- save data keys    : dict_keys(['dataframe'])\n",
      "=======================================================================\n",
      "\n",
      "\u001b[0m\n",
      "\u001b[94m[2023-11-30 07:04:32,660][PROCESS][INFO]: ==================== Finish pipeline: train_pipeline / step: preprocess\u001b[0m\n"
     ]
    }
   ],
   "source": [
    "wrapper.run(args=prep_args)\n",
    "data_preps = wrapper.data"
   ]
  },
  {
   "cell_type": "markdown",
   "id": "83d969b6-e9bf-4726-86f0-c9894d561201",
   "metadata": {},
   "source": [
    "#### 로그 확인\n",
    "- preprocess asset을 run할 때 아래와 같이 각 컬럼 분류 과정을 로그로 확인할 수 있습니다.\n",
    "<div style='text-align:left'><img src=\"src/preps_logs2.PNG\" /></div>\n",
    "- **category 컬럼**으로 Pclass, Embarked, Gender, **numeric 컬럼**으로 Age, SibSp, Fare가 분류됨을 확인할 수 있습니다. \n",
    "- `category_columns = ['Pclass']`가 반영되었음을 알 수 있습니다. \n",
    "<br></br>\n",
    "\n",
    "#### input data와 preprocess asset 결과 data 비교 \n",
    "##### Categorical Encoding 확인\n",
    "- `categorical_encoding: {'label': ['Embarked']}`를 입력했기 때문에, 총 3개의 category 컬럼(Pclass, Embarked, Gender) 중 Embarked에는 label encoding이 적용되고, 나머지 Pclass와 Gender에는 onehot encoding(default)이 적용됩니다. \n",
    "- 아래 Embarked 컬럼을 확인해보면, S->2, C-> 0, Q->1로 변환됨을 확인할 수 있습니다."
   ]
  },
  {
   "cell_type": "code",
   "execution_count": 23,
   "id": "20e2a71b-f4f4-4417-ad07-59a5825d4da9",
   "metadata": {},
   "outputs": [
    {
     "data": {
      "text/plain": [
       "Index(['prep_Cabin', 'prep_Name', 'prep_Ticket', 'PassengerId',\n",
       "       'prep_Embarked', 'prep_Pclass_1', 'prep_Pclass_2', 'prep_Pclass_3',\n",
       "       'prep_Gender_female', 'prep_Gender_male', 'prep_Age', 'prep_Fare',\n",
       "       'prep_SibSp', 'Survived_original', 'prep_Survived'],\n",
       "      dtype='object')"
      ]
     },
     "execution_count": 23,
     "metadata": {},
     "output_type": "execute_result"
    }
   ],
   "source": [
    "data_preps['dataframe'].columns"
   ]
  },
  {
   "cell_type": "code",
   "execution_count": 24,
   "id": "88798340-1f35-4a5b-861f-a205a46600ad",
   "metadata": {},
   "outputs": [
    {
     "data": {
      "text/plain": [
       "S    644\n",
       "C    168\n",
       "Q     77\n",
       "Name: Embarked, dtype: int64"
      ]
     },
     "execution_count": 24,
     "metadata": {},
     "output_type": "execute_result"
    }
   ],
   "source": [
    "data_input['dataframe']['Embarked'].value_counts()"
   ]
  },
  {
   "cell_type": "code",
   "execution_count": 25,
   "id": "993754d2-7f33-448d-83a0-7df26f960abd",
   "metadata": {},
   "outputs": [
    {
     "data": {
      "text/plain": [
       "2    644\n",
       "0    168\n",
       "1     77\n",
       "Name: prep_Embarked, dtype: int64"
      ]
     },
     "execution_count": 25,
     "metadata": {},
     "output_type": "execute_result"
    }
   ],
   "source": [
    "data_preps['dataframe']['prep_Embarked'].value_counts()"
   ]
  },
  {
   "cell_type": "markdown",
   "id": "77b39684-bc58-4cf8-8e62-62d2a012a587",
   "metadata": {},
   "source": [
    "- 아래 Pclass, Gender onehot encoding이 적용되었습니다. "
   ]
  },
  {
   "cell_type": "code",
   "execution_count": 26,
   "id": "3954068c-3de2-449f-9b20-891fc70904a9",
   "metadata": {},
   "outputs": [
    {
     "data": {
      "text/plain": [
       "prep_Gender_male  prep_Gender_female\n",
       "1.0               0.0                   577\n",
       "0.0               1.0                   312\n",
       "dtype: int64"
      ]
     },
     "execution_count": 26,
     "metadata": {},
     "output_type": "execute_result"
    }
   ],
   "source": [
    "data_preps['dataframe'][['prep_Gender_male','prep_Gender_female']].value_counts()"
   ]
  },
  {
   "cell_type": "code",
   "execution_count": 27,
   "id": "e25cc011-3f7d-41b8-a099-7b5b77399593",
   "metadata": {},
   "outputs": [
    {
     "data": {
      "text/plain": [
       "prep_Pclass_1  prep_Pclass_2  prep_Pclass_3\n",
       "0.0            0.0            1.0              491\n",
       "1.0            0.0            0.0              214\n",
       "0.0            1.0            0.0              184\n",
       "dtype: int64"
      ]
     },
     "execution_count": 27,
     "metadata": {},
     "output_type": "execute_result"
    }
   ],
   "source": [
    "data_preps['dataframe'][['prep_Pclass_1','prep_Pclass_2','prep_Pclass_3']].value_counts()"
   ]
  },
  {
   "cell_type": "markdown",
   "id": "34555cf5-cfa3-4776-8b50-726e38969f38",
   "metadata": {
    "tags": []
   },
   "source": [
    "<br></br>\n",
    "##### 결측치 비교\n",
    "- input data의 경우 Age, Cabin, Embarked 세개의 컬럼에 결측치가 존재합니다. \n",
    "- Cabin의 경우에는 cardinality가 50이상이므로 분석 대상에서 제거됩니다. \n",
    "- `custom: { 'handle_missing': {'mean': ['Age'], 'drop': 'category_all'} }`를 입력했기 때문에, Age 결측치는 mean값이 채워지고, category 컬럼에 대해서는 결측치가 drop 될 것입니다.\n",
    "- preprocess asset을 지난 후 Age, Embarked의 결측치가 사라졌음을 확인할 수 있습니다. "
   ]
  },
  {
   "cell_type": "code",
   "execution_count": 28,
   "id": "7988760b-17a0-44c8-a37c-31f2aeb131fa",
   "metadata": {},
   "outputs": [
    {
     "data": {
      "text/plain": [
       "prep_Age         0.0\n",
       "prep_Embarked    0.0\n",
       "dtype: float64"
      ]
     },
     "execution_count": 28,
     "metadata": {},
     "output_type": "execute_result"
    }
   ],
   "source": [
    "data_preps['dataframe'][['prep_Age','prep_Embarked']].isna().sum()/len(data_preps['dataframe'])"
   ]
  },
  {
   "cell_type": "markdown",
   "id": "c70bd1ac-4bb1-4e51-86b7-283b2495d3c3",
   "metadata": {},
   "source": [
    "- Age 컬럼의 5, 17, 19번째 데이터는 nan값입니다. 해당 위치에 Age값의 평균이 들어감을 확인할 수 있습니다. \n",
    "- Age에 standard scaler를 적용했기 때문에 평균값이 0으로 변환되었습니다."
   ]
  },
  {
   "cell_type": "code",
   "execution_count": 29,
   "id": "2455f710-e6f0-491a-9e8a-dadb3fe47855",
   "metadata": {},
   "outputs": [
    {
     "data": {
      "text/plain": [
       "(nan, nan, nan)"
      ]
     },
     "execution_count": 29,
     "metadata": {},
     "output_type": "execute_result"
    }
   ],
   "source": [
    "data_input['dataframe']['Age'].loc[5], data_input['dataframe']['Age'].loc[17], data_input['dataframe']['Age'].loc[19]"
   ]
  },
  {
   "cell_type": "code",
   "execution_count": 30,
   "id": "2a8f9d62-28cb-42b7-8d99-b3d0c7e9fdee",
   "metadata": {},
   "outputs": [
    {
     "data": {
      "text/plain": [
       "(-0.0, -0.0, -0.0)"
      ]
     },
     "execution_count": 30,
     "metadata": {},
     "output_type": "execute_result"
    }
   ],
   "source": [
    "round(data_preps['dataframe']['prep_Age'].loc[5],3), round(data_preps['dataframe']['prep_Age'].loc[5],3), round(data_preps['dataframe']['prep_Age'].loc[5],3)"
   ]
  },
  {
   "cell_type": "markdown",
   "id": "7dd19f94-8392-46af-b50d-0049f0cfb88a",
   "metadata": {},
   "source": [
    "- Embarked의 결측치가 삭제되어 전체 데이터 수가 Embarked의 결측치 수 만큼 줄어들었습니다. "
   ]
  },
  {
   "cell_type": "code",
   "execution_count": 31,
   "id": "46175e05-7ffa-4525-8426-b428fd50cf10",
   "metadata": {},
   "outputs": [
    {
     "data": {
      "text/plain": [
       "2"
      ]
     },
     "execution_count": 31,
     "metadata": {},
     "output_type": "execute_result"
    }
   ],
   "source": [
    "# Embarkd의 결측치 수\n",
    "sum(data_input['dataframe']['Embarked'].isna())"
   ]
  },
  {
   "cell_type": "code",
   "execution_count": 32,
   "id": "1fbaf0d4-aba2-461d-b0cc-c73cdb23a9f5",
   "metadata": {},
   "outputs": [
    {
     "data": {
      "text/plain": [
       "((891, 11), (889, 15))"
      ]
     },
     "execution_count": 32,
     "metadata": {},
     "output_type": "execute_result"
    }
   ],
   "source": [
    "# data_input의 shape과 data_preps의 shape: 행 2개 삭제\n",
    "data_input['dataframe'].shape, data_preps['dataframe'].shape"
   ]
  },
  {
   "cell_type": "markdown",
   "id": "29e1daf3-fc09-4e5f-9f7c-0929b1ada152",
   "metadata": {
    "tags": []
   },
   "source": [
    "<br></br>\n",
    "##### Scaler 확인\n",
    "- `custom: { 'numeric_scaler': {'standard': ['Age'], 'minmax': ['Fare']} }`을 입력했기 때문에 Age 컬럼에는 standard scaler, Fare 컬럼에는 minmax scaler가 적용되었습니다. \n",
    "- 아래 표를 보면 prep_Age컬럼이 평균이 1, 표준편차가 0이 됨을 확인할 수 있습니다.  \n",
    "- prep_Fare 컬럼은 min값이 0, max값이 1이 되었음을 확인할 수 있습니다. "
   ]
  },
  {
   "cell_type": "code",
   "execution_count": 33,
   "id": "545d7578-ddf6-4f23-9b7a-f30d74f3ac45",
   "metadata": {},
   "outputs": [
    {
     "name": "stdout",
     "output_type": "stream",
     "text": [
      "            Age      Fare  prep_Age  prep_Fare\n",
      "count  714.0000  891.0000  889.0000   889.0000\n",
      "mean    29.6991   32.2042   -0.0000     0.0626\n",
      "std     14.5265   49.6934    1.0006     0.0970\n",
      "min      0.4200    0.0000   -2.2546     0.0000\n",
      "25%     20.1250    7.9104   -0.5896     0.0154\n",
      "50%     28.0000   14.4542   -0.0000     0.0282\n",
      "75%     38.0000   31.0000    0.4134     0.0605\n",
      "max     80.0000  512.3292    3.8853     1.0000\n"
     ]
    },
    {
     "data": {
      "image/png": "[encoded data removed]",
      "text/plain": [
       "<Figure size 1000x1000 with 4 Axes>"
      ]
     },
     "metadata": {},
     "output_type": "display_data"
    }
   ],
   "source": [
    "import pandas as pd; import matplotlib.pyplot as plt; import seaborn as sns\n",
    "print(pd.concat([data_input['dataframe'][['Age','Fare']].describe().apply(lambda x:round(x,4)),\n",
    "            data_preps['dataframe'][['prep_Age','prep_Fare']].describe().apply(lambda x:round(x,4))],axis=1))\n",
    "\n",
    "\n",
    "fig, axs = plt.subplots(nrows=2,ncols=2); fig.set_figheight(10); fig.set_figwidth(10)\n",
    "sns.histplot(data_input['dataframe']['Age'],kde=True, ax=axs[0][0])\n",
    "sns.histplot(data_preps['dataframe']['prep_Age'],kde=True, ax=axs[0][1])\n",
    "sns.histplot(data_input['dataframe']['Fare'],kde=True, ax=axs[1][0])\n",
    "sns.histplot(data_preps['dataframe']['prep_Fare'],kde=True, ax=axs[1][1])\n",
    "\n",
    "plt.show()"
   ]
  },
  {
   "cell_type": "markdown",
   "id": "fa8b48a4-3200-489b-be74-c1d7959b7b51",
   "metadata": {},
   "source": [
    "<br></br>\n",
    "#### TCR-train 구동\n",
    "- preprocess asset에서 데이터를 니즈에 맞게 전처리하고 TCR로 학습을 진행하면 데이터 전처리 부터 분류 모델링이 완성됩니다."
   ]
  },
  {
   "cell_type": "code",
   "execution_count": 34,
   "id": "fc9908ca-0ba1-4be3-9577-7deeb983715e",
   "metadata": {},
   "outputs": [
    {
     "name": "stderr",
     "output_type": "stream",
     "text": [
      "IProgress not found. Please update jupyter and ipywidgets. See https://ipywidgets.readthedocs.io/en/stable/user_install.html\n",
      "[2023-11-30 07:05:02,441][USER][INFO][train_pipeline][train]: yaml에 입력된 task가 실행됩니다: classification\n"
     ]
    },
    {
     "name": "stdout",
     "output_type": "stream",
     "text": [
      "font: ['NanumBarunGothic']\n",
      "Loaded : /home/jovyan/project2023/TCR/231130/tcr/alo/.asset_interface/train_pipeline/preprocess_config.pkl\n",
      "Loaded : /home/jovyan/project2023/TCR/231130/tcr/alo/.asset_interface/train_pipeline/preprocess_data.pkl\n",
      "\u001b[92m[2023-11-30 07:05:02,430][ASSET][INFO][train_pipeline][train]: Successfully got model path for saving or loading your AI model: \n",
      " /home/jovyan/project2023/TCR/231130/tcr/alo/.train_artifacts/models/train/\u001b[0m\n",
      "\u001b[92m[2023-11-30 07:05:02,432][ASSET][INFO][train_pipeline][train]: Successfully got << output path >> for saving your data into csv or jpg file: \n",
      " /home/jovyan/project2023/TCR/231130/tcr/alo/.train_artifacts/output/train/ \n",
      " - [NOTE] The names of output file must be fixed as << output.csv, output.jpg >> \u001b[0m\n",
      "\u001b[94m[2023-11-30 07:05:02,434][ASSET][INFO][train_pipeline][train]: \n",
      "\n",
      "============================= ASSET START =============================\n",
      "- time (UTC)        : 2023-11-30 07:05:02\n",
      "- current step      : train\n",
      "- asset branch.     : tcr_v1.1.4\n",
      "- alolib ver.       : 2.1\n",
      "- alo ver.          : 2.1\n",
      "- load envs. keys   : dict_keys(['project_home', 'solution_metadata_version', 'artifacts', 'alo_version', 'interface_mode', 'proc_start_time', 'save_train_artifacts_path', 'save_inference_artifacts_path', 'pipeline', 'step', 'num_step', 'asset_branch', 'load_data', 'load_config', 'save_data', 'save_config', 'log_file_path', 'prev_step'])\n",
      "- load args. keys   : dict_keys(['model_type', 'data_split_method', 'evaluation_metric', 'model_list', 'num_hpo', 'param_range', 'shap_ratio'])\n",
      "- load config. keys : dict_keys(['meta', 'data_source_type', 'time_format', 'time_column', 'x_columns', 'input_path', 'group_cnt', 'group_keys', 'y_column', 'input_asset_df_path', 'ignore_columns', 'preprocess', 'y_column_original'])\n",
      "- load data keys    : dict_keys(['dataframe'])\n",
      "=======================================================================\n",
      "\n",
      "\u001b[0m\n",
      "\u001b[92m[2023-11-30 07:05:02,435][ASSET][INFO][train_pipeline][train]: Successfully got model path for saving or loading your AI model: \n",
      " /home/jovyan/project2023/TCR/231130/tcr/alo/.train_artifacts/models/train/\u001b[0m\n",
      "\u001b[92m[2023-11-30 07:05:02,437][ASSET][INFO][train_pipeline][train]: Successfully got << output path >> for saving your data into csv or jpg file: \n",
      " /home/jovyan/project2023/TCR/231130/tcr/alo/.train_artifacts/output/train/ \n",
      " - [NOTE] The names of output file must be fixed as << output.csv, output.jpg >> \u001b[0m\n",
      "\u001b[92m[2023-11-30 07:05:02,438][ASSET][INFO][train_pipeline][train]: Successfully got << report path >> for saving your << report.html >> file: \n",
      " /home/jovyan/project2023/TCR/231130/tcr/alo/.train_artifacts/report/\u001b[0m\n",
      "해당 column 은 Training 과정에 사용되지 않습니다. (column_name: ['PassengerId'])\n",
      "[INFO] 모델 학습을 시작합니다.\n",
      "\n",
      "crossvalidate 방법을 이용하여 9개 조합의 모델에 대해 총 36번 학습을 시작합니다.\n"
     ]
    },
    {
     "name": "stderr",
     "output_type": "stream",
     "text": [
      "100%|██████████| 36/36 [00:01<00:00, 33.30it/s]"
     ]
    },
    {
     "name": "stdout",
     "output_type": "stream",
     "text": [
      "학습이 완료되었습니다.\n",
      "\n"
     ]
    },
    {
     "name": "stderr",
     "output_type": "stream",
     "text": [
      "\n"
     ]
    },
    {
     "name": "stdout",
     "output_type": "stream",
     "text": [
      "@scoring_classification func. - label list: @scoring_classification func. - label list: @scoring_classification func. - label list: @scoring_classification func. - label list: @scoring_classification func. - label list: @scoring_classification func. - label list: @scoring_classification func. - label list:   @scoring_classification func. - label list:   @scoring_classification func. - label list: {0, 1}  {0, 1}{0, 1}{0, 1}   \n",
      "\n",
      "{0, 1}\n",
      "\n",
      "{0, 1}{0, 1}{0, 1}{0, 1}\n",
      "\n",
      "\n",
      "\n",
      "\n"
     ]
    },
    {
     "name": "stderr",
     "output_type": "stream",
     "text": [
      "The frame.append method is deprecated and will be removed from pandas in a future version. Use pandas.concat instead.\n"
     ]
    },
    {
     "name": "stdout",
     "output_type": "stream",
     "text": [
      "\n",
      "================================================================================\n",
      "[INFO] 평가 지표는 ( accuracy ) 를 사용합니다. \n",
      "모델 정보 로그를 저장합니다. (저장위치: /home/jovyan/project2023/TCR/231130/tcr/alo/.train_artifacts/models/train/model_selection.json)\n",
      "\n",
      "Top 1 model file is saved: /home/jovyan/project2023/TCR/231130/tcr/alo/.train_artifacts/models/train/best_model_top0.pkl\n",
      "[Score] accuracy: 0.8268\n",
      "[Hyper-parameters] max_depth: 5, n_estimators: 100, verbose: 0, random_state: 1234, thread_count: 6, allow_writing_files: False, \n",
      "\n",
      "Top 2 model file is saved: /home/jovyan/project2023/TCR/231130/tcr/alo/.train_artifacts/models/train/best_model_top1.pkl\n",
      "[Score] accuracy: 0.8256\n",
      "[Hyper-parameters] max_depth: 7, n_estimators: 300, verbose: 0, random_state: 1234, thread_count: 6, allow_writing_files: False, \n",
      "\n",
      "Top 3 model file is saved: /home/jovyan/project2023/TCR/231130/tcr/alo/.train_artifacts/models/train/best_model_top2.pkl\n",
      "[Score] accuracy: 0.8245\n",
      "[Hyper-parameters] max_depth: 9, n_estimators: 500, verbose: 0, random_state: 1234, thread_count: 6, allow_writing_files: False, \n",
      "\n",
      "Following model is the best: CatBoostClassifier_set0 / accuracy:0.8268\n",
      "\n",
      "================================================================================\n",
      "\n",
      "[INFO] Summary_plot for Train data 를 저장했습니다.\n",
      "\n",
      "ignore columns와 X로 지정한 데이터 프레임을 합치는 과정중에 에러가 발생했습니다. 확인 부탁드립니다.\n",
      "Saved : /home/jovyan/project2023/TCR/231130/tcr/alo/.asset_interface/train_pipeline/train_data.pkl\n",
      "Saved : /home/jovyan/project2023/TCR/231130/tcr/alo/.asset_interface/train_pipeline/train_config.pkl\n",
      "\u001b[94m[2023-11-30 07:05:06,143][ASSET][INFO][train_pipeline][train]: \n",
      "\n",
      "============================= ASSET FINISH ===========================\n",
      "- time (UTC)        : 2023-11-30 07:05:06\n",
      "- current step      : train\n",
      "- save config. keys : dict_keys(['meta', 'data_source_type', 'time_format', 'time_column', 'x_columns', 'input_path', 'group_cnt', 'group_keys', 'y_column', 'input_asset_df_path', 'ignore_columns', 'preprocess', 'y_column_original'])\n",
      "- save data keys    : dict_keys(['dataframe'])\n",
      "=======================================================================\n",
      "\n",
      "\u001b[0m\n",
      "\u001b[94m[2023-11-30 07:05:06,145][PROCESS][INFO]: ==================== Finish pipeline: train_pipeline / step: train\u001b[0m\n"
     ]
    },
    {
     "data": {
      "image/png": "[encoded data removed]",
      "text/plain": [
       "<Figure size 2500x800 with 1 Axes>"
      ]
     },
     "metadata": {},
     "output_type": "display_data"
    }
   ],
   "source": [
    "wrapper.run(step=2)"
   ]
  },
  {
   "cell_type": "code",
   "execution_count": null,
   "id": "787b4a31-c391-4bc1-bd70-a8c80b6d2d92",
   "metadata": {},
   "outputs": [],
   "source": []
  }
 ],
 "metadata": {
  "kernelspec": {
   "display_name": "tcr1130_2",
   "language": "python",
   "name": "tcr1130_2"
  },
  "language_info": {
   "codemirror_mode": {
    "name": "ipython",
    "version": 3
   },
   "file_extension": ".py",
   "mimetype": "text/x-python",
   "name": "python",
   "nbconvert_exporter": "python",
   "pygments_lexer": "ipython3",
   "version": "3.10.13"
  }
 },
 "nbformat": 4,
 "nbformat_minor": 5
}
