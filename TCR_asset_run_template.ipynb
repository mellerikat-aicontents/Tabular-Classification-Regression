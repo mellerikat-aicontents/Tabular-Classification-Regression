{
 "cells": [
  {
   "cell_type": "markdown",
   "id": "8ba485ca-6d99-47e1-9dc8-edaa1fed8e6b",
   "metadata": {},
   "source": [
    "아래는 ALO 기본 설정 및 라이브러리 설치 코드입니다. 설치 에러가 발생하면 아래 셀을 재실행 하고, 지속적으로 문제가 있을 시 문의바랍니다"
   ]
  },
  {
   "cell_type": "code",
   "execution_count": null,
   "id": "5aad15e2-f671-4c83-b305-fcca2154e45c",
   "metadata": {
    "tags": []
   },
   "outputs": [],
   "source": [
    "import argparse\n",
    "import time\n",
    "import os\n",
    "os.chdir(os.path.abspath(os.path.join('./alo')))\n",
    "from src.alo import ALO\n",
    "alo = ALO(); alo.preset(); pipelines = list(alo.asset_source.keys())\n",
    "from src.external import external_load_data, external_save_artifacts"
   ]
  },
  {
   "cell_type": "markdown",
   "id": "39ce91a6-d23b-4631-92a2-12e15b1b328f",
   "metadata": {
    "tags": []
   },
   "source": [
    "## Train workflow "
   ]
  },
  {
   "cell_type": "code",
   "execution_count": null,
   "id": "90542e06-7111-44ba-8a42-6c4f1400fd2b",
   "metadata": {
    "tags": []
   },
   "outputs": [],
   "source": [
    "# 아래는 Train 시 필요한 라이브러리를 설치하는 코드입니다. library 설치 에러가 발생하면 아래 셀을 재실행 해주세요\n",
    "external_load_data(pipelines[0], alo.external_path, alo.external_path_permission, alo.control['get_external_data'])\n",
    "pipeline = pipelines[0]\n",
    "alo.install_steps(pipeline, alo.control[\"get_asset_source\"])"
   ]
  },
  {
   "cell_type": "markdown",
   "id": "b5fb217e-4e1b-468f-babd-d1bb1f676225",
   "metadata": {},
   "source": [
    "### 1. Input asset \n",
    "##### Input asset의 arguments 수정 및 확인\n",
    "- 필요한경우 input_args의 항목을 ***input_args[argument명]=value입력*** 을 통해 변경할 수 있습니다.  "
   ]
  },
  {
   "cell_type": "code",
   "execution_count": null,
   "id": "0d9aaa50-4c07-46f7-b00e-bc2fec1436f5",
   "metadata": {},
   "outputs": [],
   "source": [
    "# TCR train asset 순서에 따라 step 순서를 입력합니다. (input(0) - preprocess(1) - sampling(2) - train(3))\n",
    "step = 0 \n",
    "input_args = alo.user_parameters[pipeline][step]['args'][0].copy()\n",
    "\n",
    "# 아래 주석을 풀어 input_args를 원하는 값으로 수정합니다. \n",
    "# input_args['x_columns'] = ['input_x0','input_x1']\n",
    "input_args"
   ]
  },
  {
   "cell_type": "markdown",
   "id": "d3f198b5-2888-4c28-8ca1-c194af431d54",
   "metadata": {},
   "source": [
    "##### Input asset 실행 "
   ]
  },
  {
   "cell_type": "code",
   "execution_count": null,
   "id": "e5b3b07b-20d9-4d1d-9433-efa2705ba138",
   "metadata": {
    "tags": []
   },
   "outputs": [],
   "source": [
    "data = pipe_val = {} # 초기 input asset process 세팅\n",
    "\n",
    "data_input, config_input = alo.process_asset_step(alo.asset_source[pipeline][step], step, pipeline, data, pipe_val, [input_args])\n",
    "# data_input: input asset의 결과물입니다. 다음 asset 실행 시 필요합니다. \n",
    "# config_input: input asset의 결과 config입니다. 다음 asset실행 시 필요합니다.\n",
    "\n",
    "# input asset의 결과 dataframe은 data_input['dataframe']으로 확인할 수 있습니다. \n",
    "data_input['dataframe'].head(10) "
   ]
  },
  {
   "cell_type": "markdown",
   "id": "4e1056a2-0146-4612-b32b-eda9b9eef0eb",
   "metadata": {},
   "source": [
    "</br>\n",
    "\n",
    "### 2. Preprocess asset \n",
    "##### Preprocess asset의 args수정 및 확인\n",
    "- 필요한경우 preprocess_args의 항목을 ***preprocess_args[argument명]=value입력*** 을 통해 변경할 수 있습니다.  "
   ]
  },
  {
   "cell_type": "code",
   "execution_count": null,
   "id": "f1ee6653-d1aa-4f0a-91bc-3bd60c158a88",
   "metadata": {
    "tags": []
   },
   "outputs": [],
   "source": [
    "# TCR train asset 순서에 따라 step 순서를 입력합니다. (input(0) - preprocess(1) - sampling(2) - train(3))\n",
    "step = 1 \n",
    "preprocess_args = alo.user_parameters[pipeline][step]['args'][0].copy()\n",
    "\n",
    "# 아래 주석을 풀어 preprocess_args 수정합니다. \n",
    "# preprocess_args['handling_missing'] = 'interpolation'\n",
    "preprocess_args"
   ]
  },
  {
   "cell_type": "markdown",
   "id": "0ae00130-ccf8-4ce4-988d-5cc978cb0d28",
   "metadata": {},
   "source": [
    "##### Preprocess asset 실행 "
   ]
  },
  {
   "cell_type": "code",
   "execution_count": null,
   "id": "3da6ed5f-5324-4775-b748-f4a8592b6aea",
   "metadata": {
    "tags": []
   },
   "outputs": [],
   "source": [
    "data_preprocess, config_preprocess = alo.process_asset_step(alo.asset_source[pipeline][step], step, pipeline, data_input, config_input.copy(), [preprocess_args])\n",
    "# data_preprocess: preprocess asset의 결과물입니다. 다음 asset 실행 시 필요합니다. \n",
    "# config_preprocess: preprocess asset의 결과 config입니다. 다음 asset실행 시 필요합니다. \n",
    "\n",
    "# preprocess asset의 결과 dataframe은 data_preprocess['dataframe']으로 확인할 수 있습니다. \n",
    "data_preprocess['dataframe'].head(10) "
   ]
  },
  {
   "cell_type": "markdown",
   "id": "fd960780-4d1f-43eb-b28d-561031203f53",
   "metadata": {},
   "source": [
    "</br>\n",
    "\n",
    "### 3. Sampling asset \n",
    "##### Sampling asset의 args수정 및 확인\n",
    "- 필요한경우 Sampling_args의 항목을 ***sampling_args[argument명]=value입력*** 을 통해 변경할 수 있습니다.  "
   ]
  },
  {
   "cell_type": "code",
   "execution_count": null,
   "id": "d3385afc-3bda-426f-9a33-ac41d0c2288c",
   "metadata": {
    "tags": []
   },
   "outputs": [],
   "source": [
    "# TCR train asset 순서에 따라 step 순서를 입력합니다. (input(0) - preprocess(1) - sampling(2) - train(3))\n",
    "step = 2 \n",
    "sampling_args = alo.user_parameters[pipeline][step]['args'][0].copy()\n",
    "\n",
    "# 아래 주석을 풀어 preprocess_args 수정합니다. \n",
    "# sampling_args['sampling_type'] = 'under'\n",
    "sampling_args"
   ]
  },
  {
   "cell_type": "markdown",
   "id": "d6fde40b-fb56-47aa-ab6d-4cc95957fe00",
   "metadata": {},
   "source": [
    "##### Sampling asset 실행 "
   ]
  },
  {
   "cell_type": "code",
   "execution_count": null,
   "id": "5af2307c-924c-4f26-9c81-d8044b9ba3bb",
   "metadata": {
    "tags": []
   },
   "outputs": [],
   "source": [
    "data_sampling, config_sampling = alo.process_asset_step(alo.asset_source[pipeline][step], step, pipeline, data_preprocess, config_preprocess.copy(), [sampling_args])\n",
    "# data_sampling: sampling asset의 결과물입니다. 다음 asset 실행 시 필요합니다. \n",
    "# config_sampling: sampling asset의 결과 config입니다. 다음 asset실행 시 필요합니다. \n",
    "\n",
    "# sampling asset의 결과 dataframe은 data_sampling['dataframe']으로 확인할 수 있습니다. \n",
    "data_sampling['dataframe'].head(10) "
   ]
  },
  {
   "cell_type": "markdown",
   "id": "24997c79-babb-4445-b1ff-e2493dfdaad6",
   "metadata": {},
   "source": [
    "</br>\n",
    "\n",
    "### 4. train asset \n",
    "##### train asset의 args수정 및 확인\n",
    "- 필요한경우 TCR_args의 항목을 ***TCR_args[argument명]=value입력*** 을 통해 변경할 수 있습니다.  "
   ]
  },
  {
   "cell_type": "code",
   "execution_count": null,
   "id": "76e0840b-50ba-4f6b-8998-8b28a5bfd5e4",
   "metadata": {
    "tags": []
   },
   "outputs": [],
   "source": [
    "# TCR train asset 순서에 따라 step 순서를 입력합니다. (input(0) - preprocess(1) - sampling(2) - train(3))\n",
    "step = 3 \n",
    "tcr_args = alo.user_parameters[pipeline][step]['args'][0].copy()\n",
    "\n",
    "# 아래 주석을 풀어 tcr_args를 수정합니다. \n",
    "# tcr_args['model_list'] = ['lgb']\n",
    "tcr_args"
   ]
  },
  {
   "cell_type": "markdown",
   "id": "29407e1f-58b2-4c97-b58a-6d684ad47167",
   "metadata": {},
   "source": [
    "##### train asset 실행 "
   ]
  },
  {
   "cell_type": "code",
   "execution_count": null,
   "id": "e964dac8-836a-4b4c-b2b1-d183377d4068",
   "metadata": {
    "tags": []
   },
   "outputs": [],
   "source": [
    "data_tcr, config_tcr = alo.process_asset_step(alo.asset_source[pipeline][step], step, pipeline, data_sampling, config_sampling.copy(), [tcr_args])\n",
    "# data_tcr: TCR asset의 결과물입니다. \n",
    "# config_tcr: TCR asset의 결과 config입니다. \n",
    "\n",
    "# tcr asset의 결과 dataframe은 data_tcr['dataframe']으로 확인할 수 있습니다. \n",
    "data_tcr['dataframe'].head(10) "
   ]
  },
  {
   "cell_type": "markdown",
   "id": "510f0370-76a0-4a67-8f18-fbc0c78be45d",
   "metadata": {},
   "source": [
    "<br>\n",
    "\n",
    "## Inference workflow "
   ]
  },
  {
   "cell_type": "code",
   "execution_count": null,
   "id": "88c4f2ad-3672-47c4-ab90-f242351868a3",
   "metadata": {
    "tags": []
   },
   "outputs": [],
   "source": [
    "# 아래는 Inference 시 필요한 라이브러리를 설치하는 코드입니다. library 설치 에러가 발생하면 아래 셀을 재실행 해주세요\n",
    "external_load_data(pipelines[1], alo.external_path, alo.external_path_permission, alo.control['get_external_data'])\n",
    "pipeline = pipelines[1]\n",
    "alo.install_steps(pipeline, alo.control[\"get_asset_source\"])"
   ]
  },
  {
   "cell_type": "markdown",
   "id": "fff83d2d-96f6-4b76-aae2-cde768ccb459",
   "metadata": {
    "tags": []
   },
   "source": [
    "### 1. Input asset \n",
    "##### Input asset의 arguments 수정 및 확인\n",
    "- 필요한경우 input_args의 항목을 ***input_args[argument명]=value입력*** 을 통해 변경할 수 있습니다.  "
   ]
  },
  {
   "cell_type": "code",
   "execution_count": null,
   "id": "9cd4936e-5a10-4912-9be7-b584bbd46faa",
   "metadata": {
    "tags": []
   },
   "outputs": [],
   "source": [
    "# TCR inference asset 순서에 따라 step 순서를 입력합니다. (input(0) - preprocess(1) - inference(2))\n",
    "step = 0 \n",
    "input_args = alo.user_parameters[pipeline][step]['args'][0].copy()\n",
    "\n",
    "# 아래 주석을 풀어 input_args를 원하는 값으로 수정합니다. \n",
    "# input_args['x_columns'] = ['']\n",
    "input_args"
   ]
  },
  {
   "cell_type": "markdown",
   "id": "6f0ebf68-4622-431b-a458-2f6549949457",
   "metadata": {},
   "source": [
    "##### Input asset 실행 "
   ]
  },
  {
   "cell_type": "code",
   "execution_count": null,
   "id": "4b327df2-05c3-4538-abab-2c54bab36358",
   "metadata": {
    "tags": []
   },
   "outputs": [],
   "source": [
    "data = pipe_val = {} # 초기 input asset process 세팅\n",
    "\n",
    "data_input, config_input = alo.process_asset_step(alo.asset_source[pipeline][step], step, pipeline, data, pipe_val, [input_args])\n",
    "# data_input: input asset의 결과물입니다. 다음 asset 실행 시 필요합니다. \n",
    "# config_input: input asset의 결과 config입니다. 다음 asset실행 시 필요합니다.\n",
    "\n",
    "# input asset의 결과 dataframe은 data_input['dataframe']으로 확인할 수 있습니다. \n",
    "data_input['dataframe'].head(10) "
   ]
  },
  {
   "cell_type": "markdown",
   "id": "a7ed2281-711e-4284-b9ff-6f35a9577f7c",
   "metadata": {},
   "source": [
    "</br>\n",
    "\n",
    "### 2. Preprocess asset \n",
    "##### Preprocess asset의 args수정 및 확인\n",
    "- 필요한경우 preprocess_args의 항목을 ***preprocess_args[argument명]=value입력*** 을 통해 변경할 수 있습니다.  "
   ]
  },
  {
   "cell_type": "code",
   "execution_count": null,
   "id": "947687b4-7573-4557-9f39-5e87256d34f7",
   "metadata": {
    "tags": []
   },
   "outputs": [],
   "source": [
    "# TCR inference  asset 순서에 따라 step 순서를 입력합니다. (input(0) - preprocess(1) - inference(2))\n",
    "step = 1 \n",
    "preprocess_args = alo.user_parameters[pipeline][step]['args'][0].copy()\n",
    "\n",
    "# 아래 주석을 풀어 preprocess_args 수정합니다. \n",
    "# preprocess_args['handling_missing'] = 'interpolation'\n",
    "preprocess_args"
   ]
  },
  {
   "cell_type": "markdown",
   "id": "75ed3255-a09f-460c-9ea6-b2969547df81",
   "metadata": {},
   "source": [
    "##### Preprocess asset 실행 "
   ]
  },
  {
   "cell_type": "code",
   "execution_count": null,
   "id": "d5cc44ca-e531-4d4b-8b36-481f10aa75e1",
   "metadata": {
    "tags": []
   },
   "outputs": [],
   "source": [
    "data_preprocess, config_preprocess = alo.process_asset_step(alo.asset_source[pipeline][step], step, pipeline, data_input, config_input.copy(), [preprocess_args])\n",
    "# data_preprocess: preprocess asset의 결과물입니다. 다음 asset 실행 시 필요합니다. \n",
    "# config_preprocess: preprocess asset의 결과 config입니다. 다음 asset실행 시 필요합니다. \n",
    "\n",
    "# preprocess asset의 결과 dataframe은 data_preprocess['dataframe']으로 확인할 수 있습니다. \n",
    "data_preprocess['dataframe'].head(10) "
   ]
  },
  {
   "cell_type": "markdown",
   "id": "9bab9a71-b432-42b5-872c-4ebf7e69eafc",
   "metadata": {},
   "source": [
    "<br>\n",
    "\n",
    "### 3. inference asset \n",
    "##### inference asset의 args수정 및 확인\n",
    "- 필요한경우 TCR_args의 항목을 ***TCR_args[argument명]=value입력*** 을 통해 변경할 수 있습니다.  "
   ]
  },
  {
   "cell_type": "code",
   "execution_count": null,
   "id": "7346ec19-6e57-4aab-b558-357d0e10a3bf",
   "metadata": {
    "tags": []
   },
   "outputs": [],
   "source": [
    "# TCR inference asset 순서에 따라 step 순서를 입력합니다. (input(0) - preprocess(1) - inference(2))\n",
    "step = 2\n",
    "tcr_args = alo.user_parameters[pipeline][step]['args'][0].copy()\n",
    "\n",
    "# 아래 주석을 풀어 tcr_args를 수정합니다. \n",
    "# tcr_args['model_type'] = \n",
    "tcr_args"
   ]
  },
  {
   "cell_type": "markdown",
   "id": "79326071-d505-4ed2-9f8b-a4fbdad14f02",
   "metadata": {},
   "source": [
    "##### inference asset 실행 "
   ]
  },
  {
   "cell_type": "code",
   "execution_count": null,
   "id": "b90de8db-0682-4c6e-b2e7-60a5dd6024fa",
   "metadata": {
    "tags": []
   },
   "outputs": [],
   "source": [
    "data_tcr, config_tcr = alo.process_asset_step(alo.asset_source[pipeline][step], step, pipeline, data_preprocess, config_preprocess.copy(), [tcr_args])\n",
    "# data_tcr: TCR asset의 결과물입니다. \n",
    "# config_tcr: TCR asset의 결과 config입니다. \n",
    "\n",
    "# tcr asset의 결과 dataframe은 data_tcr['dataframe']으로 확인할 수 있습니다. \n",
    "data_tcr['dataframe'].head(10) "
   ]
  },
  {
   "cell_type": "code",
   "execution_count": null,
   "id": "1d0ce7f7-0ec3-42af-b5d9-fd1f8b32b0ca",
   "metadata": {},
   "outputs": [],
   "source": []
  }
 ],
 "metadata": {
  "kernelspec": {
   "display_name": "tcr1026",
   "language": "python",
   "name": "tcr1026"
  },
  "language_info": {
   "codemirror_mode": {
    "name": "ipython",
    "version": 3
   },
   "file_extension": ".py",
   "mimetype": "text/x-python",
   "name": "python",
   "nbconvert_exporter": "python",
   "pygments_lexer": "ipython3",
   "version": "3.10.12"
  }
 },
 "nbformat": 4,
 "nbformat_minor": 5
}
