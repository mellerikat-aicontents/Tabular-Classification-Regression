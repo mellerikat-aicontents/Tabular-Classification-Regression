{
 "cells": [
  {
   "cell_type": "code",
   "execution_count": 1,
   "id": "ea420913",
   "metadata": {},
   "outputs": [],
   "source": [
    "# python lib\n",
    "import os\n",
    "import shutil\n",
    "import sys\n",
    "import subprocess\n",
    "import time\n",
    "original_directory = os.getcwd()\n",
    "# import alolib\n",
    "import copy\n",
    "\n",
    "# local import\n",
    "os.chdir(os.path.abspath(os.path.join('..')))\n",
    "from common import Logger, print_color, find_matching_strings, asset_info, extract_requirements_txt, check_install_requirements"
   ]
  },
  {
   "cell_type": "code",
   "execution_count": 2,
   "id": "ae3d513d",
   "metadata": {},
   "outputs": [
    {
     "name": "stdout",
     "output_type": "stream",
     "text": [
      "\u001b[92m======================================== Start dependency installation - step : << master >> ========================================\u001b[0m\n",
      "\u001b[93m>> Start checking existence & installing package - alolib@git+http://mod.lge.com/hub/dxadvtech/aicontents-framework/alolib-source.git | Progress: ( 1 / 1 total packages )\u001b[0m\n",
      "\u001b[94m- << alolib@git+http://mod.lge.com/hub/dxadvtech/aicontents-framework/alolib-source.git >> already exists\u001b[0m\n",
      "\u001b[92m======================================== Finish dependency installation ======================================== \n",
      "\u001b[0m\n"
     ]
    }
   ],
   "source": [
    "req_list = extract_requirements_txt(\"master\")\n",
    "master_req = {\"master\": req_list}\n",
    "\n",
    "check_install_requirements(master_req)"
   ]
  },
  {
   "cell_type": "code",
   "execution_count": 3,
   "id": "d0e9efc2",
   "metadata": {},
   "outputs": [],
   "source": [
    "from alolib.asset import Asset\n",
    "from alolib.exception import print_color"
   ]
  },
  {
   "cell_type": "code",
   "execution_count": 4,
   "id": "3504aaf3",
   "metadata": {},
   "outputs": [],
   "source": [
    "# !make clean"
   ]
  },
  {
   "cell_type": "code",
   "execution_count": 5,
   "id": "a284171a",
   "metadata": {},
   "outputs": [],
   "source": [
    "# !make del"
   ]
  },
  {
   "cell_type": "code",
   "execution_count": 6,
   "id": "6662f165",
   "metadata": {},
   "outputs": [],
   "source": [
    "os.chdir(os.path.abspath(os.path.join(original_directory)))"
   ]
  },
  {
   "cell_type": "code",
   "execution_count": 7,
   "id": "bb3fab68",
   "metadata": {},
   "outputs": [],
   "source": [
    "# 현재 위치 확인\n",
    "\n",
    "PROJECT_HOME = os.path.dirname(os.getcwd())\n",
    "# experimental plan yaml의 위치\n",
    "EXP_PLAN = PROJECT_HOME + \"/config/experimental_plan.yaml\"\n",
    "# asset 코드들의 위치\n",
    "SCRIPT_HOME = PROJECT_HOME + \"/assets/\"\n",
    "\n",
    "envs = {}\n",
    "envs['project_home'] = PROJECT_HOME + \"/\"\n",
    "\n",
    "SUPPORT_TYPE = ['memory', 'file']"
   ]
  },
  {
   "cell_type": "code",
   "execution_count": 8,
   "id": "a733fa89",
   "metadata": {},
   "outputs": [
    {
     "name": "stdout",
     "output_type": "stream",
     "text": [
      "\u001b[92m======================================== Start dependency installation - step : << master >> ========================================\u001b[0m\n",
      "\u001b[93m>> Start checking existence & installing package - alolib@git+http://mod.lge.com/hub/dxadvtech/aicontents-framework/alolib-source.git | Progress: ( 1 / 1 total packages )\u001b[0m\n",
      "\u001b[94m- << alolib@git+http://mod.lge.com/hub/dxadvtech/aicontents-framework/alolib-source.git >> already exists\u001b[0m\n",
      "\u001b[92m======================================== Finish dependency installation ======================================== \n",
      "\u001b[0m\n"
     ]
    }
   ],
   "source": [
    "req_list = extract_requirements_txt(\"master\")\n",
    "master_req = {\"master\": req_list}\n",
    "check_install_requirements(master_req)"
   ]
  },
  {
   "cell_type": "code",
   "execution_count": 9,
   "id": "ec50008c",
   "metadata": {},
   "outputs": [],
   "source": [
    "# asset init\n",
    "asset = Asset(envs=envs, argv=0, version=0.1)"
   ]
  },
  {
   "cell_type": "code",
   "execution_count": 10,
   "id": "5b249a83",
   "metadata": {},
   "outputs": [],
   "source": [
    "# configure setting\n",
    "asset.get_yaml(EXP_PLAN)\n",
    "external_path = asset.get_external_path()\n",
    "external_path_permission = asset.get_external_path_permission()\n",
    "pipelines_list = asset.get_pipeline()\n",
    "user_parameters = asset.get_user_parameters()\n",
    "controls = asset.get_control()\n",
    "artifacts = asset.set_artifacts()"
   ]
  },
  {
   "cell_type": "code",
   "execution_count": 11,
   "id": "3add747a",
   "metadata": {},
   "outputs": [
    {
     "name": "stdout",
     "output_type": "stream",
     "text": [
      "\u001b[94m>> Start removing pre-existing input data before fetching external data: <DirEntry 'inf'>\u001b[0m\n",
      "\u001b[94m>> Start removing pre-existing input data before fetching external data: <DirEntry 'train_missing'>\u001b[0m\n",
      "\u001b[92m>> s3 private key file << load_s3_key_path >> loaded successfully.\u001b[0m\n",
      "\u001b[93m>> Start fetching external data from << /nas001/users/yoonji.suh/tcr_test_20231011/train_missing/ >> into << input >> folder.\u001b[0m\n",
      "\u001b[93m>> Start fetching external data from << /nas001/users/yoonji.suh/tcr_test_20231011/inf/ >> into << input >> folder.\u001b[0m\n"
     ]
    }
   ],
   "source": [
    "# 외부 데이터 다운로드 (input 폴더에)\n",
    "asset.fetch_data(external_path, external_path_permission)"
   ]
  },
  {
   "cell_type": "code",
   "execution_count": 12,
   "id": "bad86136",
   "metadata": {},
   "outputs": [],
   "source": [
    "pipe_mode = 'train_pipeline'"
   ]
  },
  {
   "cell_type": "code",
   "execution_count": 13,
   "id": "bf9bb701",
   "metadata": {},
   "outputs": [
    {
     "name": "stdout",
     "output_type": "stream",
     "text": [
      "\u001b[94minput asset has already been created at 2023-10-13 01:17:57.236890\u001b[0m\n",
      "\u001b[94mpreprocess asset has already been created at 2023-10-13 01:17:58.318897\u001b[0m\n",
      "\u001b[94msampling asset has already been created at 2023-10-13 01:17:59.833907\u001b[0m\n",
      "\u001b[94mtrain asset has already been created at 2023-10-13 01:30:36.892990\u001b[0m\n",
      "\u001b[91mIgnored installing << pandas>=1.5.3 >>. Another version will be installed in the previous step.\u001b[0m\n",
      "\u001b[91mIgnored installing << pandas==1.5.3 >>. Another version will be installed in the previous step.\u001b[0m\n",
      "\u001b[91mIgnored installing << pandas==1.5.3 >>. Another version will be installed in the previous step.\u001b[0m\n",
      "\u001b[91mIgnored installing << numpy==1.25.2 >>. Another version will be installed in the previous step.\u001b[0m\n",
      "\u001b[91mIgnored installing << scikit-learn >>. Another version will be installed in the previous step.\u001b[0m\n",
      "\u001b[92m======================================== Start dependency installation - step : << master >> ========================================\u001b[0m\n",
      "\u001b[93m>> Start checking existence & installing package - alolib@git+http://mod.lge.com/hub/dxadvtech/aicontents-framework/alolib-source.git | Progress: ( 1 / 12 total packages )\u001b[0m\n",
      "\u001b[94m- << alolib@git+http://mod.lge.com/hub/dxadvtech/aicontents-framework/alolib-source.git >> already exists\u001b[0m\n",
      "\u001b[92m======================================== Start dependency installation - step : << input >> ========================================\u001b[0m\n",
      "\u001b[93m>> Start checking existence & installing package - pandas>=1.5.3 | Progress: ( 2 / 12 total packages )\u001b[0m\n",
      "\u001b[94m- << pandas>=1.5.3 >> already exists\u001b[0m\n",
      "\u001b[92m======================================== Start dependency installation - step : << preprocess >> ========================================\u001b[0m\n",
      "\u001b[93m>> Start checking existence & installing package - category_encoders | Progress: ( 3 / 12 total packages )\u001b[0m\n",
      "\u001b[94m- << category_encoders >> already exists\u001b[0m\n",
      "\u001b[92m======================================== Start dependency installation - step : << sampling >> ========================================\u001b[0m\n",
      "\u001b[93m>> Start checking existence & installing package - umap-learn | Progress: ( 4 / 12 total packages )\u001b[0m\n",
      "\u001b[94m- << umap-learn >> already exists\u001b[0m\n",
      "\u001b[93m>> Start checking existence & installing package - numpy==1.25.2 | Progress: ( 5 / 12 total packages )\u001b[0m\n",
      "\u001b[94m- << numpy==1.25.2 >> already exists\u001b[0m\n",
      "\u001b[93m>> Start checking existence & installing package - scikit-learn | Progress: ( 6 / 12 total packages )\u001b[0m\n",
      "\u001b[94m- << scikit-learn >> already exists\u001b[0m\n",
      "\u001b[92m======================================== Start dependency installation - step : << train >> ========================================\u001b[0m\n",
      "\u001b[93m>> Start checking existence & installing package - shap | Progress: ( 7 / 12 total packages )\u001b[0m\n",
      "\u001b[94m- << shap >> already exists\u001b[0m\n",
      "\u001b[93m>> Start checking existence & installing package - matplotlib | Progress: ( 8 / 12 total packages )\u001b[0m\n",
      "\u001b[94m- << matplotlib >> already exists\u001b[0m\n",
      "\u001b[93m>> Start checking existence & installing package - lightgbm | Progress: ( 9 / 12 total packages )\u001b[0m\n",
      "\u001b[94m- << lightgbm >> already exists\u001b[0m\n",
      "\u001b[93m>> Start checking existence & installing package - seaborn | Progress: ( 10 / 12 total packages )\u001b[0m\n",
      "\u001b[94m- << seaborn >> already exists\u001b[0m\n",
      "\u001b[93m>> Start checking existence & installing package - catboost | Progress: ( 11 / 12 total packages )\u001b[0m\n",
      "\u001b[94m- << catboost >> already exists\u001b[0m\n",
      "\u001b[93m>> Start checking existence & installing package - ngboost | Progress: ( 12 / 12 total packages )\u001b[0m\n",
      "\u001b[94m- << ngboost >> already exists\u001b[0m\n",
      "\u001b[92m======================================== Finish dependency installation ======================================== \n",
      "\u001b[0m\n"
     ]
    }
   ],
   "source": [
    "####################### ALO master requirements 리스트업 #######################\n",
    "# ALO master requirements 는 최우선 순위로 설치 > 만약 ALO master requirements는 aiplib v2.1인데 slave 제작자가 aiplib v2.2로 명시해놨으면 2.1이 우선 \n",
    "requirements_dict = dict() \n",
    "requirements_dict['master'] =  extract_requirements_txt(step_name = 'master')\n",
    "####################### Slave Asset 설치 및 Slave requirements 리스트업 #######################\n",
    "\n",
    "# setup asset (asset을 git clone (or local) 및 requirements 설치)\n",
    "get_asset_source = controls[\"get_asset_source\"]  # once, every\n",
    "for step, asset_config in enumerate(pipelines_list[pipe_mode]):\n",
    "    # self.asset.setup_asset 기능 :\n",
    "    # local or git pull 결정 및 scripts 폴더 내에 위치시킴 \n",
    "    asset.setup_asset(asset_config, get_asset_source)\n",
    "    requirements_dict[asset_config['step']] = asset_config['source']['requirements']\n",
    "    # local 모드일 땐 이번 step(=asset)의 종속 package들이 내 환경에 깔려있는 지 항상 체크 후 없으면 설치 \n",
    "    # git 모드일 땐 every이거나 once면서 첫 실행 시에만 requirements 설치 \n",
    "\n",
    "####################### Master & Slave requirements 설치 #######################\n",
    "# 이미 asset (step) 폴더들은 input 폴더에 다 setup된 상태 \n",
    "# 각 asset의 yaml에 직접 작성 된 패키지들 + asset 내의 requirements.txt를 참고하여 쭉 리스트업 \n",
    "# asset 간 중복 패키지 존재 시 먼저 실행되는 pipeline, asset에 대해 우선순위 부여하여 설치되게끔   \n",
    "# 패키지 설치 중에 진행중인 asset 단계 표시 및 총 설치 중 몇번 째 설치인지 표시 > pipeline 별로는 별도로 진행 \n",
    "asset.check_install_requirements(requirements_dict) "
   ]
  },
  {
   "cell_type": "code",
   "execution_count": 14,
   "id": "513d8b0a",
   "metadata": {},
   "outputs": [],
   "source": [
    "check_asset_source = controls[\"get_asset_source\"]"
   ]
  },
  {
   "cell_type": "code",
   "execution_count": 15,
   "id": "8d11e5ae",
   "metadata": {},
   "outputs": [],
   "source": [
    "def run(step, args, pipelines, data, pipe_val):\n",
    "    asset_config = pipelines_list[pipelines][step]\n",
    "    asset.setup_asset(asset_config, check_asset_source)\n",
    "    \n",
    "    asset_info(pipelines, asset_config['step'])\n",
    "    \n",
    "    # scripts 폴더에 있는 내용을 가져와 import 한다\n",
    "    _path = SCRIPT_HOME + asset_config['step'] + \"/\"\n",
    "    _file = \"asset_\" + asset_config['step']\n",
    "    user_asset = asset.import_asset(_path, _file)\n",
    "    \n",
    "    if controls['interface_mode'] in SUPPORT_TYPE:\n",
    "        # 첫 동작시에는 초기화하여 사용 \n",
    "        if step == 0:\n",
    "            data = 0\n",
    "            pipe_val = {}\n",
    "        else:\n",
    "            if controls['interface_mode'] == 'memory':\n",
    "                pass\n",
    "            elif controls['interface_mode'] == 'file':\n",
    "                data, pipe_val = asset.get_toss(pipelines, envs) # file interface\n",
    "    else:\n",
    "        return ValueError(\"only file and memory\")\n",
    "    \n",
    "    envs = {}\n",
    "    envs['project_home'] = PROJECT_HOME\n",
    "    envs['pipeline'] = pipelines\n",
    "    envs['step'] = user_parameters[pipelines][step]['step']\n",
    "    envs['artifacts'] = artifacts\n",
    "    \n",
    "    ua = user_asset(envs, args, data, pipe_val)\n",
    "    data, pipe_val = ua.run()\n",
    "    \n",
    "    # self.asset.save_file(data)\n",
    "\n",
    "    sys.path = [item for item in sys.path if envs['step'] not in item]\n",
    "\n",
    "    if controls['interface_mode'] == 'file':\n",
    "        asset.toss(data, pipe_val, pipelines, envs)\n",
    "    else:\n",
    "        return data, pipe_val"
   ]
  },
  {
   "cell_type": "code",
   "execution_count": 16,
   "id": "29bc912d",
   "metadata": {},
   "outputs": [],
   "source": [
    "data = 0\n",
    "pipe_val = 0"
   ]
  },
  {
   "cell_type": "markdown",
   "id": "c0ee4ff9",
   "metadata": {},
   "source": [
    "## Train workflow: 1. Input assets"
   ]
  },
  {
   "cell_type": "code",
   "execution_count": 17,
   "id": "2bdb9c01",
   "metadata": {},
   "outputs": [
    {
     "name": "stdout",
     "output_type": "stream",
     "text": [
      "\u001b[94minput asset has already been created at 2023-10-13 01:17:57.236890\u001b[0m\n",
      "\n",
      "\n",
      "\n",
      "\u001b[94m============================= ASSET INFO =============================\u001b[0m\n",
      "\u001b[94mPIPELINES    : train_pipeline\u001b[0m\n",
      "\u001b[94mASSETS       : input\u001b[0m\n",
      "\u001b[94m=======================================================================\u001b[0m\n",
      "\n",
      "\n",
      "\n",
      "\u001b[93m==================== current time : 2023-10-13 07:43:49.503091+00:00 (UTC) ====================\u001b[0m\n",
      "************************************************************\n",
      "************************************************************\n",
      "\u001b[93m>> Load path : ['/home/jovyan/project/ALO_v2/alov2/input/train_missing/']\u001b[0m\n",
      "\u001b[92m>> The file for batch data has been loaded. (File name: /home/jovyan/project/ALO_v2/alov2/input/train_missing/BF_stat.csv)\u001b[0m\n",
      "\u001b[92m==================== Success loading dataframe ====================\u001b[0m\n",
      "\u001b[93m>> Drop columns from the input dataframe when set << auto >> mode or specified in the << drop_columns >> in config yaml. (dropped colums:[])\u001b[0m\n"
     ]
    },
    {
     "data": {
      "text/plain": [
       "{'dataframe':      Unnamed: 0   No      Time  Ch1  Ch2  Count  Fastening Time  \\\n",
       " 0             0  1.0  16:08:35    1    4    NaN            3207   \n",
       " 1             1  1.0  16:08:11    1    4  661.0            3298   \n",
       " 2             2  1.0  16:09:21    1    4    NaN            3469   \n",
       " 3             3  1.0  16:09:43    1    4  644.0            3214   \n",
       " 4             4  NaN  10:03:30    1    4  518.0            2586   \n",
       " ..          ...  ...       ...  ...  ...    ...             ...   \n",
       " 495         496  1.0  11:50:49    1    4  480.0            2396   \n",
       " 496         497  1.0  21:19:06    1    4  495.0            2472   \n",
       " 497         498  1.0  18:59:56    1    4  517.0            2578   \n",
       " 498         499  1.0  16:31:59    1    4  519.0            2587   \n",
       " 499         500  1.0  15:27:55    1    4  492.0            2453   \n",
       " \n",
       "      Target Torque  Converted Torque  Speed  ...  angle_median    angle_std  \\\n",
       " 0              6.0              6.02    250  ...        3469.0  1793.955856   \n",
       " 1              6.0              6.02    250  ...        3572.0  1828.091133   \n",
       " 2              6.0              6.02    250  ...        3731.0  1889.288418   \n",
       " 3              6.0              6.08    250  ...        3475.0  1800.137459   \n",
       " 4              6.0              6.04    250  ...        2737.0  1570.715252   \n",
       " ..             ...               ...    ...  ...           ...          ...   \n",
       " 495            6.0              6.06    250  ...        2442.0  1498.036939   \n",
       " 496            6.0              6.06    250  ...        2529.0  1527.882210   \n",
       " 497            6.0              6.04    250  ...        2657.0  1574.932713   \n",
       " 498            6.0              6.05    250  ...        2669.0  1579.921028   \n",
       " 499            6.0              6.04    250  ...        2507.0  1520.566223   \n",
       " \n",
       "      torque_max  torque_min  torque_mean  torque_median torque_std ng_type  \\\n",
       " 0          5.95        0.00     1.443754           1.24   1.139063    long   \n",
       " 1          5.93       -0.10     1.540484           1.44   1.169756    long   \n",
       " 2          5.93        0.00     1.491612           1.22   1.284394    long   \n",
       " 3          6.00        0.00     1.521817           1.34   1.110613    long   \n",
       " 4          5.96        0.00     0.391062           0.08   1.073781  rework   \n",
       " ..          ...         ...          ...            ...        ...     ...   \n",
       " 495        6.02       -0.01     0.988771           0.86   0.944294    none   \n",
       " 496        5.96       -0.01     1.104586           0.94   0.980097    none   \n",
       " 497        6.03        0.00     1.114023           0.85   0.967550    none   \n",
       " 498        5.98       -0.01     1.107495           0.99   0.931000    none   \n",
       " 499        6.03       -0.01     1.411626           1.28   0.981037    none   \n",
       " \n",
       "     encoded_label test  \n",
       " 0               0    0  \n",
       " 1               0    1  \n",
       " 2               0    2  \n",
       " 3               0    3  \n",
       " 4               0    4  \n",
       " ..            ...  ...  \n",
       " 495             1  495  \n",
       " 496             1  496  \n",
       " 497             1  497  \n",
       " 498             1  498  \n",
       " 499             1  499  \n",
       " \n",
       " [500 rows x 33 columns]}"
      ]
     },
     "execution_count": 17,
     "metadata": {},
     "output_type": "execute_result"
    }
   ],
   "source": [
    "pipelines = 'train_pipeline'; step = 0\n",
    "args = user_parameters[pipelines][step]['args'][0]\n",
    "if controls['interface_mode'] == 'file':\n",
    "    run(step, pipelines, data, pipe_val)\n",
    "else:\n",
    "    data, config = run(step, args, pipelines, data, pipe_val)\n",
    "data"
   ]
  },
  {
   "cell_type": "code",
   "execution_count": 18,
   "id": "b3bdc98e",
   "metadata": {},
   "outputs": [],
   "source": [
    "# read data from file\n",
    "# get_toss(pipelines, envs)\n",
    "# pipelines: 현재 동작중인 파이프라인 이름\n",
    "# 현재 동작중인 환경 설정\n",
    "if controls['interface_mode'] == 'file':\n",
    "    step = 0\n",
    "    # step: 현재 동작중인 asset number\n",
    "    def make_envs(step):\n",
    "        envs = {}\n",
    "        envs['pipeline'] = pipelines\n",
    "        envs['step'] = user_parameters[pipelines][step]['step']\n",
    "        envs['artifacts'] = artifacts\n",
    "        return envs\n",
    "    data, pipe_val = asset.get_toss(pipelines, make_envs(step))"
   ]
  },
  {
   "cell_type": "markdown",
   "id": "fd401a41",
   "metadata": {},
   "source": [
    "## Train workflow: 2. Preprocess assets"
   ]
  },
  {
   "cell_type": "code",
   "execution_count": 20,
   "id": "55520a9a",
   "metadata": {},
   "outputs": [],
   "source": [
    "# 확인을 위한 input 데이터 백업\n",
    "input_data = copy.copy(data)\n",
    "input_config = copy.copy(config)"
   ]
  },
  {
   "cell_type": "code",
   "execution_count": 19,
   "id": "b515998f",
   "metadata": {
    "scrolled": true
   },
   "outputs": [
    {
     "name": "stdout",
     "output_type": "stream",
     "text": [
      "\u001b[94mpreprocess asset has already been created at 2023-10-13 01:17:58.318897\u001b[0m\n",
      "\n",
      "\n",
      "\n",
      "\u001b[94m============================= ASSET INFO =============================\u001b[0m\n",
      "\u001b[94mPIPELINES    : train_pipeline\u001b[0m\n",
      "\u001b[94mASSETS       : preprocess\u001b[0m\n",
      "\u001b[94m=======================================================================\u001b[0m\n",
      "\n",
      "\n",
      "\n",
      "\u001b[94mGot model path for saving or loading: \n",
      " /home/jovyan/project/ALO_v2/alov2/.train_artifacts/models/preprocess/\u001b[0m\n",
      "************************************************************\n",
      "************************************************************\n",
      "label column : label Encoder saved : /home/jovyan/project/ALO_v2/alov2/.asset_interface/\n",
      "['Count_nan', 'Converted Torque_nan', 'angle_min_nan', 'angle_mean_nan', 'angle_median_nan', 'angle_std_nan', 'angle_max_nan', 'torque_min_nan', 'torque_mean_nan', 'torque_median_nan', 'torque_std_nan', 'torque_max_nan'] label_encoded_nan\n"
     ]
    },
    {
     "name": "stderr",
     "output_type": "stream",
     "text": [
      "fatal: No names found, cannot describe anything.\n"
     ]
    },
    {
     "data": {
      "text/plain": [
       "{'dataframe':      Count  Converted Torque  angle_min   angle_mean  angle_median  \\\n",
       " 0      NaN              6.02        0.0  3131.920561        3469.0   \n",
       " 1    661.0              6.02        0.0  3206.416036        3572.0   \n",
       " 2      NaN              6.02        0.0  3351.405755        3731.0   \n",
       " 3    644.0              6.08        0.0  3138.203416        3475.0   \n",
       " 4    518.0              6.04        0.0  2595.905405        2737.0   \n",
       " ..     ...               ...        ...          ...           ...   \n",
       " 495  480.0              6.06        0.0  2369.070833        2442.0   \n",
       " 496  495.0              6.06        0.0  2437.254545        2529.0   \n",
       " 497  517.0              6.04        0.0  2538.899420        2657.0   \n",
       " 498  519.0              6.05        0.0  2549.233141        2669.0   \n",
       " 499  492.0              6.04        0.0  2421.243902        2507.0   \n",
       " \n",
       "        angle_std  angle_max  torque_min  torque_mean  torque_median  ...  \\\n",
       " 0    1793.955856     5541.0        0.00     1.443754           1.24  ...   \n",
       " 1    1828.091133     5663.0       -0.10     1.540484           1.44  ...   \n",
       " 2    1889.288418     5895.0        0.00     1.491612           1.22  ...   \n",
       " 3    1800.137459     5570.0        0.00     1.521817           1.34  ...   \n",
       " 4    1570.715252     4770.0        0.00     0.391062           0.08  ...   \n",
       " ..           ...        ...         ...          ...            ...  ...   \n",
       " 495  1498.036939     4515.0       -0.01     0.988771           0.86  ...   \n",
       " 496  1527.882210     4604.0       -0.01     1.104586           0.94  ...   \n",
       " 497  1574.932713     4777.0        0.00     1.114023           0.85  ...   \n",
       " 498  1579.921028     4800.0       -0.01     1.107495           0.99  ...   \n",
       " 499  1520.566223     4579.0       -0.01     1.411626           1.28  ...   \n",
       " \n",
       "      angle_mean_nan  angle_median_nan angle_std_nan  angle_max_nan  \\\n",
       " 0       3131.920561            3469.0   1793.955856         5541.0   \n",
       " 1       3206.416036            3572.0   1828.091133         5663.0   \n",
       " 2       3351.405755            3731.0   1889.288418         5895.0   \n",
       " 3       3138.203416            3475.0   1800.137459         5570.0   \n",
       " 4       2595.905405            2737.0   1570.715252         4770.0   \n",
       " ..              ...               ...           ...            ...   \n",
       " 495     2369.070833            2442.0   1498.036939         4515.0   \n",
       " 496     2437.254545            2529.0   1527.882210         4604.0   \n",
       " 497     2538.899420            2657.0   1574.932713         4777.0   \n",
       " 498     2549.233141            2669.0   1579.921028         4800.0   \n",
       " 499     2421.243902            2507.0   1520.566223         4579.0   \n",
       " \n",
       "      torque_min_nan  torque_mean_nan  torque_median_nan  torque_std_nan  \\\n",
       " 0              0.00         1.443754               1.24        1.139063   \n",
       " 1             -0.10         1.540484               1.44        1.169756   \n",
       " 2              0.00         1.491612               1.22        1.284394   \n",
       " 3              0.00         1.521817               1.34        1.110613   \n",
       " 4              0.00         0.391062               0.08        1.073781   \n",
       " ..              ...              ...                ...             ...   \n",
       " 495           -0.01         0.988771               0.86        0.944294   \n",
       " 496           -0.01         1.104586               0.94        0.980097   \n",
       " 497            0.00         1.114023               0.85        0.967550   \n",
       " 498           -0.01         1.107495               0.99        0.931000   \n",
       " 499           -0.01         1.411626               1.28        0.981037   \n",
       " \n",
       "      torque_max_nan  label_encoded_nan  \n",
       " 0              5.95                  0  \n",
       " 1              5.93                  0  \n",
       " 2              5.93                  0  \n",
       " 3              6.00                  0  \n",
       " 4              5.96                  0  \n",
       " ..              ...                ...  \n",
       " 495            6.02                  1  \n",
       " 496            5.96                  1  \n",
       " 497            6.03                  1  \n",
       " 498            5.98                  1  \n",
       " 499            6.03                  1  \n",
       " \n",
       " [500 rows x 27 columns]}"
      ]
     },
     "execution_count": 19,
     "metadata": {},
     "output_type": "execute_result"
    }
   ],
   "source": [
    "pipelines = 'train_pipeline'; step = 1\n",
    "args = user_parameters[pipelines][step]['args'][0]\n",
    "\n",
    "data, config = run(step, args, pipelines, data, config)\n",
    "data"
   ]
  },
  {
   "cell_type": "markdown",
   "id": "f228f6cd",
   "metadata": {},
   "source": [
    "### 2-1. argument 수정해보기(결손치 처리 방식을 interpolation에서 dropna로 변경)"
   ]
  },
  {
   "cell_type": "code",
   "execution_count": 20,
   "id": "e5837e91",
   "metadata": {},
   "outputs": [],
   "source": [
    "# input asset data와 config 다시 불러오기\n",
    "data = copy.copy(input_data)\n",
    "config = copy.copy(input_config)"
   ]
  },
  {
   "cell_type": "code",
   "execution_count": 21,
   "id": "f0cab650",
   "metadata": {},
   "outputs": [
    {
     "name": "stdout",
     "output_type": "stream",
     "text": [
      "\u001b[94mpreprocess asset has already been created at 2023-10-13 01:17:58.318897\u001b[0m\n",
      "\n",
      "\n",
      "\n",
      "\u001b[94m============================= ASSET INFO =============================\u001b[0m\n",
      "\u001b[94mPIPELINES    : train_pipeline\u001b[0m\n",
      "\u001b[94mASSETS       : preprocess\u001b[0m\n",
      "\u001b[94m=======================================================================\u001b[0m\n",
      "\n",
      "\n",
      "\n",
      "\u001b[94mGot model path for saving or loading: \n",
      " /home/jovyan/project/ALO_v2/alov2/.train_artifacts/models/preprocess/\u001b[0m\n",
      "************************************************************\n",
      "************************************************************\n",
      "label column : label Encoder saved : /home/jovyan/project/ALO_v2/alov2/.asset_interface/\n",
      "['Count_nan', 'Converted Torque_nan', 'angle_min_nan', 'angle_mean_nan', 'angle_median_nan', 'angle_std_nan', 'angle_max_nan', 'torque_min_nan', 'torque_mean_nan', 'torque_median_nan', 'torque_std_nan', 'torque_max_nan'] label_encoded_nan\n"
     ]
    },
    {
     "name": "stderr",
     "output_type": "stream",
     "text": [
      "fatal: No names found, cannot describe anything.\n"
     ]
    },
    {
     "data": {
      "text/plain": [
       "{'dataframe':      Count  Converted Torque  angle_min   angle_mean  angle_median  \\\n",
       " 1    661.0              6.02        0.0  3206.416036        3572.0   \n",
       " 3    644.0              6.08        0.0  3138.203416        3475.0   \n",
       " 4    518.0              6.04        0.0  2595.905405        2737.0   \n",
       " 5    513.0              6.00        0.0  2570.904483        2702.0   \n",
       " 6    499.0              6.02        0.0  2511.917836        2626.0   \n",
       " ..     ...               ...        ...          ...           ...   \n",
       " 495  480.0              6.06        0.0  2369.070833        2442.0   \n",
       " 496  495.0              6.06        0.0  2437.254545        2529.0   \n",
       " 497  517.0              6.04        0.0  2538.899420        2657.0   \n",
       " 498  519.0              6.05        0.0  2549.233141        2669.0   \n",
       " 499  492.0              6.04        0.0  2421.243902        2507.0   \n",
       " \n",
       "        angle_std  angle_max  torque_min  torque_mean  torque_median  ...  \\\n",
       " 1    1828.091133     5663.0       -0.10     1.540484           1.44  ...   \n",
       " 3    1800.137459     5570.0        0.00     1.521817           1.34  ...   \n",
       " 4    1570.715252     4770.0        0.00     0.391062           0.08  ...   \n",
       " 5    1563.218318     4759.0       -0.09     0.250799          -0.04  ...   \n",
       " 6    1535.521352     4670.0        0.00     0.316032           0.06  ...   \n",
       " ..           ...        ...         ...          ...            ...  ...   \n",
       " 495  1498.036939     4515.0       -0.01     0.988771           0.86  ...   \n",
       " 496  1527.882210     4604.0       -0.01     1.104586           0.94  ...   \n",
       " 497  1574.932713     4777.0        0.00     1.114023           0.85  ...   \n",
       " 498  1579.921028     4800.0       -0.01     1.107495           0.99  ...   \n",
       " 499  1520.566223     4579.0       -0.01     1.411626           1.28  ...   \n",
       " \n",
       "      angle_mean_nan  angle_median_nan angle_std_nan  angle_max_nan  \\\n",
       " 1       3206.416036            3572.0   1828.091133         5663.0   \n",
       " 3       3138.203416            3475.0   1800.137459         5570.0   \n",
       " 4       2595.905405            2737.0   1570.715252         4770.0   \n",
       " 5       2570.904483            2702.0   1563.218318         4759.0   \n",
       " 6       2511.917836            2626.0   1535.521352         4670.0   \n",
       " ..              ...               ...           ...            ...   \n",
       " 495     2369.070833            2442.0   1498.036939         4515.0   \n",
       " 496     2437.254545            2529.0   1527.882210         4604.0   \n",
       " 497     2538.899420            2657.0   1574.932713         4777.0   \n",
       " 498     2549.233141            2669.0   1579.921028         4800.0   \n",
       " 499     2421.243902            2507.0   1520.566223         4579.0   \n",
       " \n",
       "      torque_min_nan  torque_mean_nan  torque_median_nan  torque_std_nan  \\\n",
       " 1             -0.10         1.540484               1.44        1.169756   \n",
       " 3              0.00         1.521817               1.34        1.110613   \n",
       " 4              0.00         0.391062               0.08        1.073781   \n",
       " 5             -0.09         0.250799              -0.04        1.037297   \n",
       " 6              0.00         0.316032               0.06        0.996103   \n",
       " ..              ...              ...                ...             ...   \n",
       " 495           -0.01         0.988771               0.86        0.944294   \n",
       " 496           -0.01         1.104586               0.94        0.980097   \n",
       " 497            0.00         1.114023               0.85        0.967550   \n",
       " 498           -0.01         1.107495               0.99        0.931000   \n",
       " 499           -0.01         1.411626               1.28        0.981037   \n",
       " \n",
       "      torque_max_nan  label_encoded_nan  \n",
       " 1              5.93                0.0  \n",
       " 3              6.00                0.0  \n",
       " 4              5.96                0.0  \n",
       " 5              6.00                0.0  \n",
       " 6              5.81                0.0  \n",
       " ..              ...                ...  \n",
       " 495            6.02                1.0  \n",
       " 496            5.96                1.0  \n",
       " 497            6.03                1.0  \n",
       " 498            5.98                1.0  \n",
       " 499            6.03                1.0  \n",
       " \n",
       " [498 rows x 27 columns]}"
      ]
     },
     "execution_count": 21,
     "metadata": {},
     "output_type": "execute_result"
    }
   ],
   "source": [
    "pipelines = 'train_pipeline'; step = 1\n",
    "args = user_parameters[pipelines][step]['args'][0]\n",
    "args['handling_missing'] = 'dropna'\n",
    "data, config = run(step, args, pipelines, data, config)\n",
    "data"
   ]
  },
  {
   "cell_type": "markdown",
   "id": "309428e7",
   "metadata": {},
   "source": [
    "## Train workflow: 2. Sampling assets"
   ]
  },
  {
   "cell_type": "code",
   "execution_count": 25,
   "id": "657c7b95",
   "metadata": {
    "scrolled": true
   },
   "outputs": [
    {
     "name": "stdout",
     "output_type": "stream",
     "text": [
      "\u001b[94msampling asset has already been created at 2023-10-13 01:17:59.833907\u001b[0m\n",
      "\n",
      "\n",
      "\n",
      "\u001b[94m============================= ASSET INFO =============================\u001b[0m\n",
      "\u001b[94mPIPELINES    : train_pipeline\u001b[0m\n",
      "\u001b[94mASSETS       : sampling\u001b[0m\n",
      "\u001b[94m=======================================================================\u001b[0m\n",
      "\n",
      "\n",
      "\n"
     ]
    },
    {
     "name": "stderr",
     "output_type": "stream",
     "text": [
      "/home/jovyan/conda/envs/alov22/lib/python3.10/site-packages/tqdm/auto.py:21: TqdmWarning: IProgress not found. Please update jupyter and ipywidgets. See https://ipywidgets.readthedocs.io/en/stable/user_install.html\n",
      "  from .autonotebook import tqdm as notebook_tqdm\n"
     ]
    },
    {
     "name": "stdout",
     "output_type": "stream",
     "text": [
      "************************************************************\n",
      "************************************************************\n"
     ]
    },
    {
     "name": "stderr",
     "output_type": "stream",
     "text": [
      "/home/jovyan/project/ALO_v2/alov2/assets/sampling/asset_sampling.py:203: SettingWithCopyWarning: \n",
      "A value is trying to be set on a copy of a slice from a DataFrame\n",
      "\n",
      "See the caveats in the documentation: https://pandas.pydata.org/pandas-docs/stable/user_guide/indexing.html#returning-a-view-versus-a-copy\n",
      "  df['sampled'].loc[sampled_idx] = 1 # 'sampled' == 1일 때 sampling 된 것\n"
     ]
    },
    {
     "data": {
      "text/plain": [
       "{'dataframe':      Count  Converted Torque  angle_min   angle_mean  angle_median  \\\n",
       " 0    661.0              6.02        0.0  3206.416036        3572.0   \n",
       " 2    518.0              6.04        0.0  2595.905405        2737.0   \n",
       " 4    499.0              6.02        0.0  2511.917836        2626.0   \n",
       " 5    487.0              6.00        0.0  2446.459959        2545.0   \n",
       " 6    505.0              6.02        0.0  2529.869307        2651.0   \n",
       " ..     ...               ...        ...          ...           ...   \n",
       " 493  480.0              6.06        0.0  2369.070833        2442.0   \n",
       " 494  495.0              6.06        0.0  2437.254545        2529.0   \n",
       " 495  517.0              6.04        0.0  2538.899420        2657.0   \n",
       " 496  519.0              6.05        0.0  2549.233141        2669.0   \n",
       " 497  492.0              6.04        0.0  2421.243902        2507.0   \n",
       " \n",
       "        angle_std  angle_max  torque_min  torque_mean  torque_median  ...  \\\n",
       " 0    1828.091133     5663.0       -0.10     1.540484           1.44  ...   \n",
       " 2    1570.715252     4770.0        0.00     0.391062           0.08  ...   \n",
       " 4    1535.521352     4670.0        0.00     0.316032           0.06  ...   \n",
       " 5    1509.739724     4562.0        0.00     0.315688           0.04  ...   \n",
       " 6    1546.469187     4690.0        0.00     0.386891           0.08  ...   \n",
       " ..           ...        ...         ...          ...            ...  ...   \n",
       " 493  1498.036939     4515.0       -0.01     0.988771           0.86  ...   \n",
       " 494  1527.882210     4604.0       -0.01     1.104586           0.94  ...   \n",
       " 495  1574.932713     4777.0        0.00     1.114023           0.85  ...   \n",
       " 496  1579.921028     4800.0       -0.01     1.107495           0.99  ...   \n",
       " 497  1520.566223     4579.0       -0.01     1.411626           1.28  ...   \n",
       " \n",
       "      angle_median_nan  angle_std_nan angle_max_nan  torque_min_nan  \\\n",
       " 0              3572.0    1828.091133        5663.0           -0.10   \n",
       " 2              2737.0    1570.715252        4770.0            0.00   \n",
       " 4              2626.0    1535.521352        4670.0            0.00   \n",
       " 5              2545.0    1509.739724        4562.0            0.00   \n",
       " 6              2651.0    1546.469187        4690.0            0.00   \n",
       " ..                ...            ...           ...             ...   \n",
       " 493            2442.0    1498.036939        4515.0           -0.01   \n",
       " 494            2529.0    1527.882210        4604.0           -0.01   \n",
       " 495            2657.0    1574.932713        4777.0            0.00   \n",
       " 496            2669.0    1579.921028        4800.0           -0.01   \n",
       " 497            2507.0    1520.566223        4579.0           -0.01   \n",
       " \n",
       "      torque_mean_nan  torque_median_nan  torque_std_nan  torque_max_nan  \\\n",
       " 0           1.540484               1.44        1.169756            5.93   \n",
       " 2           0.391062               0.08        1.073781            5.96   \n",
       " 4           0.316032               0.06        0.996103            5.81   \n",
       " 5           0.315688               0.04        1.065089            5.99   \n",
       " 6           0.386891               0.08        1.026302            5.92   \n",
       " ..               ...                ...             ...             ...   \n",
       " 493         0.988771               0.86        0.944294            6.02   \n",
       " 494         1.104586               0.94        0.980097            5.96   \n",
       " 495         1.114023               0.85        0.967550            6.03   \n",
       " 496         1.107495               0.99        0.931000            5.98   \n",
       " 497         1.411626               1.28        0.981037            6.03   \n",
       " \n",
       "      label_encoded_nan  sampled  \n",
       " 0                  0.0      1.0  \n",
       " 2                  0.0      1.0  \n",
       " 4                  0.0      1.0  \n",
       " 5                  0.0      1.0  \n",
       " 6                  0.0      1.0  \n",
       " ..                 ...      ...  \n",
       " 493                1.0      1.0  \n",
       " 494                1.0      1.0  \n",
       " 495                1.0      1.0  \n",
       " 496                1.0      1.0  \n",
       " 497                1.0      1.0  \n",
       " \n",
       " [490 rows x 28 columns]}"
      ]
     },
     "execution_count": 25,
     "metadata": {},
     "output_type": "execute_result"
    }
   ],
   "source": [
    "pipelines = 'train_pipeline'; step = 2\n",
    "args = user_parameters[pipelines][step]['args'][0]\n",
    "\n",
    "data, config = run(step, args, pipelines, data, config)\n",
    "data"
   ]
  },
  {
   "cell_type": "markdown",
   "id": "2a6f3d03",
   "metadata": {},
   "source": [
    "## Train workflow: 2. TCR assets"
   ]
  },
  {
   "cell_type": "code",
   "execution_count": 26,
   "id": "2a2ab34a",
   "metadata": {
    "scrolled": true
   },
   "outputs": [
    {
     "name": "stdout",
     "output_type": "stream",
     "text": [
      "\u001b[94mtrain asset has already been created at 2023-10-13 01:30:36.892990\u001b[0m\n",
      "\n",
      "\n",
      "\n",
      "\u001b[94m============================= ASSET INFO =============================\u001b[0m\n",
      "\u001b[94mPIPELINES    : train_pipeline\u001b[0m\n",
      "\u001b[94mASSETS       : train\u001b[0m\n",
      "\u001b[94m=======================================================================\u001b[0m\n",
      "\n",
      "\n",
      "\n",
      "************************************************************\n",
      "************************************************************\n",
      "\u001b[94mGot model path for saving or loading: \n",
      " /home/jovyan/project/ALO_v2/alov2/.train_artifacts/models/train/\u001b[0m\n",
      "\u001b[94mGot output path for saving or loading: \n",
      " /home/jovyan/project/ALO_v2/alov2/.train_artifacts/output/train/\u001b[0m\n",
      "해당 column 은 Training 과정에 사용되지 않습니다. (column_name: ['torque_mean', 'angle_min', 'angle_mean', 'torque_min', 'Count', 'angle_median', 'angle_max', 'label', 'torque_median', 'torque_std', 'label_encoded_nan', 'Converted Torque', 'label_encoded', 'torque_max', 'angle_std'])\n",
      "[INFO] 모델 학습을 시작합니다.\n"
     ]
    },
    {
     "name": "stderr",
     "output_type": "stream",
     "text": [
      "\n",
      "A value is trying to be set on a copy of a slice from a DataFrame\n",
      "\n",
      "See the caveats in the documentation: https://pandas.pydata.org/pandas-docs/stable/user_guide/indexing.html#returning-a-view-versus-a-copy\n",
      "\n",
      "A value is trying to be set on a copy of a slice from a DataFrame\n",
      "\n",
      "See the caveats in the documentation: https://pandas.pydata.org/pandas-docs/stable/user_guide/indexing.html#returning-a-view-versus-a-copy\n",
      "\n",
      "A value is trying to be set on a copy of a slice from a DataFrame\n",
      "\n",
      "See the caveats in the documentation: https://pandas.pydata.org/pandas-docs/stable/user_guide/indexing.html#returning-a-view-versus-a-copy\n",
      "\n",
      "A value is trying to be set on a copy of a slice from a DataFrame\n",
      "\n",
      "See the caveats in the documentation: https://pandas.pydata.org/pandas-docs/stable/user_guide/indexing.html#returning-a-view-versus-a-copy\n"
     ]
    },
    {
     "name": "stdout",
     "output_type": "stream",
     "text": [
      "[INFO] 0th-fold RandomForestClassifier_set0 모델을 학습합니다.(1/48)\n",
      "[INFO] 1th-fold RandomForestClassifier_set0 모델을 학습합니다.(2/48)\n",
      "[INFO] 2th-fold RandomForestClassifier_set0 모델을 학습합니다.(3/48)\n",
      "[INFO] 3th-fold RandomForestClassifier_set0 모델을 학습합니다.(4/48)\n",
      "[INFO] 0th-fold RandomForestClassifier_set1 모델을 학습합니다.(5/48)\n",
      "[INFO] 1th-fold RandomForestClassifier_set1 모델을 학습합니다.(6/48)\n",
      "[INFO] 2th-fold RandomForestClassifier_set1 모델을 학습합니다.(7/48)\n",
      "[INFO] 3th-fold RandomForestClassifier_set1 모델을 학습합니다.(8/48)\n",
      "[INFO] 0th-fold RandomForestClassifier_set2 모델을 학습합니다.(9/48)\n",
      "[INFO] 1th-fold RandomForestClassifier_set2 모델을 학습합니다.(10/48)\n",
      "[INFO] 2th-fold RandomForestClassifier_set2 모델을 학습합니다.(11/48)\n",
      "[INFO] 3th-fold RandomForestClassifier_set2 모델을 학습합니다.(12/48)\n",
      "[INFO] 0th-fold GradientBoostingClassifier_set0 모델을 학습합니다.(13/48)\n",
      "[INFO] 1th-fold GradientBoostingClassifier_set0 모델을 학습합니다.(14/48)\n",
      "[INFO] 2th-fold GradientBoostingClassifier_set0 모델을 학습합니다.(15/48)\n",
      "[INFO] 3th-fold GradientBoostingClassifier_set0 모델을 학습합니다.(16/48)\n",
      "[INFO] 0th-fold GradientBoostingClassifier_set1 모델을 학습합니다.(17/48)\n",
      "[INFO] 1th-fold GradientBoostingClassifier_set1 모델을 학습합니다.(18/48)\n",
      "[INFO] 2th-fold GradientBoostingClassifier_set1 모델을 학습합니다.(19/48)\n",
      "[INFO] 3th-fold GradientBoostingClassifier_set1 모델을 학습합니다.(20/48)\n",
      "[INFO] 0th-fold GradientBoostingClassifier_set2 모델을 학습합니다.(21/48)\n",
      "[INFO] 1th-fold GradientBoostingClassifier_set2 모델을 학습합니다.(22/48)\n",
      "[INFO] 2th-fold GradientBoostingClassifier_set2 모델을 학습합니다.(23/48)\n",
      "[INFO] 3th-fold GradientBoostingClassifier_set2 모델을 학습합니다.(24/48)\n",
      "[INFO] 0th-fold LGBMClassifier_set0 모델을 학습합니다.(25/48)\n",
      "[INFO] 1th-fold LGBMClassifier_set0 모델을 학습합니다.(26/48)\n",
      "[INFO] 2th-fold LGBMClassifier_set0 모델을 학습합니다.(27/48)\n",
      "[INFO] 3th-fold LGBMClassifier_set0 모델을 학습합니다.(28/48)\n",
      "[INFO] 0th-fold LGBMClassifier_set1 모델을 학습합니다.(29/48)\n",
      "[INFO] 1th-fold LGBMClassifier_set1 모델을 학습합니다.(30/48)\n",
      "[INFO] 2th-fold LGBMClassifier_set1 모델을 학습합니다.(31/48)\n",
      "[INFO] 3th-fold LGBMClassifier_set1 모델을 학습합니다.(32/48)\n",
      "[INFO] 0th-fold LGBMClassifier_set2 모델을 학습합니다.(33/48)\n",
      "[INFO] 1th-fold LGBMClassifier_set2 모델을 학습합니다.(34/48)\n",
      "[INFO] 2th-fold LGBMClassifier_set2 모델을 학습합니다.(35/48)\n",
      "[INFO] 3th-fold LGBMClassifier_set2 모델을 학습합니다.(36/48)\n",
      "[INFO] 0th-fold CatBoostClassifier_set0 모델을 학습합니다.(37/48)\n",
      "[INFO] 1th-fold CatBoostClassifier_set0 모델을 학습합니다.(38/48)\n",
      "[INFO] 2th-fold CatBoostClassifier_set0 모델을 학습합니다.(39/48)\n",
      "[INFO] 3th-fold CatBoostClassifier_set0 모델을 학습합니다.(40/48)\n",
      "[INFO] 0th-fold CatBoostClassifier_set1 모델을 학습합니다.(41/48)\n",
      "[INFO] 1th-fold CatBoostClassifier_set1 모델을 학습합니다.(42/48)\n",
      "[INFO] 2th-fold CatBoostClassifier_set1 모델을 학습합니다.(43/48)\n",
      "[INFO] 3th-fold CatBoostClassifier_set1 모델을 학습합니다.(44/48)\n",
      "[INFO] 0th-fold CatBoostClassifier_set2 모델을 학습합니다.(45/48)\n",
      "[INFO] 1th-fold CatBoostClassifier_set2 모델을 학습합니다.(46/48)\n",
      "[INFO] 2th-fold CatBoostClassifier_set2 모델을 학습합니다.(47/48)\n",
      "[INFO] 3th-fold CatBoostClassifier_set2 모델을 학습합니다.(48/48)\n",
      "@scoring_classification func. - label list: @scoring_classification func. - label list: @scoring_classification func. - label list: @scoring_classification func. - label list: @scoring_classification func. - label list: @scoring_classification func. - label list: @scoring_classification func. - label list: @scoring_classification func. - label list: @scoring_classification func. - label list: @scoring_classification func. - label list: @scoring_classification func. - label list:          {0.0, 1.0}  {0.0, 1.0}{0.0, 1.0}{0.0, 1.0}{0.0, 1.0}{0.0, 1.0}{0.0, 1.0}{0.0, 1.0}@scoring_classification func. - label list: {0.0, 1.0}{0.0, 1.0}{0.0, 1.0}\n",
      "\n",
      "\n",
      "\n",
      "\n",
      "\n",
      "\n",
      "\n",
      "\n",
      "\n",
      "\n",
      " {0.0, 1.0}\n"
     ]
    },
    {
     "name": "stderr",
     "output_type": "stream",
     "text": [
      "The frame.append method is deprecated and will be removed from pandas in a future version. Use pandas.concat instead.\n"
     ]
    },
    {
     "name": "stdout",
     "output_type": "stream",
     "text": [
      "[INFO] 평가 지표는 ( accuracy ) 를 사용합니다. \n",
      "모델 정보 로그를 저장합니다. (저장위치: /home/jovyan/project/ALO_v2/alov2/.train_artifacts/models/train/model_selection.json)\n",
      "모델 파일을 저장합니다. (저장위치: /home/jovyan/project/ALO_v2/alov2/.train_artifacts/models/train/best_model_top0.pkl)\n",
      "모델 파일을 저장합니다. (저장위치: /home/jovyan/project/ALO_v2/alov2/.train_artifacts/models/train/best_model_top1.pkl)\n",
      "모델 파일을 저장합니다. (저장위치: /home/jovyan/project/ALO_v2/alov2/.train_artifacts/models/train/best_model_top2.pkl)\n",
      "[INFO] Summary_plot for Train data 를 저장했습니다.\n",
      "\n"
     ]
    },
    {
     "data": {
      "text/plain": [
       "{'dataframe':      Converted Torque  Count  angle_max   angle_mean  angle_median  angle_min  \\\n",
       " 0                6.03  466.0     4400.0  2294.555794        2351.0        0.0   \n",
       " 1                6.03  513.0     4747.0  2519.389864        2630.0        0.0   \n",
       " 2                6.01  508.0     4719.0  2495.340551        2599.0        0.0   \n",
       " 3                6.04  480.0     4500.0  2363.089583        2436.0        0.0   \n",
       " 4                6.03  519.0     4820.0  2556.795761        2677.0        0.0   \n",
       " ..                ...    ...        ...          ...           ...        ...   \n",
       " 485              6.04  494.0     4615.0  2435.325911        2525.0        0.0   \n",
       " 486              6.02  505.0     4695.0  2481.906931        2584.0        0.0   \n",
       " 487              6.03  480.0     4513.0  2365.718750        2437.0        0.0   \n",
       " 488              6.03  471.0     4436.0  2326.042463        2390.0        0.0   \n",
       " 489              6.02  484.0     4544.0  2387.882231        2466.0        0.0   \n",
       " \n",
       "        angle_std label  label_encoded  label_encoded_nan  ...  x9_shapley  \\\n",
       " 0    1466.212796    OK              1                1.0  ...   -0.023323   \n",
       " 1    1566.350593    OK              1                1.0  ...   -0.022887   \n",
       " 2    1557.126915    OK              1                1.0  ...   -0.023746   \n",
       " 3    1496.649109    OK              1                1.0  ...   -0.022045   \n",
       " 4    1580.509328    OK              1                1.0  ...   -0.022810   \n",
       " ..           ...   ...            ...                ...  ...         ...   \n",
       " 485  1527.101518    OK              1                1.0  ...   -0.022633   \n",
       " 486  1550.623553    OK              1                1.0  ...   -0.022677   \n",
       " 487  1497.495694    OK              1                1.0  ...   -0.024549   \n",
       " 488  1476.430595    OK              1                1.0  ...   -0.022045   \n",
       " 489  1506.082678    OK              1                1.0  ...   -0.021812   \n",
       " \n",
       "      x10_shapley  x11_shapley   y0  y0_pred y0_pred_best0  y0_pred_best1  \\\n",
       " 0       0.000972    -0.009056  1.0      1.0           1.0            1.0   \n",
       " 1      -0.003141    -0.015198  1.0      1.0           1.0            1.0   \n",
       " 2       0.001379    -0.018768  1.0      1.0           1.0            1.0   \n",
       " 3      -0.002834    -0.009000  1.0      1.0           1.0            1.0   \n",
       " 4      -0.003090    -0.018312  1.0      1.0           1.0            1.0   \n",
       " ..           ...          ...  ...      ...           ...            ...   \n",
       " 485    -0.002841    -0.016794  1.0      1.0           1.0            1.0   \n",
       " 486    -0.003143    -0.015933  1.0      1.0           1.0            1.0   \n",
       " 487     0.000980    -0.011670  1.0      1.0           1.0            1.0   \n",
       " 488    -0.002834    -0.008227  1.0      1.0           1.0            1.0   \n",
       " 489    -0.002824    -0.015543  1.0      1.0           1.0            1.0   \n",
       " \n",
       "      y0_pred_best2  y0.0_prob  y1.0_prob  \n",
       " 0              1.0   0.000000   1.000000  \n",
       " 1              1.0   0.000033   0.999967  \n",
       " 2              1.0   0.001250   0.998750  \n",
       " 3              1.0   0.000000   1.000000  \n",
       " 4              1.0   0.000033   0.999967  \n",
       " ..             ...        ...        ...  \n",
       " 485            1.0   0.000033   0.999967  \n",
       " 486            1.0   0.000000   1.000000  \n",
       " 487            1.0   0.000000   1.000000  \n",
       " 488            1.0   0.000033   0.999967  \n",
       " 489            1.0   0.000000   1.000000  \n",
       " \n",
       " [490 rows x 47 columns]}"
      ]
     },
     "execution_count": 26,
     "metadata": {},
     "output_type": "execute_result"
    },
    {
     "data": {
      "image/png": "[encoded data removed]",
      "text/plain": [
       "<Figure size 2500x800 with 1 Axes>"
      ]
     },
     "metadata": {},
     "output_type": "display_data"
    }
   ],
   "source": [
    "pipelines = 'train_pipeline'; step = 3\n",
    "args = user_parameters[pipelines][step]['args'][0]\n",
    "\n",
    "data, config = run(step, args, pipelines, data, config)\n",
    "data"
   ]
  },
  {
   "cell_type": "markdown",
   "id": "8bceefd2",
   "metadata": {},
   "source": [
    "## Inference workflow: 1. Input assets"
   ]
  },
  {
   "cell_type": "code",
   "execution_count": 27,
   "id": "f48a5211",
   "metadata": {
    "scrolled": true
   },
   "outputs": [
    {
     "name": "stdout",
     "output_type": "stream",
     "text": [
      "\u001b[94minput asset has already been created at 2023-10-13 01:17:57.236890\u001b[0m\n",
      "\n",
      "\n",
      "\n",
      "\u001b[94m============================= ASSET INFO =============================\u001b[0m\n",
      "\u001b[94mPIPELINES    : inference_pipeline\u001b[0m\n",
      "\u001b[94mASSETS       : input\u001b[0m\n",
      "\u001b[94m=======================================================================\u001b[0m\n",
      "\n",
      "\n",
      "\n",
      "\u001b[93m==================== current time : 2023-10-13 07:49:46.143456+00:00 (UTC) ====================\u001b[0m\n",
      "************************************************************\n",
      "************************************************************\n",
      "\u001b[93m>> Load path : ['/home/jovyan/project/ALO_v2/alov2/input/inf/']\u001b[0m\n",
      "\u001b[92m>> The file for batch data has been loaded. (File name: /home/jovyan/project/ALO_v2/alov2/input/inf/BF_dup.csv)\u001b[0m\n",
      "\u001b[92m>> The file for batch data has been loaded. (File name: /home/jovyan/project/ALO_v2/alov2/input/inf/BF_stats_inf.csv)\u001b[0m\n",
      "\u001b[92m==================== Success loading dataframe ====================\u001b[0m\n",
      "\u001b[93m>> Drop columns from the input dataframe when set << auto >> mode or specified in the << drop_columns >> in config yaml. (dropped colums:[])\u001b[0m\n"
     ]
    },
    {
     "data": {
      "text/plain": [
       "{'dataframe':    Unnamed: 0   No      Time  Ch1  Ch2  Count  Fastening Time  Target Torque  \\\n",
       " 0         498  1.0  18:59:56    1    4  517.0            2578            6.0   \n",
       " 1         499  1.0  16:31:59    1    4  519.0            2587            6.0   \n",
       " 2         500  1.0  15:27:55    1    4  492.0            2453            6.0   \n",
       " 3         498  1.0  18:59:56    1    4  517.0            2578            6.0   \n",
       " 4         499  1.0  16:31:59    1    4  519.0            2587            6.0   \n",
       " 5         500  1.0  15:27:55    1    4  492.0            2453            6.0   \n",
       " \n",
       "    Converted Torque  Speed  ...  angle_median    angle_std  torque_max  \\\n",
       " 0              6.04    250  ...        2657.0  1574.932713        6.03   \n",
       " 1              6.05    250  ...        2669.0  1579.921028        5.98   \n",
       " 2              6.04    250  ...        2507.0  1520.566223        6.03   \n",
       " 3              6.04    250  ...        2657.0  1574.932713        6.03   \n",
       " 4              6.05    250  ...        2669.0  1579.921028        5.98   \n",
       " 5              6.04    250  ...        2507.0  1520.566223        6.03   \n",
       " \n",
       "    torque_min  torque_mean  torque_median torque_std ng_type encoded_label  \\\n",
       " 0        0.00     1.114023           0.85   0.967550    none             1   \n",
       " 1       -0.01     1.107495           0.99   0.931000    none             1   \n",
       " 2       -0.01     1.411626           1.28   0.981037    none             1   \n",
       " 3        0.00     1.114023           0.85   0.967550    none             1   \n",
       " 4       -0.01     1.107495           0.99   0.931000    none             1   \n",
       " 5       -0.01     1.411626           1.28   0.981037    none             1   \n",
       " \n",
       "   test  \n",
       " 0  497  \n",
       " 1  498  \n",
       " 2  499  \n",
       " 3  497  \n",
       " 4  498  \n",
       " 5  499  \n",
       " \n",
       " [6 rows x 33 columns]}"
      ]
     },
     "execution_count": 27,
     "metadata": {},
     "output_type": "execute_result"
    }
   ],
   "source": [
    "pipelines = 'inference_pipeline'; step = 0\n",
    "args = user_parameters[pipelines][step]['args'][0]\n",
    "\n",
    "data, config = run(step, args, pipelines, data, config)\n",
    "data"
   ]
  },
  {
   "cell_type": "markdown",
   "id": "1cf971cb",
   "metadata": {},
   "source": [
    "## Inference workflow: 2. Preprocess assets"
   ]
  },
  {
   "cell_type": "code",
   "execution_count": 28,
   "id": "531a11cd",
   "metadata": {
    "scrolled": true
   },
   "outputs": [
    {
     "name": "stdout",
     "output_type": "stream",
     "text": [
      "\u001b[92m@ local asset_source_code mode: <preprocess> asset exists.\u001b[0m\n",
      "\n",
      "\n",
      "\n",
      "\u001b[94m============================= ASSET INFO =============================\u001b[0m\n",
      "\u001b[94mPIPELINES    : inference_pipeline\u001b[0m\n",
      "\u001b[94mASSETS       : preprocess\u001b[0m\n",
      "\u001b[94m=======================================================================\u001b[0m\n",
      "\n",
      "\n",
      "\n",
      "\u001b[94mGot model path for saving or loading: \n",
      " /home/jovyan/project/ALO_v2/alov2/.train_artifacts/models/preprocess/\u001b[0m\n",
      "************************************************************\n",
      "************************************************************\n",
      "['Count_nan', 'Converted Torque_nan', 'angle_min_nan', 'angle_mean_nan', 'angle_median_nan', 'angle_std_nan', 'angle_max_nan', 'torque_min_nan', 'torque_mean_nan', 'torque_median_nan', 'torque_std_nan', 'torque_max_nan'] \n"
     ]
    },
    {
     "name": "stderr",
     "output_type": "stream",
     "text": [
      "fatal: No names found, cannot describe anything.\n"
     ]
    },
    {
     "data": {
      "text/plain": [
       "{'dataframe':    Count  Converted Torque  angle_min   angle_mean  angle_median    angle_std  \\\n",
       " 0  517.0              6.04        0.0  2538.899420        2657.0  1574.932713   \n",
       " 1  519.0              6.05        0.0  2549.233141        2669.0  1579.921028   \n",
       " 2  492.0              6.04        0.0  2421.243902        2507.0  1520.566223   \n",
       " 3  517.0              6.04        0.0  2538.899420        2657.0  1574.932713   \n",
       " 4  519.0              6.05        0.0  2549.233141        2669.0  1579.921028   \n",
       " 5  492.0              6.04        0.0  2421.243902        2507.0  1520.566223   \n",
       " \n",
       "    angle_max  torque_min  torque_mean  torque_median  ...  angle_min_nan  \\\n",
       " 0     4777.0        0.00     1.114023           0.85  ...            0.0   \n",
       " 1     4800.0       -0.01     1.107495           0.99  ...            0.0   \n",
       " 2     4579.0       -0.01     1.411626           1.28  ...            0.0   \n",
       " 3     4777.0        0.00     1.114023           0.85  ...            0.0   \n",
       " 4     4800.0       -0.01     1.107495           0.99  ...            0.0   \n",
       " 5     4579.0       -0.01     1.411626           1.28  ...            0.0   \n",
       " \n",
       "    angle_mean_nan  angle_median_nan  angle_std_nan  angle_max_nan  \\\n",
       " 0     2538.899420            2657.0    1574.932713         4777.0   \n",
       " 1     2549.233141            2669.0    1579.921028         4800.0   \n",
       " 2     2421.243902            2507.0    1520.566223         4579.0   \n",
       " 3     2538.899420            2657.0    1574.932713         4777.0   \n",
       " 4     2549.233141            2669.0    1579.921028         4800.0   \n",
       " 5     2421.243902            2507.0    1520.566223         4579.0   \n",
       " \n",
       "    torque_min_nan  torque_mean_nan  torque_median_nan  torque_std_nan  \\\n",
       " 0            0.00         1.114023               0.85        0.967550   \n",
       " 1           -0.01         1.107495               0.99        0.931000   \n",
       " 2           -0.01         1.411626               1.28        0.981037   \n",
       " 3            0.00         1.114023               0.85        0.967550   \n",
       " 4           -0.01         1.107495               0.99        0.931000   \n",
       " 5           -0.01         1.411626               1.28        0.981037   \n",
       " \n",
       "    torque_max_nan  \n",
       " 0            6.03  \n",
       " 1            5.98  \n",
       " 2            6.03  \n",
       " 3            6.03  \n",
       " 4            5.98  \n",
       " 5            6.03  \n",
       " \n",
       " [6 rows x 24 columns]}"
      ]
     },
     "execution_count": 28,
     "metadata": {},
     "output_type": "execute_result"
    }
   ],
   "source": [
    "pipelines = 'inference_pipeline'; step = 1\n",
    "args = user_parameters[pipelines][step]['args'][0]\n",
    "\n",
    "data, config = run(step, args, pipelines, data, config)\n",
    "data"
   ]
  },
  {
   "cell_type": "markdown",
   "id": "455e206f",
   "metadata": {},
   "source": [
    "## Inference workflow: 3. TCR assets"
   ]
  },
  {
   "cell_type": "code",
   "execution_count": 29,
   "id": "cc34ba84",
   "metadata": {
    "scrolled": true
   },
   "outputs": [
    {
     "name": "stdout",
     "output_type": "stream",
     "text": [
      "\u001b[94minference asset has already been created at 2023-10-13 02:42:23.178947\u001b[0m\n",
      "\n",
      "\n",
      "\n",
      "\u001b[94m============================= ASSET INFO =============================\u001b[0m\n",
      "\u001b[94mPIPELINES    : inference_pipeline\u001b[0m\n",
      "\u001b[94mASSETS       : inference\u001b[0m\n",
      "\u001b[94m=======================================================================\u001b[0m\n",
      "\n",
      "\n",
      "\n",
      "\n",
      " ################################### inference_init (sec):  5.5789947509765625e-05 ################################### \n",
      "\n",
      "************************************************************\n",
      "************************************************************\n",
      "\u001b[94mGot model path for saving or loading: \n",
      " /home/jovyan/project/ALO_v2/alov2/.inference_artifacts/models/inference/\u001b[0m\n",
      "\u001b[94mGot model path for saving or loading: \n",
      " /home/jovyan/project/ALO_v2/alov2/.train_artifacts/models/train/\u001b[0m\n",
      "\u001b[94mGot output path for saving or loading: \n",
      " /home/jovyan/project/ALO_v2/alov2/.inference_artifacts/output/inference/\u001b[0m\n",
      "ignore_columns는 Training 과정에 사용되지 않습니다.\n",
      "[INFO] XAI 분석 시, 활용할 모델을 로드합니다.\n",
      "모델을 Load 완료 하였습니다. (모델 위치: /home/jovyan/project/ALO_v2/alov2/.train_artifacts/models/train/best_model_top0.pkl)\n",
      "################################joblib load model time:  0.05661177635192871 s###########################################\n"
     ]
    },
    {
     "data": {
      "text/plain": [
       "{'dataframe':    Converted Torque  Count  angle_max  angle_min    angle_std   angle_mean  \\\n",
       " 0              6.04  517.0     4777.0        0.0  1574.932713  2538.899420   \n",
       " 1              6.05  519.0     4800.0        0.0  1579.921028  2549.233141   \n",
       " 2              6.04  492.0     4579.0        0.0  1520.566223  2421.243902   \n",
       " 3              6.04  517.0     4777.0        0.0  1574.932713  2538.899420   \n",
       " 4              6.05  519.0     4800.0        0.0  1579.921028  2549.233141   \n",
       " 5              6.04  492.0     4579.0        0.0  1520.566223  2421.243902   \n",
       " \n",
       "    angle_median  torque_max  torque_min  torque_std  ...      x4   x5  \\\n",
       " 0        2657.0        6.03        0.00    0.967550  ...  2657.0  0.0   \n",
       " 1        2669.0        5.98       -0.01    0.931000  ...  2669.0  0.0   \n",
       " 2        2507.0        6.03       -0.01    0.981037  ...  2507.0  0.0   \n",
       " 3        2657.0        6.03        0.00    0.967550  ...  2657.0  0.0   \n",
       " 4        2669.0        5.98       -0.01    0.931000  ...  2669.0  0.0   \n",
       " 5        2507.0        6.03       -0.01    0.981037  ...  2507.0  0.0   \n",
       " \n",
       "             x6    x7        x8    x9   x10       x11  prediction  \\\n",
       " 0  1574.932713  6.03  1.114023  0.85  0.00  0.967550         1.0   \n",
       " 1  1579.921028  5.98  1.107495  0.99 -0.01  0.931000         1.0   \n",
       " 2  1520.566223  6.03  1.411626  1.28 -0.01  0.981037         1.0   \n",
       " 3  1574.932713  6.03  1.114023  0.85  0.00  0.967550         1.0   \n",
       " 4  1579.921028  5.98  1.107495  0.99 -0.01  0.931000         1.0   \n",
       " 5  1520.566223  6.03  1.411626  1.28 -0.01  0.981037         1.0   \n",
       " \n",
       "                                prediction_score  \n",
       " 0  [0.00040346606194001643, 0.9995965339380598]  \n",
       " 1  [0.00028852353320438424, 0.9997114764667955]  \n",
       " 2                                    [0.0, 1.0]  \n",
       " 3  [0.00040346606194001643, 0.9995965339380598]  \n",
       " 4  [0.00028852353320438424, 0.9997114764667955]  \n",
       " 5                                    [0.0, 1.0]  \n",
       " \n",
       " [6 rows x 26 columns]}"
      ]
     },
     "execution_count": 29,
     "metadata": {},
     "output_type": "execute_result"
    }
   ],
   "source": [
    "pipelines = 'inference_pipeline'; step = 2\n",
    "args = user_parameters[pipelines][step]['args'][0]\n",
    "\n",
    "data, config = run(step, args, pipelines, data, config)\n",
    "data"
   ]
  }
 ],
 "metadata": {
  "kernelspec": {
   "display_name": "alov22",
   "language": "python",
   "name": "alov22"
  },
  "language_info": {
   "codemirror_mode": {
    "name": "ipython",
    "version": 3
   },
   "file_extension": ".py",
   "mimetype": "text/x-python",
   "name": "python",
   "nbconvert_exporter": "python",
   "pygments_lexer": "ipython3",
   "version": "3.10.12"
  },
  "vscode": {
   "interpreter": {
    "hash": "1edb8b75a6f42bece3a0313165ef30b3528bc29e66ac80a435c02a87b8cbfffc"
   }
  }
 },
 "nbformat": 4,
 "nbformat_minor": 5
}
