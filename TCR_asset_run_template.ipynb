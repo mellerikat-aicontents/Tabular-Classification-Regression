{
 "cells": [
  {
   "cell_type": "markdown",
   "id": "362b6b5c-8668-46b6-b5d8-00888c5580fa",
   "metadata": {},
   "source": [
    "아래는 ALO 기본 설정 및 라이브러리 설치 코드입니다. library 설치 에러가 발생하면 아래 셀을 재실행 하고, 지속적으로 문제가 있을 시 문의바랍니다"
   ]
  },
  {
   "cell_type": "code",
   "execution_count": null,
   "id": "137cd365-9ed9-4941-aa2e-67fca06e1a4f",
   "metadata": {
    "tags": []
   },
   "outputs": [],
   "source": [
    "import os\n",
    "import jupyter_supporter as js \n",
    "import copy\n",
    "os.chdir(os.path.abspath(os.path.join('..')))\n",
    "\n",
    "JS=js.Jsupport()\n",
    "JS.download_data()"
   ]
  },
  {
   "cell_type": "markdown",
   "id": "9b9f36d6-84e0-440e-80d3-b462254b006a",
   "metadata": {
    "tags": []
   },
   "source": [
    "## Train workflow \n",
    "### 1. Input asset \n",
    "##### Input asset의 arguments 수정 및 확인\n",
    "- 필요한경우 input_args의 항목을 ***input_args[argument명]=value입력*** 을 통해 변경할 수 있습니다.  "
   ]
  },
  {
   "cell_type": "code",
   "execution_count": null,
   "id": "90e2c80e-0a14-4e19-b50f-2aa621aec2da",
   "metadata": {
    "tags": []
   },
   "outputs": [],
   "source": [
    "train_pipelines = 'train_pipeline'\n",
    "# TCR asset 순서에 따라 step 순서를 입력합니다. (input(0) - preprocess(1) - sampling(2) - train(3))\n",
    "step = 0 \n",
    "input_args = JS.get_arguments(train_pipelines,step)\n",
    "\n",
    "# 아래 주석을 풀어 input_args를 원하는 값으로 수정합니다. \n",
    "# input_args['x_columns'] = ['']\n",
    "input_args"
   ]
  },
  {
   "cell_type": "markdown",
   "id": "017bbb5c-b15e-4b8b-98c9-9b355da55263",
   "metadata": {},
   "source": [
    "##### Input asset 실행 "
   ]
  },
  {
   "cell_type": "code",
   "execution_count": null,
   "id": "0ac5a67f-02e5-49f5-9d44-34f24b08baaf",
   "metadata": {
    "tags": []
   },
   "outputs": [],
   "source": [
    "data = pipe_val = 0 # 초기 input asset process 세팅\n",
    "data_input, config_input = JS.run(step, input_args, train_pipelines, data, pipe_val) \n",
    "# data_input: input asset의 결과물입니다. 다음 asset 실행 시 필요합니다. \n",
    "# config_input: input asset의 결과 config입니다. 다음 asset실행 시 필요합니다.\n",
    "\n",
    "# input asset의 결과 dataframe은 data_input['dataframe']으로 확인할 수 있습니다. \n",
    "data_input['dataframe'].head(10) "
   ]
  },
  {
   "cell_type": "markdown",
   "id": "b7698dd0-9153-46c0-97d8-6971ab8f3b2c",
   "metadata": {},
   "source": [
    "</br>\n",
    "\n",
    "### 2. Preprocess asset \n",
    "##### Preprocess asset의 args수정 및 확인\n",
    "- 필요한경우 preprocess_args의 항목을 ***preprocess_args[argument명]=value입력*** 을 통해 변경할 수 있습니다.  "
   ]
  },
  {
   "cell_type": "code",
   "execution_count": null,
   "id": "91e75b62-dd0c-441a-a8db-eb6d15a4345b",
   "metadata": {
    "tags": []
   },
   "outputs": [],
   "source": [
    "# TCR asset 순서에 따라 step 순서를 입력합니다. (input(0) - preprocess(1) - sampling(2) - train(3))\n",
    "step = 1 \n",
    "preprocess_args = JS.get_arguments(train_pipelines,step)\n",
    "\n",
    "# 아래 주석을 풀어 preprocess_args 수정합니다. \n",
    "# preprocess_args['handling_missing'] = 'interpolation'\n",
    "preprocess_args"
   ]
  },
  {
   "cell_type": "markdown",
   "id": "8f2d78a8-0a32-4f54-aac7-bff907e2ae94",
   "metadata": {},
   "source": [
    "##### Preprocess asset 실행 "
   ]
  },
  {
   "cell_type": "code",
   "execution_count": null,
   "id": "a116e5ee-0eaa-4cad-9e8b-b7452f7068be",
   "metadata": {
    "tags": []
   },
   "outputs": [],
   "source": [
    "data_preprocess, config_preprocess = JS.run(step, preprocess_args, train_pipelines, data_input, config_input) \n",
    "# data_preprocess: preprocess asset의 결과물입니다. 다음 asset 실행 시 필요합니다. \n",
    "# config_preprocess: preprocess asset의 결과 config입니다. 다음 asset실행 시 필요합니다. \n",
    "\n",
    "# preprocess asset의 결과 dataframe은 data_preprocess['dataframe']으로 확인할 수 있습니다. \n",
    "data_preprocess['dataframe'].head(10) "
   ]
  },
  {
   "cell_type": "markdown",
   "id": "fdd463df-8ac2-4eeb-a020-49f89a05c5a1",
   "metadata": {},
   "source": [
    "</br>\n",
    "\n",
    "### 3. Sampling asset \n",
    "##### Sampling asset의 args수정 및 확인\n",
    "- 필요한경우 Sampling_args의 항목을 ***sampling_args[argument명]=value입력*** 을 통해 변경할 수 있습니다.  "
   ]
  },
  {
   "cell_type": "code",
   "execution_count": null,
   "id": "a20b2f60-8fb3-4115-9006-8bee0b3c5ec7",
   "metadata": {
    "tags": []
   },
   "outputs": [],
   "source": [
    "# TCR asset 순서에 따라 step 순서를 입력합니다. (input(0) - preprocess(1) - sampling(2) - train(3))\n",
    "step = 2 \n",
    "sampling_args = JS.get_arguments(train_pipelines,step)\n",
    "\n",
    "# 아래 주석을 풀어 preprocess_args 수정합니다. \n",
    "# sampling_args['sampling_type'] = 'under'\n",
    "sampling_args"
   ]
  },
  {
   "cell_type": "markdown",
   "id": "4230191c-ec22-4e85-9a18-82817a90e2fb",
   "metadata": {},
   "source": [
    "##### Sampling asset 실행 "
   ]
  },
  {
   "cell_type": "code",
   "execution_count": null,
   "id": "025f4f8c-f430-4c28-b8e0-e27e7fe1a0db",
   "metadata": {
    "tags": []
   },
   "outputs": [],
   "source": [
    "data_sampling, config_sampling = JS.run(step, sampling_args, train_pipelines, data_preprocess, config_preprocess) \n",
    "# data_sampling: sampling asset의 결과물입니다. 다음 asset 실행 시 필요합니다. \n",
    "# config_sampling: sampling asset의 결과 config입니다. 다음 asset실행 시 필요합니다. \n",
    "\n",
    "# sampling asset의 결과 dataframe은 data_sampling['dataframe']으로 확인할 수 있습니다. \n",
    "data_sampling['dataframe'].head(10) "
   ]
  },
  {
   "cell_type": "markdown",
   "id": "c3b6a3a7-2204-42b5-8cc8-a5b5f740f457",
   "metadata": {},
   "source": [
    "</br>\n",
    "\n",
    "### 4. TCR asset \n",
    "##### TCR asset의 args수정 및 확인\n",
    "- 필요한경우 TCR_args의 항목을 ***TCR_args[argument명]=value입력*** 을 통해 변경할 수 있습니다.  "
   ]
  },
  {
   "cell_type": "code",
   "execution_count": null,
   "id": "39f0149f-bfb4-4223-835a-769fd57594bc",
   "metadata": {
    "tags": []
   },
   "outputs": [],
   "source": [
    "# TCR asset 순서에 따라 step 순서를 입력합니다. (input(0) - preprocess(1) - sampling(2) - train(3))\n",
    "step = 3 \n",
    "tcr_args = JS.get_arguments(train_pipelines,step)\n",
    "\n",
    "# 아래 주석을 풀어 tcr_args를 수정합니다. \n",
    "# tcr_args['model_list'] = ['lgb','rf']\n",
    "tcr_args"
   ]
  },
  {
   "cell_type": "markdown",
   "id": "ad0c0b28-561d-4815-b4fc-f2078e1a0f59",
   "metadata": {},
   "source": [
    "##### TCR asset 실행 "
   ]
  },
  {
   "cell_type": "code",
   "execution_count": null,
   "id": "1c2a5dcd-b0b8-455d-8b68-3483238a5aae",
   "metadata": {
    "tags": []
   },
   "outputs": [],
   "source": [
    "data_tcr, config_tcr = JS.run(step, tcr_args, train_pipelines, data_sampling, config_sampling) \n",
    "# data_tcr: TCR asset의 결과물입니다. \n",
    "# config_tcr: TCR asset의 결과 config입니다. \n",
    "\n",
    "# tcr asset의 결과 dataframe은 data_tcr['dataframe']으로 확인할 수 있습니다. \n",
    "data_tcr['dataframe'].head(10) "
   ]
  },
  {
   "cell_type": "markdown",
   "id": "f681c8a8-ffde-4f59-a694-1b3849b90dd4",
   "metadata": {
    "tags": []
   },
   "source": [
    "<br>\n",
    "\n",
    "## Inference workflow \n",
    "### 1. Input asset \n",
    "##### Input asset의 arguments 수정 및 확인\n",
    "- 필요한경우 input_args의 항목을 ***input_args[argument명]=value입력*** 을 통해 변경할 수 있습니다.  "
   ]
  },
  {
   "cell_type": "code",
   "execution_count": null,
   "id": "e2f43e8e-5a9a-4cbc-b2b5-f548d92b3feb",
   "metadata": {
    "tags": []
   },
   "outputs": [],
   "source": [
    "inf_pipelines = 'inference_pipeline'\n",
    "# TCR asset 순서에 따라 step 순서를 입력합니다. (input(0) - preprocess(1) - train(2))\n",
    "step = 0 \n",
    "input_args = JS.get_arguments(inf_pipelines,step)\n",
    "\n",
    "# 아래 주석을 풀어 input_args를 원하는 값으로 수정합니다. \n",
    "# input_args['x_columns'] = ['']\n",
    "input_args"
   ]
  },
  {
   "cell_type": "markdown",
   "id": "f705ac75-11a8-4093-9531-3b09de8fc38e",
   "metadata": {},
   "source": [
    "##### Input asset 실행 "
   ]
  },
  {
   "cell_type": "code",
   "execution_count": null,
   "id": "026f2355-99c7-437f-8274-dbed7aa968d8",
   "metadata": {
    "tags": []
   },
   "outputs": [],
   "source": [
    "data = pipe_val = 0 # 초기 input asset process 세팅\n",
    "data_input, config_input = JS.run(step, input_args, inf_pipelines, data, pipe_val) \n",
    "# data_input: input asset의 결과물입니다. 다음 asset 실행 시 필요합니다. \n",
    "# config_input: input asset의 결과 config입니다. 다음 asset실행 시 필요합니다. \n",
    "\n",
    "# input asset의 결과 dataframe은 data_input['dataframe']으로 확인할 수 있습니다. \n",
    "data_input['dataframe'].head(10) "
   ]
  },
  {
   "cell_type": "markdown",
   "id": "79ddf39d-af5c-48bd-9a96-a3543e030b2c",
   "metadata": {},
   "source": [
    "</br>\n",
    "\n",
    "### 2. Preprocess asset \n",
    "##### Preprocess asset의 args수정 및 확인\n",
    "- 필요한경우 preprocess_args의 항목을 ***preprocess_args[argument명]=value입력*** 을 통해 변경할 수 있습니다.  "
   ]
  },
  {
   "cell_type": "code",
   "execution_count": null,
   "id": "b486fd42-87de-4c15-aa77-324cb77415b1",
   "metadata": {
    "tags": []
   },
   "outputs": [],
   "source": [
    "# TCR asset 순서에 따라 step 순서를 입력합니다. (input(0) - preprocess(1) - train(2))\n",
    "step = 1 \n",
    "preprocess_args = JS.get_arguments(inf_pipelines,step)\n",
    "\n",
    "# 아래 주석을 풀어 preprocess_args 수정합니다. \n",
    "# preprocess_args['handling_missing'] = 'interpolation'\n",
    "preprocess_args"
   ]
  },
  {
   "cell_type": "markdown",
   "id": "6b6a36f8-55c3-4e3e-8879-d8aeb7f9ecac",
   "metadata": {},
   "source": [
    "##### Preprocess asset 실행 "
   ]
  },
  {
   "cell_type": "code",
   "execution_count": null,
   "id": "f690c108-afc0-48e3-9b04-85a4f498c8da",
   "metadata": {
    "tags": []
   },
   "outputs": [],
   "source": [
    "data_preprocess, config_preprocess = JS.run(step, preprocess_args, inf_pipelines, data_input, config_input) \n",
    "# data_preprocess: preprocess asset의 결과물입니다. 다음 asset 실행 시 필요합니다. \n",
    "# config_preprocess: preprocess asset의 결과 config입니다. 다음 asset실행 시 필요합니다. \n",
    "\n",
    "# preprocess asset의 결과 dataframe은 data_input['dataframe']으로 확인할 수 있습니다. \n",
    "data_preprocess['dataframe'].head(10) "
   ]
  },
  {
   "cell_type": "markdown",
   "id": "6a66a6da-7efd-4c9f-92b4-b91366365db7",
   "metadata": {},
   "source": [
    "<br>\n",
    "\n",
    "### 3. TCR asset \n",
    "##### TCR asset의 args수정 및 확인\n",
    "- 필요한경우 TCR_args의 항목을 ***TCR_args[argument명]=value입력*** 을 통해 변경할 수 있습니다.  "
   ]
  },
  {
   "cell_type": "code",
   "execution_count": null,
   "id": "13b21092-9b65-4de1-874e-46e8cbd96075",
   "metadata": {
    "tags": []
   },
   "outputs": [],
   "source": [
    "# TCR asset 순서에 따라 step 순서를 입력합니다. (input(0) - preprocess(1) - train(2))\n",
    "step = 2\n",
    "tcr_args = JS.get_arguments(inf_pipelines,step)\n",
    "\n",
    "# 아래 주석을 풀어 tcr_args를 수정합니다. \n",
    "# tcr_args['model_list'] = ['lgb','rf']\n",
    "tcr_args"
   ]
  },
  {
   "cell_type": "markdown",
   "id": "e5544d75-1e2f-4009-9e24-7cb91bc18ced",
   "metadata": {},
   "source": [
    "##### TCR asset 실행 "
   ]
  },
  {
   "cell_type": "code",
   "execution_count": null,
   "id": "cf9857de-2615-41ec-829f-cddb0808aab2",
   "metadata": {
    "tags": []
   },
   "outputs": [],
   "source": [
    "data_tcr, config_tcr = JS.run(step, tcr_args, inf_pipelines, data_preprocess, config_preprocess) \n",
    "# data_tcr: TCR asset의 결과물입니다. \n",
    "# config_tcr: TCR asset의 결과 config입니다. \n",
    "\n",
    "# tcr asset의 결과 dataframe은 data_tcr['dataframe']으로 확인할 수 있습니다. \n",
    "data_tcr['dataframe'].head(10) "
   ]
  }
 ],
 "metadata": {
  "kernelspec": {
   "display_name": "alo1",
   "language": "python",
   "name": "alo1"
  },
  "language_info": {
   "codemirror_mode": {
    "name": "ipython",
    "version": 3
   },
   "file_extension": ".py",
   "mimetype": "text/x-python",
   "name": "python",
   "nbconvert_exporter": "python",
   "pygments_lexer": "ipython3",
   "version": "3.10.12"
  }
 },
 "nbformat": 4,
 "nbformat_minor": 5
}
