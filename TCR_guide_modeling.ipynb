{
 "cells": [
  {
   "cell_type": "markdown",
   "id": "aba95bf5",
   "metadata": {},
   "source": [
    "# Welcome to Tabular Classification/Regression\n",
    "\n",
    "## This is the instruction for advanced user of Tabular classification/regression"
   ]
  },
  {
   "cell_type": "code",
   "execution_count": null,
   "id": "921781c2",
   "metadata": {},
   "outputs": [],
   "source": [
    "from wrapping import Wrapper"
   ]
  },
  {
   "cell_type": "markdown",
   "id": "0d54b5fd",
   "metadata": {},
   "source": [
    "아래는 ALO 기본 설정 및 라이브러리 설치 코드입니다. 설치 에러가 발생하면 아래 셀을 재실행 하고, 지속적으로 문제가 있을 시 문의바랍니다"
   ]
  },
  {
   "cell_type": "markdown",
   "id": "39ce91a6-d23b-4631-92a2-12e15b1b328f",
   "metadata": {
    "tags": []
   },
   "source": [
    "## Train workflow "
   ]
  },
  {
   "cell_type": "code",
   "execution_count": null,
   "id": "8613866c",
   "metadata": {
    "scrolled": true
   },
   "outputs": [],
   "source": [
    "# 아래는 Train 시 필요한 라이브러리를 설치하는 코드입니다. library 설치 에러가 발생하면 아래 셀을 재실행 해주세요\n",
    "wrapper = Wrapper(0)"
   ]
  },
  {
   "cell_type": "markdown",
   "id": "c3445157",
   "metadata": {},
   "source": [
    "### 본 문서는 TCR train asset에 대한 활용 가이드입니다.\n",
    "\n",
    "### input(step=0)~sampling(step=2)까지 한 번에 실행합니다.\n",
    "### step을 별도 입력하지 않아도 run method 내부에서 알아서 다음 step으로 넘어갑니다."
   ]
  },
  {
   "cell_type": "code",
   "execution_count": null,
   "id": "26e314fb",
   "metadata": {},
   "outputs": [],
   "source": [
    "# TCR train asset 순서에 따라 step 순서를 입력합니다. (input(0) - preprocess(1) - sampling(2) - train(3))\n",
    "## input asset\n",
    "wrapper.run()\n",
    "\n",
    "## preprocess asset\n",
    "wrapper.run()\n",
    "\n",
    "## sampling asset\n",
    "wrapper.run()"
   ]
  },
  {
   "cell_type": "markdown",
   "id": "24997c79-babb-4445-b1ff-e2493dfdaad6",
   "metadata": {},
   "source": [
    "### train asset args 변경하기\n",
    "\n",
    "##### train asset의 args수정 및 확인\n",
    "\n",
    "- 필요한경우 TCR_args의 항목을 ***TCR_args[argument명]=value입력*** 을 통해 변경할 수 있습니다.  "
   ]
  },
  {
   "cell_type": "code",
   "execution_count": null,
   "id": "76e0840b-50ba-4f6b-8998-8b28a5bfd5e4",
   "metadata": {
    "tags": []
   },
   "outputs": [],
   "source": [
    "# TCR train asset 순서에 따라 step 순서를 입력합니다. (input(0) - preprocess(1) - sampling(2) - train(3))\n",
    "tcr_args = wrapper.get_args(step=3)\n",
    "\n",
    "# 아래 주석을 풀어 tcr_args를 수정합니다. \n",
    "# tcr_args['model_list'] = ['lgb']\n",
    "tcr_args"
   ]
  },
  {
   "cell_type": "markdown",
   "id": "45b82f1c",
   "metadata": {},
   "source": [
    "## Following A to D procedure, you can customize TCR asset's arguments option\n",
    "\n",
    "----\n",
    "### arguments explanation\n",
    "\n",
    "|args|explanation|default|example|data type|necessary|\n",
    "|---|---|---|---|---|---|\n",
    "|model_type|a type of problem|`classification`|`classification, regression`|str|yes|\n",
    "|data_split_method|data splitting method for train/validation dataset|`cross_validate`|`cross_validate, train_test_split`|str|no|\n",
    "|evaluation_metric|evaluation metric|`accuracy`|`accuracy, f1-score, recall, precision, mse, r2, mae, rmse`|str|yes|\n",
    "|model_list|HPO candidate ML model list|`[lgb, rf, cb]`|`[lgb, rf, cb, gbm, ngb]`|list|yes|\n",
    "|num_hpo|number of hyperparameter setting options|`3`|`0 ~ 10`|int|no|\n",
    "|param_range|range of hyperparameters for each ML model|(see below)|(see as follows)|dict|no|\n",
    "|shap_ratio|sampling rate of training dataset for shapley value calculation|`1`|`0~1`|float|no|\n",
    "\n"
   ]
  },
  {
   "cell_type": "markdown",
   "id": "e01173fd",
   "metadata": {},
   "source": [
    "### A. Select a type of problem: regression or classification\n",
    "\n",
    "If you have a numeric target data, such as quantity of product, temperature, polulation etc., your problem is a regression. Otherwise, if you have a categorical target data, your problem will be a classification.\n",
    "\n",
    "#### A-1. model_type: regression\n",
    "\n",
    "- model_type: regression\n",
    "- evaluation_meric: 과제/데이터 성격에 맞는 옵션 설정\n",
    "    - mse: mean squared error\n",
    "    - r2: Coefficient of determination\n",
    "    - mae: mean absolute error\n",
    "    - rmse: root mean squared error\n",
    "\n",
    "- model_list: \\[lgb, rf, cb, gbm, ngb\\] 중 학습하고 싶은 모델 선택\n",
    "    - lgb: lightGBM\n",
    "    - rf: Random Forest\n",
    "    - cb: CatBoost\n",
    "    - gbm: Gradient Boosting\n",
    "    - ngb: Natural Gradient Boosting"
   ]
  },
  {
   "cell_type": "code",
   "execution_count": null,
   "id": "5f1ead6c",
   "metadata": {},
   "outputs": [],
   "source": [
    "tcr_args['model_type'] = 'regression'\n",
    "tcr_args['evaluation_meric'] = 'mse'\n",
    "tcr_args['model_list'] = ['lgb', 'rf', 'cb', 'gbm', 'ngb']"
   ]
  },
  {
   "cell_type": "markdown",
   "id": "2c9e4201",
   "metadata": {},
   "source": [
    "#### A-2. model_type: classification\n",
    "\n",
    "- model_type: classification\n",
    "- evaluation_meric: 과제/데이터 성격에 맞는 옵션 설정\n",
    "    - accuracy\n",
    "    - f1-score\n",
    "    - recall\n",
    "    - precision\n",
    "- model_list: \\[lgb, rf, cb, gbm(support binary only) \\] 중 학습하고 싶은 모델 선택\n",
    "    - lgb: lightGBM\n",
    "    - rf: Random Forest\n",
    "    - cb: CatBoost\n",
    "    - gbm: Gradient Boosting"
   ]
  },
  {
   "cell_type": "code",
   "execution_count": null,
   "id": "816dc835",
   "metadata": {},
   "outputs": [],
   "source": [
    "tcr_args['model_type'] = 'classification'\n",
    "tcr_args['evaluation_meric'] = 'accuracy'\n",
    "tcr_args['model_list'] = ['lgb', 'rf', 'cb']"
   ]
  },
  {
   "cell_type": "markdown",
   "id": "05c35a36",
   "metadata": {},
   "source": [
    "### B. Select data splitting method: train_test_split or cross_validate\n",
    "\n",
    "Resource Usage and Performance Trade-offs for Machine Learning. If you have limited resource, then you can split just once training/validattion dataset by selecting `train_test_split` option. If you have enough resource, K-fold cross validation prevent over/under estimation of trained model so we recommend to set `cross_validate` option."
   ]
  },
  {
   "cell_type": "code",
   "execution_count": null,
   "id": "8b0a2813",
   "metadata": {},
   "outputs": [],
   "source": [
    "# tcr_args['data_split_method'] = 'train_test_split'\n",
    "tcr_args['data_split_method'] = 'cross_validate'"
   ]
  },
  {
   "cell_type": "markdown",
   "id": "ded6f62b",
   "metadata": {},
   "source": [
    "### C. Customize Hyperparameter Optimization\n",
    "\n",
    "If you are professional to customize hyperparameter of each machine learning models, you may change default hyperparameter settings. Usually, higher value of n_estimators and max_depth increases model complexity and training time. If you exclude some model in `model_list`, corresponding model's setting in `param_range` will be ignored. Overall hyperparameter min-max range will split into `num_hpo` parameter options."
   ]
  },
  {
   "cell_type": "code",
   "execution_count": null,
   "id": "da776ec8",
   "metadata": {},
   "outputs": [],
   "source": [
    "# setting about gbm, ngb will be ignored\n",
    "tcr_args['num_hpo'] = 5\n",
    "tcr_args['param_range'] = {\n",
    "    'rf': {'max_depth': 6, 'n_estimators': [100, 500]},\n",
    "    'gbm': {'max_depth': [5, 9], 'n_estimators': [100, 500]},\n",
    "    'ngb': {'col_sample': [0.4, 0.9], 'n_estimators': [100, 500]},\n",
    "    'lgb': {'max_depth': [5, 9], 'n_estimators': [100, 500]},\n",
    "    'cb': {'max_depth': [5, 9], 'n_estimators': [100, 500]}}\n",
    "\n",
    "# in this case, rf's optimizing n_estimator options will be 100, 200, 300, 400, 500"
   ]
  },
  {
   "cell_type": "markdown",
   "id": "facd1409",
   "metadata": {},
   "source": [
    "### D. Set shapley_ratio\n",
    "\n",
    "Calculating shapley value takes some time. If you don't need shapley value for training data or you only need estimated shapley value, then you can save calculating time by reducing data."
   ]
  },
  {
   "cell_type": "code",
   "execution_count": null,
   "id": "ee83df47",
   "metadata": {},
   "outputs": [],
   "source": [
    "# tcr_args['shap_ratio'] = 0.5\n",
    "tcr_args['shap_ratio'] = 1"
   ]
  },
  {
   "cell_type": "markdown",
   "id": "29407e1f-58b2-4c97-b58a-6d684ad47167",
   "metadata": {},
   "source": [
    "##### train asset 실행 "
   ]
  },
  {
   "cell_type": "code",
   "execution_count": null,
   "id": "e964dac8-836a-4b4c-b2b1-d183377d4068",
   "metadata": {
    "tags": []
   },
   "outputs": [],
   "source": [
    "wrapper.run(args=tcr_args) # 변경한 tcr_args 반영\n",
    "# wrapper.data: TCR asset의 결과물입니다. \n",
    "# wrapper.config: TCR asset의 결과 config입니다. \n",
    "\n",
    "# tcr asset의 결과 dataframe은 wrapper.data['dataframe']으로 확인할 수 있습니다. \n",
    "wrapper.data['dataframe'].head(10) "
   ]
  },
  {
   "cell_type": "markdown",
   "id": "510f0370-76a0-4a67-8f18-fbc0c78be45d",
   "metadata": {},
   "source": [
    "<br>\n",
    "\n",
    "## Inference workflow "
   ]
  },
  {
   "cell_type": "code",
   "execution_count": null,
   "id": "88c4f2ad-3672-47c4-ab90-f242351868a3",
   "metadata": {
    "tags": []
   },
   "outputs": [],
   "source": [
    "# 아래는 Inference 시 필요한 라이브러리를 설치하는 코드입니다. library 설치 에러가 발생하면 아래 셀을 재실행 해주세요\n",
    "wrapper = Wrapper(1)"
   ]
  },
  {
   "cell_type": "code",
   "execution_count": null,
   "id": "8157999d",
   "metadata": {},
   "outputs": [],
   "source": [
    "# TCR inference asset 순서에 따라 step 순서를 입력합니다. (input(0) - preprocess(1) - train(2))\n",
    "## input asset\n",
    "wrapper.run()\n",
    "\n",
    "## preprocess asset\n",
    "wrapper.run()"
   ]
  },
  {
   "cell_type": "markdown",
   "id": "9bab9a71-b432-42b5-872c-4ebf7e69eafc",
   "metadata": {},
   "source": [
    "### inference asset \n",
    "##### inference asset의 args수정 및 확인\n",
    "- 필요한경우 TCR_args의 항목을 ***TCR_args[argument명]=value입력*** 을 통해 변경할 수 있습니다.  "
   ]
  },
  {
   "cell_type": "code",
   "execution_count": null,
   "id": "7346ec19-6e57-4aab-b558-357d0e10a3bf",
   "metadata": {
    "tags": []
   },
   "outputs": [],
   "source": [
    "# TCR inference asset 순서에 따라 step 순서를 입력합니다. (input(0) - preprocess(1) - inference(2))\n",
    "tcr_args = wrapper.get_args(step=2)\n",
    "\n",
    "# 아래 주석을 풀어 tcr_args를 수정합니다. \n",
    "# tcr_args['model_type'] = \n",
    "tcr_args"
   ]
  },
  {
   "cell_type": "markdown",
   "id": "9244cc4c",
   "metadata": {},
   "source": [
    "### arguments explanation\n",
    "\n",
    "- model_type: Select same option as training workflow's\n",
    "- run_shapley: Calcualte shapley value for inference data or not"
   ]
  },
  {
   "cell_type": "markdown",
   "id": "79326071-d505-4ed2-9f8b-a4fbdad14f02",
   "metadata": {},
   "source": [
    "##### inference asset 실행 "
   ]
  },
  {
   "cell_type": "code",
   "execution_count": null,
   "id": "b90de8db-0682-4c6e-b2e7-60a5dd6024fa",
   "metadata": {
    "tags": []
   },
   "outputs": [],
   "source": [
    "wrapper.run(args=tcr_args) # 변경한 preprocess_args 반영\n",
    "# wrapper.data: TCR asset의 결과물입니다. \n",
    "# wrapper.config: TCR asset의 결과 config입니다. \n",
    "\n",
    "# tcr asset의 결과 dataframe은 wrapper.data['dataframe']으로 확인할 수 있습니다. \n",
    "wrapper.data['dataframe'].head(10) "
   ]
  },
  {
   "cell_type": "code",
   "execution_count": null,
   "id": "1d0ce7f7-0ec3-42af-b5d9-fd1f8b32b0ca",
   "metadata": {},
   "outputs": [],
   "source": []
  }
 ],
 "metadata": {
  "kernelspec": {
   "display_name": "tcr",
   "language": "python",
   "name": "tcr"
  },
  "language_info": {
   "codemirror_mode": {
    "name": "ipython",
    "version": 3
   },
   "file_extension": ".py",
   "mimetype": "text/x-python",
   "name": "python",
   "nbconvert_exporter": "python",
   "pygments_lexer": "ipython3",
   "version": "3.10.12"
  }
 },
 "nbformat": 4,
 "nbformat_minor": 5
}
