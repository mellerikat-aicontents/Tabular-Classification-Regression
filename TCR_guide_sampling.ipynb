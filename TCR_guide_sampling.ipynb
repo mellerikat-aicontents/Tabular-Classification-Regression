{
 "cells": [
  {
   "cell_type": "markdown",
   "id": "9a2b0d04",
   "metadata": {},
   "source": [
    "# Welcome to Tabular Classification/Regression\n",
    "\n",
    "## This is the user guide notebook for sampling asset\n",
    "\n",
    "## According to guide notebooks, find your own arguments."
   ]
  },
  {
   "cell_type": "code",
   "execution_count": 1,
   "id": "aca9a873-16d5-429d-861c-56711c802a91",
   "metadata": {
    "scrolled": false,
    "tags": []
   },
   "outputs": [],
   "source": [
    "from wrapping import Wrapper"
   ]
  },
  {
   "cell_type": "code",
   "execution_count": 2,
   "id": "68f3ed44",
   "metadata": {
    "scrolled": true
   },
   "outputs": [
    {
     "name": "stdout",
     "output_type": "stream",
     "text": [
      "\u001b[94m[2023-11-16 01:44:16,961][PROCESS][INFO]: You did not write any << s3_private_key_file >> in the config yaml file. When you wanna get data from s3 storage, \n",
      "                                 you have to write the s3_private_key_file path or set << ACCESS_KEY, SECRET_KEY >> in your os environment. \n",
      "\u001b[0m\n",
      "\u001b[94m[2023-11-16 01:44:16,963][PROCESS][INFO]:  << train >> already exists in << /home/jovyan/project/alo_test/tcr/alo/input/ >>. \n",
      " & << get_external_data >> is set as << every >>. \n",
      " Start re-loading external data. << /nas001/users/sujin2.lee/share/techtalk_sampling_1030/train/ >> : pre-existing directory is deleted ! \n",
      "\u001b[0m\n",
      "\u001b[94m[2023-11-16 01:44:17,396][PROCESS][INFO]: Start setting-up << input >> asset @ << assets >> directory.\u001b[0m\n",
      "\u001b[94m[2023-11-16 01:44:17,400][PROCESS][INFO]: Start renewing asset : /home/jovyan/project/alo_test/tcr/alo/assets/input\u001b[0m\n",
      "\u001b[92m[2023-11-16 01:44:17,969][PROCESS][INFO]: /home/jovyan/project/alo_test/tcr/alo/assets/input successfully pulled.\u001b[0m\n",
      "\u001b[94m[2023-11-16 01:44:17,973][PROCESS][INFO]: Start setting-up << sampling >> asset @ << assets >> directory.\u001b[0m\n",
      "\u001b[94m[2023-11-16 01:44:17,977][PROCESS][INFO]: Start renewing asset : /home/jovyan/project/alo_test/tcr/alo/assets/sampling\u001b[0m\n",
      "\u001b[92m[2023-11-16 01:44:18,718][PROCESS][INFO]: /home/jovyan/project/alo_test/tcr/alo/assets/sampling successfully pulled.\u001b[0m\n",
      "\u001b[94m[2023-11-16 01:44:18,721][PROCESS][INFO]: Start setting-up << train >> asset @ << assets >> directory.\u001b[0m\n",
      "\u001b[94m[2023-11-16 01:44:18,725][PROCESS][INFO]: Start renewing asset : /home/jovyan/project/alo_test/tcr/alo/assets/train\u001b[0m\n",
      "\u001b[92m[2023-11-16 01:44:19,217][PROCESS][INFO]: /home/jovyan/project/alo_test/tcr/alo/assets/train successfully pulled.\u001b[0m\n",
      "\u001b[94m[2023-11-16 01:44:19,223][PROCESS][INFO]: >>> Ignored installing << pandas==1.5.3 >>. Another version would be installed in the previous step.\u001b[0m\n",
      "\u001b[94m[2023-11-16 01:44:19,226][PROCESS][INFO]: >>> Ignored installing << numpy==1.25.2 >>. Another version would be installed in the previous step.\u001b[0m\n",
      "\u001b[94m[2023-11-16 01:44:19,231][PROCESS][INFO]: >>> Ignored installing << pandas==1.5.3 >>. Another version would be installed in the previous step.\u001b[0m\n",
      "\u001b[94m[2023-11-16 01:44:19,234][PROCESS][INFO]: >>> Ignored installing << scikit-learn >>. Another version would be installed in the previous step.\u001b[0m\n",
      "\u001b[94m[2023-11-16 01:44:19,236][PROCESS][INFO]: >>> Ignored installing << matplotlib >>. Another version would be installed in the previous step.\u001b[0m\n",
      "\u001b[94m[2023-11-16 01:44:19,239][PROCESS][INFO]: >>> Ignored installing << missingno >>. Another version would be installed in the previous step.\u001b[0m\n",
      "\u001b[94m[2023-11-16 01:44:19,242][PROCESS][INFO]: ======================================== Start dependency installation : << input >> \u001b[0m\n",
      "\u001b[94m[2023-11-16 01:44:19,245][PROCESS][INFO]: Start checking existence & installing package - pandas==1.5.3 | Progress: ( 1 / 13 total packages ) \u001b[0m\n",
      "\u001b[92m[2023-11-16 01:44:19,248][PROCESS][INFO]: [OK] << pandas==1.5.3 >> already exists\u001b[0m\n",
      "\u001b[94m[2023-11-16 01:44:19,251][PROCESS][INFO]: Start checking existence & installing package - missingno | Progress: ( 2 / 13 total packages ) \u001b[0m\n",
      "\u001b[92m[2023-11-16 01:44:19,254][PROCESS][INFO]: [OK] << missingno >> already exists\u001b[0m\n",
      "\u001b[94m[2023-11-16 01:44:19,256][PROCESS][INFO]: ======================================== Start dependency installation : << sampling >> \u001b[0m\n",
      "\u001b[94m[2023-11-16 01:44:19,259][PROCESS][INFO]: Start checking existence & installing package - numpy==1.25.2 | Progress: ( 3 / 13 total packages ) \u001b[0m\n",
      "\u001b[92m[2023-11-16 01:44:19,262][PROCESS][INFO]: [OK] << numpy==1.25.2 >> already exists\u001b[0m\n",
      "\u001b[94m[2023-11-16 01:44:19,264][PROCESS][INFO]: Start checking existence & installing package - numba==0.58.0 | Progress: ( 4 / 13 total packages ) \u001b[0m\n",
      "\u001b[93m[2023-11-16 01:44:19,268][PROCESS][WARNING]: VersionConflict occurs. Start re-installing package << numba==0.58.0 >>. \n",
      " You should check the dependency for the package among assets.\u001b[0m\n",
      "Collecting numba==0.58.0\n",
      "  Using cached numba-0.58.0-cp310-cp310-manylinux2014_x86_64.manylinux_2_17_x86_64.whl.metadata (2.7 kB)\n",
      "Requirement already satisfied: llvmlite<0.42,>=0.41.0dev0 in /home/jovyan/conda/envs/tcr_test/lib/python3.10/site-packages (from numba==0.58.0) (0.41.1)\n",
      "Requirement already satisfied: numpy<1.26,>=1.21 in /home/jovyan/conda/envs/tcr_test/lib/python3.10/site-packages (from numba==0.58.0) (1.25.2)\n",
      "Using cached numba-0.58.0-cp310-cp310-manylinux2014_x86_64.manylinux_2_17_x86_64.whl (3.6 MB)\n",
      "Installing collected packages: numba\n",
      "  Attempting uninstall: numba\n",
      "    Found existing installation: numba 0.58.1\n",
      "    Uninstalling numba-0.58.1:\n",
      "      Successfully uninstalled numba-0.58.1\n",
      "Successfully installed numba-0.58.0\n",
      "\u001b[94m[2023-11-16 01:44:32,245][PROCESS][INFO]: Start checking existence & installing package - scikit-learn | Progress: ( 5 / 13 total packages ) \u001b[0m\n",
      "\u001b[92m[2023-11-16 01:44:32,248][PROCESS][INFO]: [OK] << scikit-learn >> already exists\u001b[0m\n",
      "\u001b[94m[2023-11-16 01:44:32,251][PROCESS][INFO]: Start checking existence & installing package - umap-learn | Progress: ( 6 / 13 total packages ) \u001b[0m\n",
      "\u001b[92m[2023-11-16 01:44:32,254][PROCESS][INFO]: [OK] << umap-learn >> already exists\u001b[0m\n",
      "\u001b[94m[2023-11-16 01:44:32,256][PROCESS][INFO]: Start checking existence & installing package - matplotlib | Progress: ( 7 / 13 total packages ) \u001b[0m\n",
      "\u001b[92m[2023-11-16 01:44:32,259][PROCESS][INFO]: [OK] << matplotlib >> already exists\u001b[0m\n",
      "\u001b[94m[2023-11-16 01:44:32,261][PROCESS][INFO]: ======================================== Start dependency installation : << train >> \u001b[0m\n",
      "\u001b[94m[2023-11-16 01:44:32,264][PROCESS][INFO]: Start checking existence & installing package - seaborn | Progress: ( 8 / 13 total packages ) \u001b[0m\n",
      "\u001b[92m[2023-11-16 01:44:32,267][PROCESS][INFO]: [OK] << seaborn >> already exists\u001b[0m\n",
      "\u001b[94m[2023-11-16 01:44:32,269][PROCESS][INFO]: Start checking existence & installing package - shap | Progress: ( 9 / 13 total packages ) \u001b[0m\n",
      "\u001b[92m[2023-11-16 01:44:32,272][PROCESS][INFO]: [OK] << shap >> already exists\u001b[0m\n",
      "\u001b[94m[2023-11-16 01:44:32,274][PROCESS][INFO]: Start checking existence & installing package - lightgbm | Progress: ( 10 / 13 total packages ) \u001b[0m\n",
      "\u001b[92m[2023-11-16 01:44:32,277][PROCESS][INFO]: [OK] << lightgbm >> already exists\u001b[0m\n",
      "\u001b[94m[2023-11-16 01:44:32,279][PROCESS][INFO]: Start checking existence & installing package - catboost | Progress: ( 11 / 13 total packages ) \u001b[0m\n",
      "\u001b[92m[2023-11-16 01:44:32,282][PROCESS][INFO]: [OK] << catboost >> already exists\u001b[0m\n",
      "\u001b[94m[2023-11-16 01:44:32,284][PROCESS][INFO]: Start checking existence & installing package - ngboost | Progress: ( 12 / 13 total packages ) \u001b[0m\n",
      "\u001b[92m[2023-11-16 01:44:32,287][PROCESS][INFO]: [OK] << ngboost >> already exists\u001b[0m\n",
      "\u001b[94m[2023-11-16 01:44:32,289][PROCESS][INFO]: ======================================== Start dependency installation : << force-reinstall >> \u001b[0m\n",
      "\u001b[94m[2023-11-16 01:44:32,291][PROCESS][INFO]: Start checking existence & installing package - numpy==1.25.2 --force-reinstall | Progress: ( 13 / 13 total packages ) \u001b[0m\n",
      "\u001b[94m[2023-11-16 01:44:32,293][PROCESS][INFO]: >>> Start installing package - numpy==1.25.2 --force-reinstall\u001b[0m\n",
      "Collecting numpy==1.25.2\n",
      "  Using cached numpy-1.25.2-cp310-cp310-manylinux_2_17_x86_64.manylinux2014_x86_64.whl.metadata (5.6 kB)\n",
      "Using cached numpy-1.25.2-cp310-cp310-manylinux_2_17_x86_64.manylinux2014_x86_64.whl (18.2 MB)\n",
      "Installing collected packages: numpy\n",
      "  Attempting uninstall: numpy\n",
      "    Found existing installation: numpy 1.25.2\n",
      "    Uninstalling numpy-1.25.2:\n",
      "      Successfully uninstalled numpy-1.25.2\n"
     ]
    },
    {
     "name": "stderr",
     "output_type": "stream",
     "text": [
      "\u001b[33m  WARNING: Failed to remove contents in a temporary directory '/home/jovyan/conda/envs/tcr_test/lib/python3.10/site-packages/~1mpy.libs'.\n",
      "  You can safely remove it manually.\u001b[0m\u001b[33m\n",
      "\u001b[0m\u001b[33m  WARNING: Failed to remove contents in a temporary directory '/home/jovyan/conda/envs/tcr_test/lib/python3.10/site-packages/~1mpy'.\n",
      "  You can safely remove it manually.\u001b[0m\u001b[33m\n",
      "\u001b[0m"
     ]
    },
    {
     "name": "stdout",
     "output_type": "stream",
     "text": [
      "Successfully installed numpy-1.25.2\n",
      "\u001b[94m[2023-11-16 01:44:49,956][PROCESS][INFO]: ======================================== Finish dependency installation \n",
      "\u001b[0m\n"
     ]
    }
   ],
   "source": [
    "wrapper = Wrapper(0, exp_plan_file='config/sampling_experimental_plan.yaml')"
   ]
  },
  {
   "cell_type": "code",
   "execution_count": 3,
   "id": "31e600eb",
   "metadata": {},
   "outputs": [
    {
     "name": "stderr",
     "output_type": "stream",
     "text": [
      "[2023-11-16 01:44:49,998][USER][INFO][train_pipeline][input]: >> Load path : ['/home/jovyan/project/alo_test/tcr/alo/input/train/train/']\n"
     ]
    },
    {
     "name": "stdout",
     "output_type": "stream",
     "text": [
      "\u001b[94m[2023-11-16 01:44:49,994][ASSET][INFO][train_pipeline][input]: \n",
      "\n",
      "============================= ASSET START =============================\n",
      "- time (UTC)        : 2023-11-16 01:44:49\n",
      "- current step      : input\n",
      "- asset branch.     : tabular_2.0\n",
      "- alolib ver.       : 2.0\n",
      "- alo ver.          : release-2.0\n",
      "- load envs. keys   : dict_keys(['project_home', 'pipeline', 'step', 'num_step', 'artifacts', 'alo_version', 'asset_branch', 'interface_mode', 'load_data', 'load_config', 'save_data', 'save_config', 'log_file_path'])\n",
      "- load args. keys   : dict_keys(['input_path', 'x_columns', 'use_all_x', 'y_column', 'groupkey_columns', 'drop_columns', 'time_column', 'concat_dataframes', 'encoding'])\n",
      "- load config. keys : dict_keys(['meta'])\n",
      "- load data keys    : dict_keys([])\n",
      "=======================================================================\n",
      "\n",
      "\u001b[0m\n"
     ]
    },
    {
     "name": "stderr",
     "output_type": "stream",
     "text": [
      "[2023-11-16 01:44:50,790][USER][INFO][train_pipeline][input]: >> The file for batch data has been loaded. (File name: /home/jovyan/project/alo_test/tcr/alo/input/train/train/train.csv)\n",
      "[2023-11-16 01:44:50,821][USER][INFO][train_pipeline][input]: ==================== Success loading dataframe ====================\n",
      "[2023-11-16 01:44:50,823][USER][INFO][train_pipeline][input]: >> Drop columns from the input dataframe when set << auto >> mode or specified in the << drop_columns >> in config yaml. (dropped colums:[])\n",
      "[2023-11-16 01:44:50,827][USER][INFO][train_pipeline][input]: >> Start processing ignore columns & drop columns: ['/home/jovyan/project/alo_test/tcr/alo/input/train/train/train.csv']\n"
     ]
    },
    {
     "name": "stdout",
     "output_type": "stream",
     "text": [
      "\u001b[94m[2023-11-16 01:44:50,834][ASSET][INFO][train_pipeline][input]: \n",
      "\n",
      "============================= ASSET FINISH ===========================\n",
      "- time (UTC)        : 2023-11-16 01:44:50\n",
      "- current step      : input\n",
      "- save config. keys : dict_keys(['meta', 'data_source_type', 'time_format', 'time_column', 'x_columns', 'input_path', 'group_cnt', 'group_keys', 'y_column', 'input_asset_df_path', 'ignore_columns'])\n",
      "- save data keys    : dict_keys(['dataframe'])\n",
      "=======================================================================\n",
      "\n",
      "\u001b[0m\n",
      "\u001b[94m[2023-11-16 01:44:50,836][PROCESS][INFO]: ==================== Finish pipeline: train_pipeline / step: input\u001b[0m\n"
     ]
    }
   ],
   "source": [
    "wrapper.run()\n",
    "data_input = wrapper.data\n",
    "y_column = wrapper.args['y_column']"
   ]
  },
  {
   "cell_type": "markdown",
   "id": "85bf2b8a-f2be-4232-9623-11c7c7d84bd4",
   "metadata": {},
   "source": [
    "## 불균등 유형 분포를 가진 샘플 데이터를 이용해서 샘플링 asset argument 설정 방법을 학습해봅니다.\n",
    "\n",
    "### Sample Data 구성\n",
    "\n",
    "- boltfastening dataset\n",
    "- 경로: /nas001/users/sujin2.lee/share/techtalk_sampling_1030/train/\n",
    "- x_columns: 13개 (Count,Converted, Torque,angle_min,angle_mean,angle_median,angle_std,angle_max,torque_min,torque_mean,torque_median,torque_std,torque_max)\n",
    "- y_column: label\n",
    "- 총 데이터 수: 10100\n",
    "- 라벨 별 데이터 수: "
   ]
  },
  {
   "cell_type": "code",
   "execution_count": 4,
   "id": "f8b4ccf2-1434-4e0c-a09d-d2329d352a98",
   "metadata": {},
   "outputs": [
    {
     "data": {
      "text/plain": [
       "OK    10000\n",
       "NG      100\n",
       "Name: label, dtype: int64"
      ]
     },
     "execution_count": 4,
     "metadata": {},
     "output_type": "execute_result"
    }
   ],
   "source": [
    "data_input['dataframe'][y_column].value_counts()"
   ]
  },
  {
   "cell_type": "markdown",
   "id": "92f478cf-f47b-41dd-9586-9eae1f2c2180",
   "metadata": {},
   "source": [
    "### Sampling asset 사용법\n",
    "- sampling asset은 data imbalance를 해결하기 위한 under sampling과 over sampling(TBD) 방법론을 제공합니다.\n",
    "- sampling asset은 아래와 같은 방식으로 진행됩니다. \n",
    "    1. 데이터를 grouping하여 데이터 subgroup을 생성합니다.\n",
    "        - 데이터의 **라벨**과 **그룹키** 컬럼을 기준으로 데이터를 subgroup으로 나눌 수 있습니다.\n",
    "        - 하기와 같이 총 네 가지 방법으로 subgroup을 나눈 후 샘플링을 적용할 수 있습니다.\n",
    "            1. subgroup을 생성하지 않고 전체 데이터에 대해 샘플링 적용하기\n",
    "            2. **라벨**로 subgroup 생성하기(label subgrouping)\n",
    "            3. **그룹키**로 subgroup 생성하기(groupkey subgrouping)\n",
    "            4. **라벨**과 **그룹키** 모두 사용하여 subgroup 생성하기\n",
    "        - 아래는 **라벨**과 **그룹키** 컬럼 모두 사용하여 subgroup을 나눈 예시입니다.  \n",
    "\n",
    "<div style='text-align:center'><img src=\"src/techtalk_sampling.PNG\" width=\"500\" height=\"500\"/></div>\n",
    "        \n",
    "    2. 각 데이터 subgroup에 sampling 방법론을 적용합니다."
   ]
  },
  {
   "cell_type": "markdown",
   "id": "2c317928",
   "metadata": {},
   "source": [
    "### Sampling asset argument list\n",
    "\n",
    "argument가 다소 복잡하지만 아래 Exercise를 따라하면 쉽게 설정할 수 있습니다.\n",
    "\n",
    "|args|explanation|default|example|data type|necessary|\n",
    "|:---:|:---:|:---:|:---:|:---:|:---:|\n",
    "|sampling_type|sampling 유형 선택 |none(asset 사용x)|none, under, over(TBD)|str|yes|\n",
    "|sampling_method|under sampling 방법론 선택|random|random, cluster, negative|str|no|\n",
    "|label_sampling|label subgrouping 진행 여부|False(기능 사용x)|True, False|boolean|yes(label subgroup 사용 시)|\n",
    "|ignore_label_class|특정 유형 데이터를 모두 데이터에 포함시켜야 하는 경우 지정|\\[\\]|OK, NG 등 라벨 명 입력|str|yes(label subgroup 사용 시)|\n",
    "|negative_target_class|(수정필요)| |(수정필요)|(수정필요)|yes(negative sampling 사용 시)|\n",
    "|label_sampling_num_type|label subgrouping 사용 시 샘플링 데이터 수를 결정하는 방법을 지정합니다.|ratio|ratio,number,mingroup|str|yes(label subgroup 사용 시)|\n",
    "|label_sampling_num|label_sampling_num_type에 맞춰서 적합한 인자를 입력합니다|0.8|아래 sampling 데이터 수 지정 참고|float,int,dict|yes(label subgroup 사용 시)|\n",
    "|sampling_groupkey_columns|그룹키로 지정할 컬럼을 입력합니다.(3개 까지 가능)|\\[\\]|\\[컬럼1, 컬럼2\\]|list|yes(groupkey subgroup 사용 시)|\n",
    "|sampling_num_type|groupkey subgrouping 사용 시 샘플링 데이터 수를 결정하는 방법을 지정합니다.|ratio|ratio,number,mingroup|str|yes(groupkey subgroup 사용 시)|\n",
    "|sampling_num|sampling_num_type에 맞춰서 적합한 인자를 입력합니다|0.8|아래 sampling 데이터 수 지정 참고|float,int,dict|yes(groupkey subgroup 사용 시)|"
   ]
  },
  {
   "cell_type": "markdown",
   "id": "097c60a8",
   "metadata": {},
   "source": [
    "#### sampling_method\n",
    "\n",
    "현재 sampling asset에서 제공하는 방법론은 `random`, `cluster`, `negative`의 세 가지입니다. `random`은 데이터 수가 많아 임의 추출하고 싶은 경우, `cluster`는 input data의 분포에 따라 골고루 추출하고 싶은 경우, `negative`는 binary classification인 경우에 사용이 가능하며 특정 유형의 대표성이 부족한 경우(수정필요) 수행하게 됩니다.\n",
    "\n",
    "#### sampling 데이터 수 지정 방법\n",
    "\n",
    "sampling asset에서는 label이나 groupkey에 따라 subgrouping을 할 수 있습니다. 이 때 각 방법에 대해 sampling 데이터 수를 결정하는 방법에 대해 지정하여 데이터 불균등 문제를 좀 더 심도있게 다룰 수 있습니다. 우선 sampling 데이터 수를 결정하는 방법(`sampling_num_type`)을 선택하고 이에 따라 데이터 수나 비율에 해당하는 `sampling_num`를 하단 표에 따라 설정하면 됩니다.\n",
    "\n",
    "|index|sampling_num_type|sampling_num 예시|설명|range|data type|\n",
    "|:---:|:---:|:---:|:---:|:---:|:---:|\n",
    "|1|ratio|0.8|입력한 비율에 맞춰서 데이터 추출|0~1|float|\n",
    "|2|number|500|입력한 숫자(데이터 수)만큼 데이터 추출|1<|int|\n",
    "|3|mingroup| |subgroup 중에서 가장 크기가 작은 subgroup 기준으로 샘플링|-|-|\n",
    "|4|compare|{}|label subgroup있을 때) 유형 별 데이터를 입력한 값으로 비례하게 샘플링| {NG:1, OK:10} |dict|"
   ]
  },
  {
   "cell_type": "markdown",
   "id": "84894f9e-d352-4309-914d-922d685ca385",
   "metadata": {},
   "source": [
    "### Exercise\n",
    "#### A. 데이터 전체에 sampling 적용하기\n",
    "- 데이터 subgroup 생성 없이 전체 데이터에 대해 under sampling을 적용합니다.\n",
    "- 변경해야하는 arguments는 다음과 같습니다.  \n",
    "|argument|설명|default 값|사용가능 값|\n",
    "|:---:|:---:|:---:|:---:|\n",
    "|sampling_type|sampling 유형을 선택합니다. |none(asset 사용x)|none, under, over(TBD)|\n",
    "|sampling_method|under sampling 방법론을 선택합니다.|random|random, cluster, negative|\n",
    "|sampling_num_type|샘플링 데이터 수를 결정하는 방법을 지정합니다.|ratio|ratio,number,mingroup|\n",
    "|sampling_num|sampling_num_type에 맞춰서 적합한 인자를 입력합니다|0.8|아래 sampling 데이터 수 지정 참고|  \n",
    "- 아래는 subgroup 생성 없이 전체 데이터에 대해 random sampling을 적용하는 예제입니다.\n",
    "- random sampling은 임의 추출하는 방법이고 아래 예시에서는 데이터 구분없이 0.8 비율로 추출했습니다.\n",
    "- sampling_args['argument 명'] = '값'을 입력하여 sampling asset의 arguments를 입력합니다."
   ]
  },
  {
   "cell_type": "code",
   "execution_count": 5,
   "id": "eca0d83d-515a-4ba5-9aef-1f2722cc714c",
   "metadata": {},
   "outputs": [],
   "source": [
    "sampling_args = wrapper.get_args(step=1)\n",
    "sampling_args['sampling_type'] = 'under'\n",
    "sampling_args['sampling_method'] = 'random'\n",
    "sampling_args['sampling_num_type'] = 'ratio'\n",
    "sampling_args['sampling_num'] = 0.8"
   ]
  },
  {
   "cell_type": "code",
   "execution_count": 6,
   "id": "d6134f66-d667-43a2-9135-2ece70303565",
   "metadata": {},
   "outputs": [
    {
     "data": {
      "text/plain": [
       "{'sampling_type': 'under',\n",
       " 'sampling_method': 'random',\n",
       " 'label_sampling': False,\n",
       " 'ignore_label_class': None,\n",
       " 'negative_target_class': None,\n",
       " 'label_sampling_num_type': None,\n",
       " 'label_sampling_num': None,\n",
       " 'sampling_groupkey_columns': None,\n",
       " 'sampling_num_type': 'ratio',\n",
       " 'sampling_num': 0.8}"
      ]
     },
     "execution_count": 6,
     "metadata": {},
     "output_type": "execute_result"
    }
   ],
   "source": [
    "sampling_args"
   ]
  },
  {
   "cell_type": "markdown",
   "id": "a1dc1780-855e-472f-868e-baf909969488",
   "metadata": {},
   "source": [
    "- sampling asset을 구동합니다"
   ]
  },
  {
   "cell_type": "code",
   "execution_count": 7,
   "id": "6d305b10-9728-4108-aa82-a169f6548137",
   "metadata": {
    "tags": []
   },
   "outputs": [
    {
     "name": "stderr",
     "output_type": "stream",
     "text": [
      "/home/jovyan/conda/envs/tcr_test/lib/python3.10/site-packages/tqdm/auto.py:21: TqdmWarning: IProgress not found. Please update jupyter and ipywidgets. See https://ipywidgets.readthedocs.io/en/stable/user_install.html\n",
      "  from .autonotebook import tqdm as notebook_tqdm\n"
     ]
    },
    {
     "name": "stdout",
     "output_type": "stream",
     "text": [
      "\u001b[94m[2023-11-16 01:45:02,018][ASSET][INFO][train_pipeline][sampling]: \n",
      "\n",
      "============================= ASSET START =============================\n",
      "- time (UTC)        : 2023-11-16 01:45:02\n",
      "- current step      : sampling\n",
      "- asset branch.     : release-1.2\n",
      "- alolib ver.       : 2.0\n",
      "- alo ver.          : release-2.0\n",
      "- load envs. keys   : dict_keys(['project_home', 'pipeline', 'step', 'num_step', 'artifacts', 'alo_version', 'asset_branch', 'interface_mode', 'load_data', 'load_config', 'save_data', 'save_config', 'log_file_path', 'prev_step'])\n",
      "- load args. keys   : dict_keys(['sampling_type', 'sampling_method', 'label_sampling', 'ignore_label_class', 'negative_target_class', 'label_sampling_num_type', 'label_sampling_num', 'sampling_groupkey_columns', 'sampling_num_type', 'sampling_num'])\n",
      "- load config. keys : dict_keys(['meta', 'data_source_type', 'time_format', 'time_column', 'x_columns', 'input_path', 'group_cnt', 'group_keys', 'y_column', 'input_asset_df_path', 'ignore_columns'])\n",
      "- load data keys    : dict_keys(['dataframe'])\n",
      "=======================================================================\n",
      "\n",
      "\u001b[0m\n",
      "\u001b[92m[2023-11-16 01:45:02,029][ASSET][INFO][train_pipeline][sampling]: Successfully got model path for saving or loading your AI model: \n",
      " /home/jovyan/project/alo_test/tcr/alo/.train_artifacts/models/sampling/\u001b[0m\n",
      "load configs 0.00184 sec\n",
      "make groupkey dataframe 0.00284 sec\n",
      "groupkey:('all',), 8080개 sampling 시작\n",
      "sampling process done 0.00454 sec\n",
      "sampling asset 종료\n",
      "\u001b[94m[2023-11-16 01:45:02,052][ASSET][INFO][train_pipeline][sampling]: \n",
      "\n",
      "============================= ASSET FINISH ===========================\n",
      "- time (UTC)        : 2023-11-16 01:45:02\n",
      "- current step      : sampling\n",
      "- save config. keys : dict_keys(['meta', 'data_source_type', 'time_format', 'time_column', 'x_columns', 'input_path', 'group_cnt', 'group_keys', 'y_column', 'input_asset_df_path', 'ignore_columns', 'sampling_type', 'sampling_method', 'label_sampling', 'sampling_groupkey_columns', 'sampling_num_type', 'sampling_num'])\n",
      "- save data keys    : dict_keys(['dataframe'])\n",
      "=======================================================================\n",
      "\n",
      "\u001b[0m\n",
      "\u001b[94m[2023-11-16 01:45:02,054][PROCESS][INFO]: ==================== Finish pipeline: train_pipeline / step: sampling\u001b[0m\n"
     ]
    },
    {
     "name": "stderr",
     "output_type": "stream",
     "text": [
      "/home/jovyan/project/alo_test/tcr/alo/assets/sampling/asset_sampling.py:244: SettingWithCopyWarning: \n",
      "A value is trying to be set on a copy of a slice from a DataFrame\n",
      "\n",
      "See the caveats in the documentation: https://pandas.pydata.org/pandas-docs/stable/user_guide/indexing.html#returning-a-view-versus-a-copy\n",
      "  df['sampled'].loc[sampled_idx] = 1 # 'sampled' == 1일 때 sampling 된 것\n"
     ]
    }
   ],
   "source": [
    "wrapper.run(args=sampling_args)\n",
    "data_sampling = wrapper.data"
   ]
  },
  {
   "cell_type": "markdown",
   "id": "7daf964e-c867-42c6-94fb-693a1cfd4427",
   "metadata": {},
   "source": [
    "#### input data와 sampling 한 후 data shape 비교\n",
    "\n",
    "- 앞서 설정한 것처럼 80% 데이터가 추출되었습니다."
   ]
  },
  {
   "cell_type": "code",
   "execution_count": 8,
   "id": "3853bf50-e504-46dd-a640-0d5567714b02",
   "metadata": {},
   "outputs": [
    {
     "data": {
      "text/plain": [
       "(10100, 36)"
      ]
     },
     "execution_count": 8,
     "metadata": {},
     "output_type": "execute_result"
    }
   ],
   "source": [
    "data_input['dataframe'].shape"
   ]
  },
  {
   "cell_type": "code",
   "execution_count": 9,
   "id": "acddfb05-bfbc-4519-b70b-89c881f671cb",
   "metadata": {},
   "outputs": [
    {
     "data": {
      "text/plain": [
       "(8080, 37)"
      ]
     },
     "execution_count": 9,
     "metadata": {},
     "output_type": "execute_result"
    }
   ],
   "source": [
    "data_sampling['dataframe'].shape"
   ]
  },
  {
   "cell_type": "markdown",
   "id": "4b1dcfc2-9c0a-43ce-a02e-2ac420e76da2",
   "metadata": {},
   "source": [
    "#### 2. label(y_column) 기준으로 데이터 subgroup 나누어 sampling 적용하기\n",
    "- 라벨 기준으로 subgroup을 생성하여 각 라벨 데이터에 under sampling을 적용할 때 조정해야하는 arguments는 다음과 같습니다.  \n",
    "|argument|설명|default 값|사용가능 값|\n",
    "|:---:|:---:|:---:|:---:|\n",
    "|sampling_type|sampling 유형을 선택합니다. |none(asset 사용x)|none, under, over(TBD)|\n",
    "|sampling_method|under sampling 방법론을 선택합니다.|random|random, cluster, negative|\n",
    "|label_sampling|label sampling 진행 여부를 선택합니다.|False(기능 사용x)|True, False|\n",
    "|ignore_label_class|특정 클래스에 대해 샘플링하지 않을 경우 지정합니다.|-|클래스 명 입력|  \n",
    "|label_sampling_num_type|샘플링 데이터 수 결정 방법을 지정합니다.|-|ratio,number,compare,mingroup|\n",
    "|label_sampling_num|label_sampling_num_type의 인자를 입력합니다.|-|위 sampling 수 지정 참고|\n",
    "- 아래는 NG라벨은 모두 사용하고, OK라벨 데이터에 대해 NG 데이터 수의 10배만큼 추출하는 예제입니다.\n",
    "- 하기 예제에서는 cluster sampling 기법을 사용하여 입력 데이터 분포를 고려하여 추출합니다. "
   ]
  },
  {
   "cell_type": "code",
   "execution_count": 10,
   "id": "1e16a624",
   "metadata": {},
   "outputs": [
    {
     "data": {
      "text/plain": [
       "Index(['Unnamed: 0', 'No', 'Time', 'Ch1', 'Ch2', 'Count', 'Fastening Time',\n",
       "       'Target Torque', 'Converted Torque', 'Speed', 'A1', 'A2', 'Snug Angle',\n",
       "       'Error', 'Screws', 'Result', 'Troque', 'Angle', 'label', 'sample_type',\n",
       "       'file_name', 'Label_FILE', 'path', 'angle_min', 'angle_mean',\n",
       "       'angle_median', 'angle_std', 'angle_max', 'torque_min', 'torque_mean',\n",
       "       'torque_median', 'torque_std', 'torque_max', 'ng_type', 'encoded_label',\n",
       "       'groupkey'],\n",
       "      dtype='object')"
      ]
     },
     "execution_count": 10,
     "metadata": {},
     "output_type": "execute_result"
    }
   ],
   "source": [
    "data_input['dataframe'].columns"
   ]
  },
  {
   "cell_type": "code",
   "execution_count": 11,
   "id": "bf17c096-5b8c-4ff2-b6ce-a1a5fd46b0e2",
   "metadata": {},
   "outputs": [],
   "source": [
    "sampling_args = wrapper.get_args(step=1)\n",
    "sampling_args['sampling_type'] = 'under'\n",
    "sampling_args['sampling_method'] = 'cluster'\n",
    "sampling_args['label_sampling'] = True\n",
    "sampling_args['ignore_label_class'] = 'NG'\n",
    "sampling_args['label_sampling_num_type'] = 'compare'\n",
    "sampling_args['label_sampling_num'] = {'NG':1,'OK':10}"
   ]
  },
  {
   "cell_type": "code",
   "execution_count": 12,
   "id": "6aeab496-0ba2-4d3c-827f-71f77f5b1f4b",
   "metadata": {},
   "outputs": [
    {
     "data": {
      "text/plain": [
       "{'sampling_type': 'under',\n",
       " 'sampling_method': 'cluster',\n",
       " 'label_sampling': True,\n",
       " 'ignore_label_class': 'NG',\n",
       " 'negative_target_class': None,\n",
       " 'label_sampling_num_type': 'compare',\n",
       " 'label_sampling_num': {'NG': 1, 'OK': 10},\n",
       " 'sampling_groupkey_columns': None,\n",
       " 'sampling_num_type': 'ratio',\n",
       " 'sampling_num': 0.8}"
      ]
     },
     "execution_count": 12,
     "metadata": {},
     "output_type": "execute_result"
    }
   ],
   "source": [
    "sampling_args"
   ]
  },
  {
   "cell_type": "markdown",
   "id": "eebd42fd-de91-4e29-b481-eb95651e4f16",
   "metadata": {},
   "source": [
    "- sampling asset을 구동합니다"
   ]
  },
  {
   "cell_type": "code",
   "execution_count": 13,
   "id": "417fd5e7-3eb3-4d8f-ad68-ffaa5d154990",
   "metadata": {
    "tags": []
   },
   "outputs": [
    {
     "name": "stdout",
     "output_type": "stream",
     "text": [
      "\u001b[94m[2023-11-16 01:45:02,447][ASSET][INFO][train_pipeline][sampling]: \n",
      "\n",
      "============================= ASSET START =============================\n",
      "- time (UTC)        : 2023-11-16 01:45:02\n",
      "- current step      : sampling\n",
      "- asset branch.     : release-1.2\n",
      "- alolib ver.       : 2.0\n",
      "- alo ver.          : release-2.0\n",
      "- load envs. keys   : dict_keys(['project_home', 'pipeline', 'step', 'num_step', 'artifacts', 'alo_version', 'asset_branch', 'interface_mode', 'load_data', 'load_config', 'save_data', 'save_config', 'log_file_path', 'prev_step'])\n",
      "- load args. keys   : dict_keys(['sampling_type', 'sampling_method', 'label_sampling', 'ignore_label_class', 'negative_target_class', 'label_sampling_num_type', 'label_sampling_num', 'sampling_groupkey_columns', 'sampling_num_type', 'sampling_num'])\n",
      "- load config. keys : dict_keys(['meta', 'data_source_type', 'time_format', 'time_column', 'x_columns', 'input_path', 'group_cnt', 'group_keys', 'y_column', 'input_asset_df_path', 'ignore_columns', 'sampling_type', 'sampling_method', 'label_sampling', 'sampling_groupkey_columns', 'sampling_num_type', 'sampling_num'])\n",
      "- load data keys    : dict_keys(['dataframe'])\n",
      "=======================================================================\n",
      "\n",
      "\u001b[0m\n",
      "\u001b[92m[2023-11-16 01:45:02,451][ASSET][INFO][train_pipeline][sampling]: Successfully got model path for saving or loading your AI model: \n",
      " /home/jovyan/project/alo_test/tcr/alo/.train_artifacts/models/sampling/\u001b[0m\n",
      "load configs 0.00200 sec\n",
      "make groupkey dataframe 0.00934 sec\n",
      "standardization & embedding 28.49499 sec\n",
      "groupkey:('OK',), 820개 sampling 시작\n",
      "cluster sampling start\n",
      "cluster0 - eps:0.5, ms:2\n",
      "0.05683 sec\n",
      "cluster1 - eps:0.7, ms:2\n",
      "0.05872 sec\n",
      "cluster2 - eps:1, ms:2\n",
      "0.06815 sec\n",
      "cluster3 - eps:1.2, ms:2\n",
      "0.07343 sec\n",
      "cluster4 - eps:0.5, ms:3\n",
      "0.05309 sec\n",
      "cluster5 - eps:0.7, ms:3\n",
      "0.05893 sec\n",
      "cluster6 - eps:1, ms:3\n",
      "0.06785 sec\n",
      "cluster7 - eps:1.2, ms:3\n",
      "0.07199 sec\n",
      "clusterng & hpo end 0.50936 sec\n",
      "plotting 0.77525 sec\n",
      "sampling process done 29.80251 sec\n",
      "sampling asset 종료\n",
      "\u001b[94m[2023-11-16 01:45:32,273][ASSET][INFO][train_pipeline][sampling]: \n",
      "\n",
      "============================= ASSET FINISH ===========================\n",
      "- time (UTC)        : 2023-11-16 01:45:32\n",
      "- current step      : sampling\n",
      "- save config. keys : dict_keys(['meta', 'data_source_type', 'time_format', 'time_column', 'x_columns', 'input_path', 'group_cnt', 'group_keys', 'y_column', 'input_asset_df_path', 'ignore_columns', 'sampling_type', 'sampling_method', 'label_sampling', 'sampling_groupkey_columns', 'sampling_num_type', 'sampling_num', 'ignore_class', 'negative_target_class', 'label_sampling_num_type', 'label_sampling_num'])\n",
      "- save data keys    : dict_keys(['dataframe'])\n",
      "=======================================================================\n",
      "\n",
      "\u001b[0m\n",
      "\u001b[94m[2023-11-16 01:45:32,275][PROCESS][INFO]: ==================== Finish pipeline: train_pipeline / step: sampling\u001b[0m\n"
     ]
    },
    {
     "name": "stderr",
     "output_type": "stream",
     "text": [
      "/home/jovyan/project/alo_test/tcr/alo/assets/sampling/asset_sampling.py:244: SettingWithCopyWarning: \n",
      "A value is trying to be set on a copy of a slice from a DataFrame\n",
      "\n",
      "See the caveats in the documentation: https://pandas.pydata.org/pandas-docs/stable/user_guide/indexing.html#returning-a-view-versus-a-copy\n",
      "  df['sampled'].loc[sampled_idx] = 1 # 'sampled' == 1일 때 sampling 된 것\n"
     ]
    },
    {
     "data": {
      "image/png": "[encoded data removed]",
      "text/plain": [
       "<Figure size 700x700 with 1 Axes>"
      ]
     },
     "metadata": {},
     "output_type": "display_data"
    }
   ],
   "source": [
    "wrapper.run(args=sampling_args, step=1)\n",
    "data_sampling = wrapper.data"
   ]
  },
  {
   "cell_type": "markdown",
   "id": "15a13f5e-ac3e-46a3-868d-e34d9ae53408",
   "metadata": {},
   "source": [
    "#### input data와 sampling 한 후 data shape 비교"
   ]
  },
  {
   "cell_type": "code",
   "execution_count": 14,
   "id": "4c215151-0d2d-4718-8e02-cb916eac9b2f",
   "metadata": {},
   "outputs": [
    {
     "data": {
      "text/plain": [
       "(10100, 36)"
      ]
     },
     "execution_count": 14,
     "metadata": {},
     "output_type": "execute_result"
    }
   ],
   "source": [
    "data_input['dataframe'].shape"
   ]
  },
  {
   "cell_type": "code",
   "execution_count": 15,
   "id": "6d1a6522-ae85-44ba-acd9-7adbf101fccd",
   "metadata": {},
   "outputs": [
    {
     "data": {
      "text/plain": [
       "(902, 37)"
      ]
     },
     "execution_count": 15,
     "metadata": {},
     "output_type": "execute_result"
    }
   ],
   "source": [
    "data_sampling['dataframe'].shape"
   ]
  },
  {
   "cell_type": "code",
   "execution_count": 16,
   "id": "19e2114f-0f2f-4007-937e-a6aee0b9ada0",
   "metadata": {},
   "outputs": [
    {
     "data": {
      "text/plain": [
       "OK    820\n",
       "NG     82\n",
       "Name: label, dtype: int64"
      ]
     },
     "execution_count": 16,
     "metadata": {},
     "output_type": "execute_result"
    }
   ],
   "source": [
    "data_sampling['dataframe'][y_column].value_counts()"
   ]
  },
  {
   "cell_type": "markdown",
   "id": "b042f0b4-c441-4ae9-889c-6ef68c7c9e6e",
   "metadata": {},
   "source": [
    "<br>\n",
    "\n",
    "#### 3. 그룹키 기준으로 데이터 subgroup 나누어 sampling 적용하기\n",
    "- 그룹키 기준으로 subgroup을 생성하여 각 그룹 데이터에 under sampling을 적용할 때 조정해야하는 arguments는 다음과 같습니다.  \n",
    "|argument|설명|default 값|사용가능 값|\n",
    "|:---:|:---:|:---:|:---:|\n",
    "|sampling_type|sampling 유형을 선택합니다. |none(asset 사용x)|none, under, over(TBD)|\n",
    "|sampling_method|under sampling 방법론을 선택합니다.|random|random, cluster, negative|\n",
    "|sampling_groupkey_columns|그룹키로 지정할 컬럼을 입력합니다.(3개 까지 가능)|-|컬럼 명 입력|\n",
    "|sampling_num_type|샘플링 데이터 수 결정 방법을 지정합니다.|-|ratio,number,compare,mingroup|\n",
    "|sampling_num|sampling_num_type 인자를 입력합니다.|-|위 sampling 수 지정 참고|\n",
    "- 아래는 그룹키 컬럼을 기준으로 입력한 데이터 수 만큼 random sampling을 진행하는 예제입니다.\n",
    "- sampling_args['argument 명'] = '값'을 입력하여 sampling asset의 arguments를 입력합니다."
   ]
  },
  {
   "cell_type": "code",
   "execution_count": 17,
   "id": "715e106a-9cd9-4528-bcfd-d8186b397a88",
   "metadata": {},
   "outputs": [],
   "source": [
    "sampling_args = wrapper.get_args(step=1)\n",
    "sampling_args['sampling_type'] = 'under'\n",
    "sampling_args['sampling_method'] = 'random'\n",
    "sampling_args['sampling_groupkey_columns'] = 'groupkey'\n",
    "sampling_args['sampling_num_type'] = 'number'\n",
    "sampling_args['sampling_num'] = 500"
   ]
  },
  {
   "cell_type": "code",
   "execution_count": 18,
   "id": "4dbaa5da-f557-43ac-b8ff-53c4cd26ca03",
   "metadata": {},
   "outputs": [
    {
     "data": {
      "text/plain": [
       "{'sampling_type': 'under',\n",
       " 'sampling_method': 'random',\n",
       " 'label_sampling': True,\n",
       " 'ignore_label_class': 'NG',\n",
       " 'negative_target_class': None,\n",
       " 'label_sampling_num_type': 'compare',\n",
       " 'label_sampling_num': {'NG': 1, 'OK': 10},\n",
       " 'sampling_groupkey_columns': 'groupkey',\n",
       " 'sampling_num_type': 'number',\n",
       " 'sampling_num': 500}"
      ]
     },
     "execution_count": 18,
     "metadata": {},
     "output_type": "execute_result"
    }
   ],
   "source": [
    "sampling_args"
   ]
  },
  {
   "cell_type": "markdown",
   "id": "f34a6d07-fae9-4967-b4df-9f487737ede6",
   "metadata": {},
   "source": [
    "- sampling asset을 구동합니다"
   ]
  },
  {
   "cell_type": "code",
   "execution_count": 19,
   "id": "c9b2d0cb-a55c-4474-a00a-b21172da6d3f",
   "metadata": {
    "tags": []
   },
   "outputs": [
    {
     "name": "stdout",
     "output_type": "stream",
     "text": [
      "\u001b[94m[2023-11-16 01:45:32,857][ASSET][INFO][train_pipeline][sampling]: \n",
      "\n",
      "============================= ASSET START =============================\n",
      "- time (UTC)        : 2023-11-16 01:45:32\n",
      "- current step      : sampling\n",
      "- asset branch.     : release-1.2\n",
      "- alolib ver.       : 2.0\n",
      "- alo ver.          : release-2.0\n",
      "- load envs. keys   : dict_keys(['project_home', 'pipeline', 'step', 'num_step', 'artifacts', 'alo_version', 'asset_branch', 'interface_mode', 'load_data', 'load_config', 'save_data', 'save_config', 'log_file_path', 'prev_step'])\n",
      "- load args. keys   : dict_keys(['sampling_type', 'sampling_method', 'label_sampling', 'ignore_label_class', 'negative_target_class', 'label_sampling_num_type', 'label_sampling_num', 'sampling_groupkey_columns', 'sampling_num_type', 'sampling_num'])\n",
      "- load config. keys : dict_keys(['meta', 'data_source_type', 'time_format', 'time_column', 'x_columns', 'input_path', 'group_cnt', 'group_keys', 'y_column', 'input_asset_df_path', 'ignore_columns', 'sampling_type', 'sampling_method', 'label_sampling', 'sampling_groupkey_columns', 'sampling_num_type', 'sampling_num', 'ignore_class', 'negative_target_class', 'label_sampling_num_type', 'label_sampling_num'])\n",
      "- load data keys    : dict_keys(['dataframe'])\n",
      "=======================================================================\n",
      "\n",
      "\u001b[0m\n",
      "\u001b[92m[2023-11-16 01:45:32,860][ASSET][INFO][train_pipeline][sampling]: Successfully got model path for saving or loading your AI model: \n",
      " /home/jovyan/project/alo_test/tcr/alo/.train_artifacts/models/sampling/\u001b[0m\n",
      "load configs 0.00158 sec\n",
      "make groupkey dataframe 0.01321 sec\n",
      "sampling process done 0.00129 sec\n",
      "sampling asset 종료\n",
      "\u001b[94m[2023-11-16 01:45:32,884][ASSET][INFO][train_pipeline][sampling]: \n",
      "\n",
      "============================= ASSET FINISH ===========================\n",
      "- time (UTC)        : 2023-11-16 01:45:32\n",
      "- current step      : sampling\n",
      "- save config. keys : dict_keys(['meta', 'data_source_type', 'time_format', 'time_column', 'x_columns', 'input_path', 'group_cnt', 'group_keys', 'y_column', 'input_asset_df_path', 'ignore_columns', 'sampling_type', 'sampling_method', 'label_sampling', 'sampling_groupkey_columns', 'sampling_num_type', 'sampling_num', 'ignore_class', 'negative_target_class', 'label_sampling_num_type', 'label_sampling_num'])\n",
      "- save data keys    : dict_keys(['dataframe'])\n",
      "=======================================================================\n",
      "\n",
      "\u001b[0m\n",
      "\u001b[94m[2023-11-16 01:45:32,886][PROCESS][INFO]: ==================== Finish pipeline: train_pipeline / step: sampling\u001b[0m\n"
     ]
    },
    {
     "name": "stderr",
     "output_type": "stream",
     "text": [
      "/home/jovyan/project/alo_test/tcr/alo/assets/sampling/asset_sampling.py:244: SettingWithCopyWarning: \n",
      "A value is trying to be set on a copy of a slice from a DataFrame\n",
      "\n",
      "See the caveats in the documentation: https://pandas.pydata.org/pandas-docs/stable/user_guide/indexing.html#returning-a-view-versus-a-copy\n",
      "  df['sampled'].loc[sampled_idx] = 1 # 'sampled' == 1일 때 sampling 된 것\n"
     ]
    }
   ],
   "source": [
    "wrapper.run(args=sampling_args, step=1)\n",
    "data_sampling = wrapper.data"
   ]
  },
  {
   "cell_type": "markdown",
   "id": "bf8d7a94-f143-492e-ad12-901b1e1f8bbe",
   "metadata": {},
   "source": [
    "#### input data와 sampling 한 후 data shape 비교"
   ]
  },
  {
   "cell_type": "code",
   "execution_count": 20,
   "id": "ca3af8d0-4ab9-408a-994a-c39687f82828",
   "metadata": {},
   "outputs": [
    {
     "data": {
      "text/plain": [
       "(10100, 36)"
      ]
     },
     "execution_count": 20,
     "metadata": {},
     "output_type": "execute_result"
    }
   ],
   "source": [
    "data_input['dataframe'].shape"
   ]
  },
  {
   "cell_type": "code",
   "execution_count": 21,
   "id": "7bfd883a-97db-4a5d-a0fb-0e3396503d5d",
   "metadata": {},
   "outputs": [
    {
     "data": {
      "text/plain": [
       "g3    3535\n",
       "g2    3535\n",
       "g1    3030\n",
       "Name: groupkey, dtype: int64"
      ]
     },
     "execution_count": 21,
     "metadata": {},
     "output_type": "execute_result"
    }
   ],
   "source": [
    "data_input['dataframe']['groupkey'].value_counts()"
   ]
  },
  {
   "cell_type": "code",
   "execution_count": 22,
   "id": "0a9dd88a-493d-4b71-afeb-e0b8db9b147b",
   "metadata": {},
   "outputs": [
    {
     "data": {
      "text/plain": [
       "(902, 37)"
      ]
     },
     "execution_count": 22,
     "metadata": {},
     "output_type": "execute_result"
    }
   ],
   "source": [
    "data_sampling['dataframe'].shape"
   ]
  },
  {
   "cell_type": "code",
   "execution_count": 23,
   "id": "a7905554-a68f-471b-b606-393ee082cb52",
   "metadata": {},
   "outputs": [
    {
     "data": {
      "text/plain": [
       "g3    319\n",
       "g2    292\n",
       "g1    291\n",
       "Name: groupkey, dtype: int64"
      ]
     },
     "execution_count": 23,
     "metadata": {},
     "output_type": "execute_result"
    }
   ],
   "source": [
    "data_sampling['dataframe']['groupkey'].value_counts()"
   ]
  },
  {
   "cell_type": "markdown",
   "id": "c839be21-abbc-4bb9-a875-6be830e942af",
   "metadata": {},
   "source": [
    "<br>\n",
    "\n",
    "#### 4. 라벨과 그룹키 기준으로 데이터 subgroup 나누어 sampling 적용하기\n",
    "- 라벨과 그룹키 기준으로 subgroup을 생성하여 각 그룹 데이터에 under sampling을 적용할 때 조정해야하는 arguments는 다음과 같습니다.  \n",
    "|argument|설명|default 값|사용가능 값|\n",
    "|:---:|:---:|:---:|:---:|\n",
    "|sampling_type|sampling 유형을 선택합니다. |none(asset 사용x)|none, under, over(TBD)|\n",
    "|sampling_method|under sampling 방법론을 선택합니다.|random|random, cluster, negative|\n",
    "|label_sampling|label sampling 진행 여부를 선택합니다.|False(기능 사용x)|True, False|\n",
    "|ignore_label_class|특정 클래스에 대해 샘플링하지 않을 경우 지정합니다.|-|클래스 명 입력|  \n",
    "|label_sampling_num_type|샘플링 데이터 수 결정 방법을 지정합니다.|-|ratio,number,compare,mingroup|\n",
    "|label_sampling_num|label_sampling_num_type의 인자를 입력합니다.|-|위 sampling 수 지정 참고|\n",
    "|sampling_groupkey_columns|그룹키로 지정할 컬럼을 입력합니다.(3개 까지 가능)|-|컬럼 명 입력|\n",
    "|sampling_num_type|샘플링 데이터 수 결정 방법을 지정합니다.|-|ratio,number,compare,mingroup|\n",
    "|sampling_num|sampling_num_type 인자를 입력합니다.|-|위 sampling 수 지정 참고|\n",
    "- 아래는 다음과 같은 룰이 적용된 random sampling 방법 예제입니다. \n",
    "    - NG 데이터는 샘플링 하지 않고 OK데이터는 NG데이터의 2배가 되도록 함\n",
    "    - OK 데이터의 경우 입력한 그룹키 컬럼 별로 동일하게 샘플링을 진행함\n",
    "- sampling_args['argument 명'] = '값'을 입력하여 sampling asset의 arguments를 입력합니다."
   ]
  },
  {
   "cell_type": "code",
   "execution_count": 24,
   "id": "b58fcb38-a7da-4610-83b2-da2ddf0b138f",
   "metadata": {},
   "outputs": [],
   "source": [
    "sampling_args = wrapper.get_args(step=1)\n",
    "sampling_args['sampling_type'] = 'under'\n",
    "sampling_args['sampling_method'] = 'random'\n",
    "sampling_args['label_sampling'] = True\n",
    "sampling_args['ignore_label_class'] = 'NG'\n",
    "sampling_args['label_sampling_num_type'] = 'compare'\n",
    "sampling_args['label_sampling_num'] = {'NG':1,'OK':2}\n",
    "sampling_args['sampling_groupkey_columns'] = 'groupkey'\n",
    "sampling_args['sampling_num_type'] = 'mingroup'"
   ]
  },
  {
   "cell_type": "code",
   "execution_count": 25,
   "id": "55b7b6fb-49e6-4494-bd36-e03890f21878",
   "metadata": {},
   "outputs": [
    {
     "data": {
      "text/plain": [
       "{'sampling_type': 'under',\n",
       " 'sampling_method': 'random',\n",
       " 'label_sampling': True,\n",
       " 'ignore_label_class': 'NG',\n",
       " 'negative_target_class': None,\n",
       " 'label_sampling_num_type': 'compare',\n",
       " 'label_sampling_num': {'NG': 1, 'OK': 2},\n",
       " 'sampling_groupkey_columns': 'groupkey',\n",
       " 'sampling_num_type': 'mingroup',\n",
       " 'sampling_num': 500}"
      ]
     },
     "execution_count": 25,
     "metadata": {},
     "output_type": "execute_result"
    }
   ],
   "source": [
    "sampling_args"
   ]
  },
  {
   "cell_type": "markdown",
   "id": "e68d4641-5a92-49d5-8a08-e86515d265b7",
   "metadata": {},
   "source": [
    "- sampling asset을 구동합니다"
   ]
  },
  {
   "cell_type": "code",
   "execution_count": 26,
   "id": "b3779244-1210-4f03-8068-dc525ae24583",
   "metadata": {
    "tags": []
   },
   "outputs": [
    {
     "name": "stdout",
     "output_type": "stream",
     "text": [
      "\u001b[94m[2023-11-16 01:45:32,981][ASSET][INFO][train_pipeline][sampling]: \n",
      "\n",
      "============================= ASSET START =============================\n",
      "- time (UTC)        : 2023-11-16 01:45:32\n",
      "- current step      : sampling\n",
      "- asset branch.     : release-1.2\n",
      "- alolib ver.       : 2.0\n",
      "- alo ver.          : release-2.0\n",
      "- load envs. keys   : dict_keys(['project_home', 'pipeline', 'step', 'num_step', 'artifacts', 'alo_version', 'asset_branch', 'interface_mode', 'load_data', 'load_config', 'save_data', 'save_config', 'log_file_path', 'prev_step'])\n",
      "- load args. keys   : dict_keys(['sampling_type', 'sampling_method', 'label_sampling', 'ignore_label_class', 'negative_target_class', 'label_sampling_num_type', 'label_sampling_num', 'sampling_groupkey_columns', 'sampling_num_type', 'sampling_num'])\n",
      "- load config. keys : dict_keys(['meta', 'data_source_type', 'time_format', 'time_column', 'x_columns', 'input_path', 'group_cnt', 'group_keys', 'y_column', 'input_asset_df_path', 'ignore_columns', 'sampling_type', 'sampling_method', 'label_sampling', 'sampling_groupkey_columns', 'sampling_num_type', 'sampling_num', 'ignore_class', 'negative_target_class', 'label_sampling_num_type', 'label_sampling_num'])\n",
      "- load data keys    : dict_keys(['dataframe'])\n",
      "=======================================================================\n",
      "\n",
      "\u001b[0m\n",
      "\u001b[92m[2023-11-16 01:45:32,984][ASSET][INFO][train_pipeline][sampling]: Successfully got model path for saving or loading your AI model: \n",
      " /home/jovyan/project/alo_test/tcr/alo/.train_artifacts/models/sampling/\u001b[0m\n",
      "load configs 0.00165 sec\n",
      "make groupkey dataframe 0.01162 sec\n",
      "groupkey:('OK', 'g3'), 55개 sampling 시작\n",
      "groupkey:('OK', 'g1'), 55개 sampling 시작\n",
      "groupkey:('OK', 'g2'), 55개 sampling 시작\n",
      "sampling process done 0.00185 sec\n",
      "sampling asset 종료\n",
      "\u001b[94m[2023-11-16 01:45:33,007][ASSET][INFO][train_pipeline][sampling]: \n",
      "\n",
      "============================= ASSET FINISH ===========================\n",
      "- time (UTC)        : 2023-11-16 01:45:33\n",
      "- current step      : sampling\n",
      "- save config. keys : dict_keys(['meta', 'data_source_type', 'time_format', 'time_column', 'x_columns', 'input_path', 'group_cnt', 'group_keys', 'y_column', 'input_asset_df_path', 'ignore_columns', 'sampling_type', 'sampling_method', 'label_sampling', 'sampling_groupkey_columns', 'sampling_num_type', 'sampling_num', 'ignore_class', 'negative_target_class', 'label_sampling_num_type', 'label_sampling_num'])\n",
      "- save data keys    : dict_keys(['dataframe'])\n",
      "=======================================================================\n",
      "\n",
      "\u001b[0m\n",
      "\u001b[94m[2023-11-16 01:45:33,008][PROCESS][INFO]: ==================== Finish pipeline: train_pipeline / step: sampling\u001b[0m\n"
     ]
    },
    {
     "name": "stderr",
     "output_type": "stream",
     "text": [
      "/home/jovyan/project/alo_test/tcr/alo/assets/sampling/asset_sampling.py:244: SettingWithCopyWarning: \n",
      "A value is trying to be set on a copy of a slice from a DataFrame\n",
      "\n",
      "See the caveats in the documentation: https://pandas.pydata.org/pandas-docs/stable/user_guide/indexing.html#returning-a-view-versus-a-copy\n",
      "  df['sampled'].loc[sampled_idx] = 1 # 'sampled' == 1일 때 sampling 된 것\n"
     ]
    }
   ],
   "source": [
    "wrapper.run(args=sampling_args, step=1)\n",
    "data_sampling = wrapper.data"
   ]
  },
  {
   "cell_type": "markdown",
   "id": "ef876eb9-9a80-47a1-b454-8703f8a68813",
   "metadata": {},
   "source": [
    "#### input data와 sampling 한 후 data shape 비교"
   ]
  },
  {
   "cell_type": "code",
   "execution_count": 27,
   "id": "56ae2707-edeb-4753-9718-1c5538214157",
   "metadata": {},
   "outputs": [
    {
     "data": {
      "text/plain": [
       "(10100, 36)"
      ]
     },
     "execution_count": 27,
     "metadata": {},
     "output_type": "execute_result"
    }
   ],
   "source": [
    "data_input['dataframe'].shape"
   ]
  },
  {
   "cell_type": "code",
   "execution_count": 28,
   "id": "108c8399-11e4-4d88-9860-b6fb9f0dcef6",
   "metadata": {},
   "outputs": [
    {
     "data": {
      "text/plain": [
       "label  groupkey\n",
       "OK     g2          3501\n",
       "       g3          3500\n",
       "       g1          2999\n",
       "NG     g3            35\n",
       "       g2            34\n",
       "       g1            31\n",
       "dtype: int64"
      ]
     },
     "execution_count": 28,
     "metadata": {},
     "output_type": "execute_result"
    }
   ],
   "source": [
    "data_input['dataframe'][[y_column,'groupkey']].value_counts()"
   ]
  },
  {
   "cell_type": "code",
   "execution_count": 29,
   "id": "7a8d013b-786d-4ba4-bf03-0e8c0bb1cd14",
   "metadata": {},
   "outputs": [
    {
     "data": {
      "text/plain": [
       "(247, 37)"
      ]
     },
     "execution_count": 29,
     "metadata": {},
     "output_type": "execute_result"
    }
   ],
   "source": [
    "data_sampling['dataframe'].shape"
   ]
  },
  {
   "cell_type": "code",
   "execution_count": 30,
   "id": "008c9b86-c2ef-4772-b3f5-0a49f322f766",
   "metadata": {},
   "outputs": [
    {
     "data": {
      "text/plain": [
       "label  groupkey\n",
       "OK     g1          55\n",
       "       g2          55\n",
       "       g3          55\n",
       "NG     g2          30\n",
       "       g1          26\n",
       "       g3          26\n",
       "dtype: int64"
      ]
     },
     "execution_count": 30,
     "metadata": {},
     "output_type": "execute_result"
    }
   ],
   "source": [
    "data_sampling['dataframe'][[y_column,'groupkey']].value_counts()"
   ]
  },
  {
   "cell_type": "code",
   "execution_count": 33,
   "id": "00cbccb7",
   "metadata": {},
   "outputs": [
    {
     "name": "stdout",
     "output_type": "stream",
     "text": [
      "\u001b[92m[2023-11-16 01:45:33,869][ASSET][INFO][train_pipeline][train]: Successfully got model path for saving or loading your AI model: \n",
      " /home/jovyan/project/alo_test/tcr/alo/.train_artifacts/models/train/\u001b[0m\n",
      "\u001b[92m[2023-11-16 01:45:33,887][ASSET][INFO][train_pipeline][train]: Successfully got << output path >> for saving your data into csv or jpg file: \n",
      " /home/jovyan/project/alo_test/tcr/alo/.train_artifacts/output/train/ \n",
      " - [NOTE] The names of output file must be fixed as << output.csv, output.jpg >> \u001b[0m\n",
      "\u001b[94m[2023-11-16 01:45:33,890][ASSET][INFO][train_pipeline][train]: \n",
      "\n",
      "============================= ASSET START =============================\n",
      "- time (UTC)        : 2023-11-16 01:45:33\n",
      "- current step      : train\n",
      "- asset branch.     : main\n",
      "- alolib ver.       : 2.0\n",
      "- alo ver.          : release-2.0\n",
      "- load envs. keys   : dict_keys(['project_home', 'pipeline', 'step', 'num_step', 'artifacts', 'alo_version', 'asset_branch', 'interface_mode', 'load_data', 'load_config', 'save_data', 'save_config', 'log_file_path', 'prev_step'])\n",
      "- load args. keys   : dict_keys(['model_type', 'data_split_method', 'evaluation_metric', 'model_list', 'num_hpo', 'param_range', 'shap_ratio'])\n",
      "- load config. keys : dict_keys(['meta', 'data_source_type', 'time_format', 'time_column', 'x_columns', 'input_path', 'group_cnt', 'group_keys', 'y_column', 'input_asset_df_path', 'ignore_columns', 'sampling_type', 'sampling_method', 'label_sampling', 'sampling_groupkey_columns', 'sampling_num_type', 'sampling_num', 'ignore_class', 'negative_target_class', 'label_sampling_num_type', 'label_sampling_num'])\n",
      "- load data keys    : dict_keys(['dataframe'])\n",
      "=======================================================================\n",
      "\n",
      "\u001b[0m\n",
      "\u001b[92m[2023-11-16 01:45:33,893][ASSET][INFO][train_pipeline][train]: Successfully got model path for saving or loading your AI model: \n",
      " /home/jovyan/project/alo_test/tcr/alo/.train_artifacts/models/train/\u001b[0m\n",
      "\u001b[92m[2023-11-16 01:45:33,896][ASSET][INFO][train_pipeline][train]: Successfully got << output path >> for saving your data into csv or jpg file: \n",
      " /home/jovyan/project/alo_test/tcr/alo/.train_artifacts/output/train/ \n",
      " - [NOTE] The names of output file must be fixed as << output.csv, output.jpg >> \u001b[0m\n",
      "\u001b[92m[2023-11-16 01:45:33,898][ASSET][INFO][train_pipeline][train]: Successfully got << report path >> for saving your << report.html >> file: \n",
      " /home/jovyan/project/alo_test/tcr/alo/.train_artifacts/report/\u001b[0m\n",
      "해당 column 은 Training 과정에 사용되지 않습니다. (column_name: ['path', 'A2', 'Ch2', 'Result', 'No', 'Label_FILE', 'A1', 'Time', 'Angle', 'Speed', 'Fastening Time', 'encoded_label', 'Error', 'sample_type', 'Snug Angle', 'Target Torque', 'Troque', 'Ch1', 'ng_type', 'groupkey', 'Screws', 'file_name', 'Unnamed: 0'])\n",
      "[INFO] 모델 학습을 시작합니다.\n"
     ]
    },
    {
     "name": "stderr",
     "output_type": "stream",
     "text": [
      "\n",
      "A value is trying to be set on a copy of a slice from a DataFrame\n",
      "\n",
      "See the caveats in the documentation: https://pandas.pydata.org/pandas-docs/stable/user_guide/indexing.html#returning-a-view-versus-a-copy\n",
      "\n",
      "A value is trying to be set on a copy of a slice from a DataFrame\n",
      "\n",
      "See the caveats in the documentation: https://pandas.pydata.org/pandas-docs/stable/user_guide/indexing.html#returning-a-view-versus-a-copy\n",
      "\n",
      "A value is trying to be set on a copy of a slice from a DataFrame\n",
      "\n",
      "See the caveats in the documentation: https://pandas.pydata.org/pandas-docs/stable/user_guide/indexing.html#returning-a-view-versus-a-copy\n",
      "\n",
      "A value is trying to be set on a copy of a slice from a DataFrame\n",
      "\n",
      "See the caveats in the documentation: https://pandas.pydata.org/pandas-docs/stable/user_guide/indexing.html#returning-a-view-versus-a-copy\n"
     ]
    },
    {
     "name": "stdout",
     "output_type": "stream",
     "text": [
      "[INFO] 0th-fold RandomForestClassifier_set0 모델을 학습합니다.(1/36)\n",
      "[INFO] 1th-fold RandomForestClassifier_set0 모델을 학습합니다.(2/36)\n",
      "[INFO] 2th-fold RandomForestClassifier_set0 모델을 학습합니다.(3/36)\n",
      "[INFO] 3th-fold RandomForestClassifier_set0 모델을 학습합니다.(4/36)\n",
      "[INFO] 0th-fold RandomForestClassifier_set1 모델을 학습합니다.(5/36)\n",
      "[INFO] 1th-fold RandomForestClassifier_set1 모델을 학습합니다.(6/36)\n",
      "[INFO] 2th-fold RandomForestClassifier_set1 모델을 학습합니다.(7/36)\n",
      "[INFO] 3th-fold RandomForestClassifier_set1 모델을 학습합니다.(8/36)\n",
      "[INFO] 0th-fold RandomForestClassifier_set2 모델을 학습합니다.(9/36)\n",
      "[INFO] 1th-fold RandomForestClassifier_set2 모델을 학습합니다.(10/36)\n",
      "[INFO] 2th-fold RandomForestClassifier_set2 모델을 학습합니다.(11/36)\n",
      "[INFO] 3th-fold RandomForestClassifier_set2 모델을 학습합니다.(12/36)\n",
      "[INFO] 0th-fold LGBMClassifier_set0 모델을 학습합니다.(13/36)\n",
      "[INFO] 1th-fold LGBMClassifier_set0 모델을 학습합니다.(14/36)\n",
      "[INFO] 2th-fold LGBMClassifier_set0 모델을 학습합니다.(15/36)\n",
      "[INFO] 3th-fold LGBMClassifier_set0 모델을 학습합니다.(16/36)\n",
      "[INFO] 0th-fold LGBMClassifier_set1 모델을 학습합니다.(17/36)\n",
      "[INFO] 1th-fold LGBMClassifier_set1 모델을 학습합니다.(18/36)\n",
      "[INFO] 2th-fold LGBMClassifier_set1 모델을 학습합니다.(19/36)\n",
      "[INFO] 3th-fold LGBMClassifier_set1 모델을 학습합니다.(20/36)\n",
      "[INFO] 0th-fold LGBMClassifier_set2 모델을 학습합니다.(21/36)\n",
      "[INFO] 1th-fold LGBMClassifier_set2 모델을 학습합니다.(22/36)\n",
      "[INFO] 2th-fold LGBMClassifier_set2 모델을 학습합니다.(23/36)\n",
      "[INFO] 3th-fold LGBMClassifier_set2 모델을 학습합니다.(24/36)\n",
      "[INFO] 0th-fold CatBoostClassifier_set0 모델을 학습합니다.(25/36)\n",
      "[INFO] 1th-fold CatBoostClassifier_set0 모델을 학습합니다.(26/36)\n",
      "[INFO] 2th-fold CatBoostClassifier_set0 모델을 학습합니다.(27/36)\n",
      "[INFO] 3th-fold CatBoostClassifier_set0 모델을 학습합니다.(28/36)\n",
      "[INFO] 0th-fold CatBoostClassifier_set1 모델을 학습합니다.(29/36)\n",
      "[INFO] 1th-fold CatBoostClassifier_set1 모델을 학습합니다.(30/36)\n",
      "[INFO] 2th-fold CatBoostClassifier_set1 모델을 학습합니다.(31/36)\n",
      "[INFO] 3th-fold CatBoostClassifier_set1 모델을 학습합니다.(32/36)\n",
      "[INFO] 0th-fold CatBoostClassifier_set2 모델을 학습합니다.(33/36)\n",
      "[INFO] 1th-fold CatBoostClassifier_set2 모델을 학습합니다.(34/36)\n",
      "[INFO] 2th-fold CatBoostClassifier_set2 모델을 학습합니다.(35/36)\n",
      "[INFO] 3th-fold CatBoostClassifier_set2 모델을 학습합니다.(36/36)\n",
      "@scoring_classification func. - label list: @scoring_classification func. - label list: @scoring_classification func. - label list: @scoring_classification func. - label list: @scoring_classification func. - label list: @scoring_classification func. - label list: @scoring_classification func. - label list: @scoring_classification func. - label list: @scoring_classification func. - label list:        {'NG', 'OK'}  {'NG', 'OK'}{'NG', 'OK'}{'NG', 'OK'}{'NG', 'OK'}{'NG', 'OK'}{'NG', 'OK'}\n",
      "{'NG', 'OK'}{'NG', 'OK'}\n",
      "\n",
      "\n",
      "\n",
      "\n",
      "\n",
      "\n",
      "\n"
     ]
    },
    {
     "name": "stderr",
     "output_type": "stream",
     "text": [
      "The frame.append method is deprecated and will be removed from pandas in a future version. Use pandas.concat instead.\n"
     ]
    },
    {
     "name": "stdout",
     "output_type": "stream",
     "text": [
      "\n",
      "================================================================================\n",
      "[INFO] 평가 지표는 ( accuracy ) 를 사용합니다. \n",
      "모델 정보 로그를 저장합니다. (저장위치: /home/jovyan/project/alo_test/tcr/alo/.train_artifacts/models/train/model_selection.json)\n",
      "\n",
      "Top 1 model file is saved: /home/jovyan/project/alo_test/tcr/alo/.train_artifacts/models/train/best_model_top0.pkl\n",
      "[Score] accuracy: 0.9676\n",
      "[Hyper-parameters] n_estimators: 500, max_depth: 9, verbose: 0, thread_count: 6, random_state: 1234, allow_writing_files: False, \n",
      "\n",
      "Top 2 model file is saved: /home/jovyan/project/alo_test/tcr/alo/.train_artifacts/models/train/best_model_top1.pkl\n",
      "[Score] accuracy: 0.9595\n",
      "[Hyper-parameters] n_estimators: 300, max_depth: 7, verbose: 0, thread_count: 6, random_state: 1234, allow_writing_files: False, \n",
      "\n",
      "Top 3 model file is saved: /home/jovyan/project/alo_test/tcr/alo/.train_artifacts/models/train/best_model_top2.pkl\n",
      "[Score] accuracy: 0.9514\n",
      "[Hyper-parameters] n_estimators: 300, max_depth: 7, n_jobs: 1, num_leaves: 30, verbose: -1, \n",
      "\n",
      "Following model is the best: CatBoostClassifier_set2 / accuracy:0.9676\n",
      "\n",
      "================================================================================\n",
      "\n",
      "[INFO] Summary_plot for Train data 를 저장했습니다.\n",
      "\n",
      "ignore columns와 X로 지정한 데이터 프레임을 합치는 과정중에 에러가 발생했습니다. 확인 부탁드립니다.\n",
      "\u001b[94m[2023-11-16 01:45:41,596][ASSET][INFO][train_pipeline][train]: \n",
      "\n",
      "============================= ASSET FINISH ===========================\n",
      "- time (UTC)        : 2023-11-16 01:45:41\n",
      "- current step      : train\n",
      "- save config. keys : dict_keys(['meta', 'data_source_type', 'time_format', 'time_column', 'x_columns', 'input_path', 'group_cnt', 'group_keys', 'y_column', 'input_asset_df_path', 'ignore_columns', 'sampling_type', 'sampling_method', 'label_sampling', 'sampling_groupkey_columns', 'sampling_num_type', 'sampling_num', 'ignore_class', 'negative_target_class', 'label_sampling_num_type', 'label_sampling_num', 'feature_dict'])\n",
      "- save data keys    : dict_keys(['dataframe'])\n",
      "=======================================================================\n",
      "\n",
      "\u001b[0m\n",
      "\u001b[94m[2023-11-16 01:45:41,598][PROCESS][INFO]: ==================== Finish pipeline: train_pipeline / step: train\u001b[0m\n"
     ]
    },
    {
     "data": {
      "image/png": "[encoded data removed]",
      "text/plain": [
       "<Figure size 2500x800 with 1 Axes>"
      ]
     },
     "metadata": {},
     "output_type": "display_data"
    }
   ],
   "source": [
    "wrapper.run(step=2)"
   ]
  },
  {
   "cell_type": "code",
   "execution_count": 35,
   "id": "6f441e26",
   "metadata": {},
   "outputs": [
    {
     "data": {
      "text/html": [
       "<div>\n",
       "<style scoped>\n",
       "    .dataframe tbody tr th:only-of-type {\n",
       "        vertical-align: middle;\n",
       "    }\n",
       "\n",
       "    .dataframe tbody tr th {\n",
       "        vertical-align: top;\n",
       "    }\n",
       "\n",
       "    .dataframe thead th {\n",
       "        text-align: right;\n",
       "    }\n",
       "</style>\n",
       "<table border=\"1\" class=\"dataframe\">\n",
       "  <thead>\n",
       "    <tr style=\"text-align: right;\">\n",
       "      <th></th>\n",
       "      <th>Converted Torque</th>\n",
       "      <th>Count</th>\n",
       "      <th>angle_max</th>\n",
       "      <th>angle_mean</th>\n",
       "      <th>angle_median</th>\n",
       "      <th>angle_min</th>\n",
       "      <th>angle_std</th>\n",
       "      <th>torque_max</th>\n",
       "      <th>torque_mean</th>\n",
       "      <th>torque_median</th>\n",
       "      <th>...</th>\n",
       "      <th>torque_min_shapley</th>\n",
       "      <th>torque_std_shapley</th>\n",
       "      <th>label</th>\n",
       "      <th>pred_label</th>\n",
       "      <th>pred_label_best0</th>\n",
       "      <th>pred_label_best1</th>\n",
       "      <th>pred_label_best2</th>\n",
       "      <th>prob_NG</th>\n",
       "      <th>prob_OK</th>\n",
       "      <th>train_test</th>\n",
       "    </tr>\n",
       "  </thead>\n",
       "  <tbody>\n",
       "    <tr>\n",
       "      <th>0</th>\n",
       "      <td>3.92</td>\n",
       "      <td>778.0</td>\n",
       "      <td>5171.0</td>\n",
       "      <td>2629.241645</td>\n",
       "      <td>2632.0</td>\n",
       "      <td>0.0</td>\n",
       "      <td>1575.762474</td>\n",
       "      <td>3.92</td>\n",
       "      <td>0.079357</td>\n",
       "      <td>0.03</td>\n",
       "      <td>...</td>\n",
       "      <td>-0.849533</td>\n",
       "      <td>-1.161644</td>\n",
       "      <td>NG</td>\n",
       "      <td>NG</td>\n",
       "      <td>NG</td>\n",
       "      <td>NG</td>\n",
       "      <td>NG</td>\n",
       "      <td>0.988580</td>\n",
       "      <td>0.011420</td>\n",
       "      <td>3th_test</td>\n",
       "    </tr>\n",
       "    <tr>\n",
       "      <th>1</th>\n",
       "      <td>2.81</td>\n",
       "      <td>536.0</td>\n",
       "      <td>4734.0</td>\n",
       "      <td>2549.557836</td>\n",
       "      <td>2835.5</td>\n",
       "      <td>0.0</td>\n",
       "      <td>1489.531701</td>\n",
       "      <td>2.80</td>\n",
       "      <td>0.917351</td>\n",
       "      <td>0.96</td>\n",
       "      <td>...</td>\n",
       "      <td>0.481250</td>\n",
       "      <td>0.176165</td>\n",
       "      <td>OK</td>\n",
       "      <td>OK</td>\n",
       "      <td>OK</td>\n",
       "      <td>OK</td>\n",
       "      <td>OK</td>\n",
       "      <td>0.017197</td>\n",
       "      <td>0.982803</td>\n",
       "      <td>2th_test</td>\n",
       "    </tr>\n",
       "    <tr>\n",
       "      <th>2</th>\n",
       "      <td>3.52</td>\n",
       "      <td>395.0</td>\n",
       "      <td>3026.0</td>\n",
       "      <td>1582.093671</td>\n",
       "      <td>1688.0</td>\n",
       "      <td>0.0</td>\n",
       "      <td>969.442990</td>\n",
       "      <td>3.42</td>\n",
       "      <td>0.177139</td>\n",
       "      <td>0.04</td>\n",
       "      <td>...</td>\n",
       "      <td>0.553980</td>\n",
       "      <td>0.703938</td>\n",
       "      <td>OK</td>\n",
       "      <td>OK</td>\n",
       "      <td>OK</td>\n",
       "      <td>OK</td>\n",
       "      <td>OK</td>\n",
       "      <td>0.012690</td>\n",
       "      <td>0.987310</td>\n",
       "      <td>3th_test</td>\n",
       "    </tr>\n",
       "    <tr>\n",
       "      <th>3</th>\n",
       "      <td>6.08</td>\n",
       "      <td>503.0</td>\n",
       "      <td>4651.0</td>\n",
       "      <td>2470.242545</td>\n",
       "      <td>2570.0</td>\n",
       "      <td>0.0</td>\n",
       "      <td>1544.355872</td>\n",
       "      <td>6.06</td>\n",
       "      <td>1.083837</td>\n",
       "      <td>0.96</td>\n",
       "      <td>...</td>\n",
       "      <td>-0.064110</td>\n",
       "      <td>0.234920</td>\n",
       "      <td>OK</td>\n",
       "      <td>OK</td>\n",
       "      <td>OK</td>\n",
       "      <td>OK</td>\n",
       "      <td>OK</td>\n",
       "      <td>0.005016</td>\n",
       "      <td>0.994984</td>\n",
       "      <td>3th_test</td>\n",
       "    </tr>\n",
       "    <tr>\n",
       "      <th>4</th>\n",
       "      <td>6.02</td>\n",
       "      <td>491.0</td>\n",
       "      <td>4590.0</td>\n",
       "      <td>2414.044807</td>\n",
       "      <td>2498.0</td>\n",
       "      <td>0.0</td>\n",
       "      <td>1519.751635</td>\n",
       "      <td>6.01</td>\n",
       "      <td>1.388452</td>\n",
       "      <td>1.33</td>\n",
       "      <td>...</td>\n",
       "      <td>-0.096381</td>\n",
       "      <td>0.357736</td>\n",
       "      <td>OK</td>\n",
       "      <td>OK</td>\n",
       "      <td>OK</td>\n",
       "      <td>OK</td>\n",
       "      <td>OK</td>\n",
       "      <td>0.005913</td>\n",
       "      <td>0.994087</td>\n",
       "      <td>3th_test</td>\n",
       "    </tr>\n",
       "    <tr>\n",
       "      <th>...</th>\n",
       "      <td>...</td>\n",
       "      <td>...</td>\n",
       "      <td>...</td>\n",
       "      <td>...</td>\n",
       "      <td>...</td>\n",
       "      <td>...</td>\n",
       "      <td>...</td>\n",
       "      <td>...</td>\n",
       "      <td>...</td>\n",
       "      <td>...</td>\n",
       "      <td>...</td>\n",
       "      <td>...</td>\n",
       "      <td>...</td>\n",
       "      <td>...</td>\n",
       "      <td>...</td>\n",
       "      <td>...</td>\n",
       "      <td>...</td>\n",
       "      <td>...</td>\n",
       "      <td>...</td>\n",
       "      <td>...</td>\n",
       "      <td>...</td>\n",
       "    </tr>\n",
       "    <tr>\n",
       "      <th>242</th>\n",
       "      <td>2.80</td>\n",
       "      <td>540.0</td>\n",
       "      <td>4535.0</td>\n",
       "      <td>2484.588889</td>\n",
       "      <td>2725.5</td>\n",
       "      <td>0.0</td>\n",
       "      <td>1440.034405</td>\n",
       "      <td>2.80</td>\n",
       "      <td>1.112611</td>\n",
       "      <td>1.18</td>\n",
       "      <td>...</td>\n",
       "      <td>0.484429</td>\n",
       "      <td>0.327478</td>\n",
       "      <td>OK</td>\n",
       "      <td>OK</td>\n",
       "      <td>OK</td>\n",
       "      <td>OK</td>\n",
       "      <td>OK</td>\n",
       "      <td>0.038177</td>\n",
       "      <td>0.961823</td>\n",
       "      <td>1th_test</td>\n",
       "    </tr>\n",
       "    <tr>\n",
       "      <th>243</th>\n",
       "      <td>0.10</td>\n",
       "      <td>80.0</td>\n",
       "      <td>232.0</td>\n",
       "      <td>95.950000</td>\n",
       "      <td>52.0</td>\n",
       "      <td>0.0</td>\n",
       "      <td>94.888342</td>\n",
       "      <td>0.09</td>\n",
       "      <td>0.075000</td>\n",
       "      <td>0.08</td>\n",
       "      <td>...</td>\n",
       "      <td>0.071072</td>\n",
       "      <td>-0.813541</td>\n",
       "      <td>NG</td>\n",
       "      <td>NG</td>\n",
       "      <td>NG</td>\n",
       "      <td>NG</td>\n",
       "      <td>NG</td>\n",
       "      <td>0.990688</td>\n",
       "      <td>0.009312</td>\n",
       "      <td>1th_test</td>\n",
       "    </tr>\n",
       "    <tr>\n",
       "      <th>244</th>\n",
       "      <td>3.50</td>\n",
       "      <td>523.0</td>\n",
       "      <td>2331.0</td>\n",
       "      <td>923.292543</td>\n",
       "      <td>690.0</td>\n",
       "      <td>0.0</td>\n",
       "      <td>741.466750</td>\n",
       "      <td>3.47</td>\n",
       "      <td>0.237935</td>\n",
       "      <td>0.09</td>\n",
       "      <td>...</td>\n",
       "      <td>0.402070</td>\n",
       "      <td>0.631497</td>\n",
       "      <td>OK</td>\n",
       "      <td>OK</td>\n",
       "      <td>OK</td>\n",
       "      <td>OK</td>\n",
       "      <td>OK</td>\n",
       "      <td>0.008319</td>\n",
       "      <td>0.991681</td>\n",
       "      <td>1th_test</td>\n",
       "    </tr>\n",
       "    <tr>\n",
       "      <th>245</th>\n",
       "      <td>4.01</td>\n",
       "      <td>483.0</td>\n",
       "      <td>2452.0</td>\n",
       "      <td>1042.809524</td>\n",
       "      <td>943.0</td>\n",
       "      <td>0.0</td>\n",
       "      <td>753.785399</td>\n",
       "      <td>3.97</td>\n",
       "      <td>0.403043</td>\n",
       "      <td>0.25</td>\n",
       "      <td>...</td>\n",
       "      <td>0.271620</td>\n",
       "      <td>0.525722</td>\n",
       "      <td>OK</td>\n",
       "      <td>OK</td>\n",
       "      <td>OK</td>\n",
       "      <td>OK</td>\n",
       "      <td>OK</td>\n",
       "      <td>0.007119</td>\n",
       "      <td>0.992881</td>\n",
       "      <td>2th_test</td>\n",
       "    </tr>\n",
       "    <tr>\n",
       "      <th>246</th>\n",
       "      <td>0.25</td>\n",
       "      <td>4.0</td>\n",
       "      <td>0.0</td>\n",
       "      <td>0.000000</td>\n",
       "      <td>0.0</td>\n",
       "      <td>0.0</td>\n",
       "      <td>0.000000</td>\n",
       "      <td>0.24</td>\n",
       "      <td>0.180000</td>\n",
       "      <td>0.24</td>\n",
       "      <td>...</td>\n",
       "      <td>0.050143</td>\n",
       "      <td>-0.660598</td>\n",
       "      <td>NG</td>\n",
       "      <td>NG</td>\n",
       "      <td>NG</td>\n",
       "      <td>NG</td>\n",
       "      <td>NG</td>\n",
       "      <td>0.981401</td>\n",
       "      <td>0.018599</td>\n",
       "      <td>2th_test</td>\n",
       "    </tr>\n",
       "  </tbody>\n",
       "</table>\n",
       "<p>247 rows × 32 columns</p>\n",
       "</div>"
      ],
      "text/plain": [
       "     Converted Torque  Count  angle_max   angle_mean  angle_median  angle_min  \\\n",
       "0                3.92  778.0     5171.0  2629.241645        2632.0        0.0   \n",
       "1                2.81  536.0     4734.0  2549.557836        2835.5        0.0   \n",
       "2                3.52  395.0     3026.0  1582.093671        1688.0        0.0   \n",
       "3                6.08  503.0     4651.0  2470.242545        2570.0        0.0   \n",
       "4                6.02  491.0     4590.0  2414.044807        2498.0        0.0   \n",
       "..                ...    ...        ...          ...           ...        ...   \n",
       "242              2.80  540.0     4535.0  2484.588889        2725.5        0.0   \n",
       "243              0.10   80.0      232.0    95.950000          52.0        0.0   \n",
       "244              3.50  523.0     2331.0   923.292543         690.0        0.0   \n",
       "245              4.01  483.0     2452.0  1042.809524         943.0        0.0   \n",
       "246              0.25    4.0        0.0     0.000000           0.0        0.0   \n",
       "\n",
       "       angle_std  torque_max  torque_mean  torque_median  ...  \\\n",
       "0    1575.762474        3.92     0.079357           0.03  ...   \n",
       "1    1489.531701        2.80     0.917351           0.96  ...   \n",
       "2     969.442990        3.42     0.177139           0.04  ...   \n",
       "3    1544.355872        6.06     1.083837           0.96  ...   \n",
       "4    1519.751635        6.01     1.388452           1.33  ...   \n",
       "..           ...         ...          ...            ...  ...   \n",
       "242  1440.034405        2.80     1.112611           1.18  ...   \n",
       "243    94.888342        0.09     0.075000           0.08  ...   \n",
       "244   741.466750        3.47     0.237935           0.09  ...   \n",
       "245   753.785399        3.97     0.403043           0.25  ...   \n",
       "246     0.000000        0.24     0.180000           0.24  ...   \n",
       "\n",
       "     torque_min_shapley  torque_std_shapley  label  pred_label  \\\n",
       "0             -0.849533           -1.161644     NG          NG   \n",
       "1              0.481250            0.176165     OK          OK   \n",
       "2              0.553980            0.703938     OK          OK   \n",
       "3             -0.064110            0.234920     OK          OK   \n",
       "4             -0.096381            0.357736     OK          OK   \n",
       "..                  ...                 ...    ...         ...   \n",
       "242            0.484429            0.327478     OK          OK   \n",
       "243            0.071072           -0.813541     NG          NG   \n",
       "244            0.402070            0.631497     OK          OK   \n",
       "245            0.271620            0.525722     OK          OK   \n",
       "246            0.050143           -0.660598     NG          NG   \n",
       "\n",
       "     pred_label_best0  pred_label_best1  pred_label_best2   prob_NG   prob_OK  \\\n",
       "0                  NG                NG                NG  0.988580  0.011420   \n",
       "1                  OK                OK                OK  0.017197  0.982803   \n",
       "2                  OK                OK                OK  0.012690  0.987310   \n",
       "3                  OK                OK                OK  0.005016  0.994984   \n",
       "4                  OK                OK                OK  0.005913  0.994087   \n",
       "..                ...               ...               ...       ...       ...   \n",
       "242                OK                OK                OK  0.038177  0.961823   \n",
       "243                NG                NG                NG  0.990688  0.009312   \n",
       "244                OK                OK                OK  0.008319  0.991681   \n",
       "245                OK                OK                OK  0.007119  0.992881   \n",
       "246                NG                NG                NG  0.981401  0.018599   \n",
       "\n",
       "     train_test  \n",
       "0      3th_test  \n",
       "1      2th_test  \n",
       "2      3th_test  \n",
       "3      3th_test  \n",
       "4      3th_test  \n",
       "..          ...  \n",
       "242    1th_test  \n",
       "243    1th_test  \n",
       "244    1th_test  \n",
       "245    2th_test  \n",
       "246    2th_test  \n",
       "\n",
       "[247 rows x 32 columns]"
      ]
     },
     "execution_count": 35,
     "metadata": {},
     "output_type": "execute_result"
    }
   ],
   "source": [
    "wrapper.data['dataframe']"
   ]
  },
  {
   "cell_type": "code",
   "execution_count": null,
   "id": "2b44fdc7",
   "metadata": {},
   "outputs": [],
   "source": []
  }
 ],
 "metadata": {
  "kernelspec": {
   "display_name": "tcr_test",
   "language": "python",
   "name": "tcr_test"
  },
  "language_info": {
   "codemirror_mode": {
    "name": "ipython",
    "version": 3
   },
   "file_extension": ".py",
   "mimetype": "text/x-python",
   "name": "python",
   "nbconvert_exporter": "python",
   "pygments_lexer": "ipython3",
   "version": "3.10.13"
  }
 },
 "nbformat": 4,
 "nbformat_minor": 5
}
